{
 "cells": [
  {
   "cell_type": "markdown",
   "metadata": {},
   "source": [
    "# Exploratory Data Analysis using BeakerX - Apple, Inc. (AAPL):\n",
    "\n",
    "http://nbviewer.jupyter.org/github/twosigma/beakerx/blob/master/doc/python/ChartingAPI.ipynb\n",
    "\n",
    "http://beakerx.com/documentation\n",
    "\n",
    "------\n",
    "\n",
    "## Importing Libraries:"
   ]
  },
  {
   "cell_type": "code",
   "execution_count": 1,
   "metadata": {},
   "outputs": [],
   "source": [
    "from beakerx import *\n",
    "import pandas as pd\n",
    "import numpy as np\n",
    "\n",
    "import datetime\n",
    "\n",
    "import quandl\n",
    "quandl.ApiConfig.api_key = \"9tQnPMV9zakeCm4K6S5X\""
   ]
  },
  {
   "cell_type": "markdown",
   "metadata": {},
   "source": [
    "-------\n",
    "\n",
    "## Importing the Data:"
   ]
  },
  {
   "cell_type": "code",
   "execution_count": 2,
   "metadata": {},
   "outputs": [
    {
     "name": "stdout",
     "output_type": "stream",
     "text": [
      "Apple_clean.csv        dow_quandle.csv        jpm_quandle.csv\r\n",
      "EOD-datasets-codes.csv facebook_quandle.csv   microsoft_quandle.csv\r\n",
      "apple.csv              google_quandle.csv     moodys_quandle.csv\r\n",
      "apple_quandle.csv      gs_quandle.csv         twitter_quandle.csv\r\n",
      "blackrock_quandle.csv  ibm_quandle.csv\r\n"
     ]
    }
   ],
   "source": [
    "! ls data"
   ]
  },
  {
   "cell_type": "code",
   "execution_count": 13,
   "metadata": {},
   "outputs": [],
   "source": [
    "company_name = 'Apple'"
   ]
  },
  {
   "cell_type": "code",
   "execution_count": 14,
   "metadata": {},
   "outputs": [
    {
     "data": {
      "application/vnd.jupyter.widget-view+json": {
       "model_id": "c43ddf84cb294fca94fc37c69188305e",
       "version_major": 2,
       "version_minor": 0
      }
     },
     "metadata": {},
     "output_type": "display_data"
    }
   ],
   "source": [
    "df = pd.read_csv(f'data/{company_name}_clean.csv')\n",
    "df.head()"
   ]
  },
  {
   "cell_type": "code",
   "execution_count": null,
   "metadata": {},
   "outputs": [],
   "source": []
  },
  {
   "cell_type": "markdown",
   "metadata": {},
   "source": [
    "---\n",
    "\n",
    "# Interactive Visualization for Open, Close, High & Low:"
   ]
  },
  {
   "cell_type": "code",
   "execution_count": 4,
   "metadata": {},
   "outputs": [
    {
     "data": {
      "application/vnd.jupyter.widget-view+json": {
       "model_id": "0ed25e3762e5427e824c216b97640a15",
       "version_major": 2,
       "version_minor": 0
      }
     },
     "metadata": {},
     "output_type": "display_data"
    }
   ],
   "source": [
    "SimpleTimePlot(df, [\"Open_Apple\", \"Close_Apple\", \"High_Apple\", \"Low_Apple\"],\n",
    "               timeColumn=\"Timeline\",\n",
    "               yLabel=\"Price ($)\", \n",
    "               displayNames=[\"Open Price\", \"Close Price\", \"High Price\", \"Low Price\"],\n",
    "               colors = [[255, 154, 54], Color.blue],\n",
    "               displayLines=False,\n",
    "               displayPoints=True,\n",
    "               title=\"Historical Equity Price - Apple, Inc.\")"
   ]
  },
  {
   "cell_type": "markdown",
   "metadata": {},
   "source": [
    "------\n",
    "# Interactive Visualization for Adjusted Prices - Open, Close, High, & Low:"
   ]
  },
  {
   "cell_type": "code",
   "execution_count": 5,
   "metadata": {},
   "outputs": [
    {
     "data": {
      "application/vnd.jupyter.widget-view+json": {
       "model_id": "d4eff4781f9e4e8a9517888f83f3a032",
       "version_major": 2,
       "version_minor": 0
      }
     },
     "metadata": {},
     "output_type": "display_data"
    }
   ],
   "source": [
    "SimpleTimePlot(df, [\"Adj_Open_Apple\", \"Adj_Close_Apple\", \"Adj_High_Apple\", \"Adj_Low_Apple\"],\n",
    "               timeColumn=\"Timeline\",\n",
    "               yLabel=\"Price\", \n",
    "               displayNames=[\"Adjusted Open Price\", \"Adjusted Close Price\", \"Adjusted High Price\", \"Adjusted Low Price\"],\n",
    "               colors = [[255, 154, 54], Color.blue],\n",
    "               displayLines=False,\n",
    "               displayPoints=True,\n",
    "               title=\"Historical Adjusted Equity Price - Apple, Inc.\")"
   ]
  },
  {
   "cell_type": "code",
   "execution_count": null,
   "metadata": {},
   "outputs": [],
   "source": [
    "SimpleTimePlot(df, [\"Adj_Open_Apple\", \"Adj_Close_Apple\", \"Adj_High_Apple\", \"Adj_Low_Apple\"],\n",
    "               timeColumn=\"Timeline\",\n",
    "               yLabel=\"Price\", \n",
    "               displayNames=[\"Adjusted Open Price\", \"Adjusted Close Price\", \"Adjusted High Price\", \"Adjusted Low Price\"],\n",
    "               colors = [[255, 154, 54], Color.blue],\n",
    "               displayLines=False,\n",
    "               displayPoints=True,\n",
    "               title=\"Historical Adjusted Equity Price - Apple, Inc.\")"
   ]
  },
  {
   "cell_type": "code",
   "execution_count": null,
   "metadata": {},
   "outputs": [],
   "source": []
  }
 ],
 "metadata": {
  "kernelspec": {
   "display_name": "Python 3",
   "language": "python",
   "name": "python3"
  },
  "language_info": {
   "codemirror_mode": {
    "name": "ipython",
    "version": 3
   },
   "file_extension": ".py",
   "mimetype": "text/x-python",
   "name": "python",
   "nbconvert_exporter": "python",
   "pygments_lexer": "ipython3",
   "version": "3.6.5"
  },
  "toc": {
   "base_numbering": 1,
   "nav_menu": {},
   "number_sections": false,
   "sideBar": false,
   "skip_h1_title": false,
   "title_cell": "Table of Contents",
   "title_sidebar": "Contents",
   "toc_cell": false,
   "toc_position": {},
   "toc_section_display": false,
   "toc_window_display": false
  }
 },
 "nbformat": 4,
 "nbformat_minor": 2
}
