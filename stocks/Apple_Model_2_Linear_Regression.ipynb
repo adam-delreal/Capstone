{
 "cells": [
  {
   "cell_type": "markdown",
   "metadata": {},
   "source": [
    "# Apple, Inc. (AAPL) - Linear Regression Models:\n",
    "\n",
    "\n",
    "### Overview: \n",
    "- 1) Importing the data.\n",
    "- 2) Data Preprocessing.\n",
    "- 3) Splitting the data into a Training and Testing Set\n",
    "- 4) Normalizing the data.\n",
    "- 5) Modeling.\n",
    "\n",
    "\n",
    "## Importing Libraries:"
   ]
  },
  {
   "cell_type": "code",
   "execution_count": 2,
   "metadata": {},
   "outputs": [],
   "source": [
    "import pandas as pd\n",
    "import numpy as np\n",
    "import matplotlib.pyplot as plt \n",
    "import seaborn as sns\n",
    "\n",
    "from datetime import datetime\n",
    "\n",
    "from sklearn.linear_model import LinearRegression\n",
    "from sklearn.preprocessing import MinMaxScaler\n",
    "from sklearn.decomposition import PCA\n",
    "from sklearn.ensemble import BaggingRegressor, GradientBoostingRegressor, AdaBoostRegressor\n",
    "\n",
    "%matplotlib inline\n",
    "%config InlineBackend.figure_format = 'retina'\n",
    "\n",
    "import sys\n",
    "sys.path.append('..')"
   ]
  },
  {
   "cell_type": "markdown",
   "metadata": {},
   "source": [
    "-----\n",
    "\n",
    "## Company Name"
   ]
  },
  {
   "cell_type": "code",
   "execution_count": 3,
   "metadata": {},
   "outputs": [],
   "source": [
    "company_name = 'Apple'"
   ]
  },
  {
   "cell_type": "markdown",
   "metadata": {},
   "source": [
    "------\n",
    "\n",
    "## Importing the Data:"
   ]
  },
  {
   "cell_type": "code",
   "execution_count": 4,
   "metadata": {},
   "outputs": [],
   "source": [
    "from lib.helper import data_importer"
   ]
  },
  {
   "cell_type": "code",
   "execution_count": 5,
   "metadata": {},
   "outputs": [],
   "source": [
    "df = data_importer(company_name)"
   ]
  },
  {
   "cell_type": "markdown",
   "metadata": {},
   "source": [
    "### Taking a Look at the Data:"
   ]
  },
  {
   "cell_type": "code",
   "execution_count": 6,
   "metadata": {},
   "outputs": [
    {
     "data": {
      "text/html": [
       "<div>\n",
       "<style scoped>\n",
       "    .dataframe tbody tr th:only-of-type {\n",
       "        vertical-align: middle;\n",
       "    }\n",
       "\n",
       "    .dataframe tbody tr th {\n",
       "        vertical-align: top;\n",
       "    }\n",
       "\n",
       "    .dataframe thead th {\n",
       "        text-align: right;\n",
       "    }\n",
       "</style>\n",
       "<table border=\"1\" class=\"dataframe\">\n",
       "  <thead>\n",
       "    <tr style=\"text-align: right;\">\n",
       "      <th></th>\n",
       "      <th>Open</th>\n",
       "      <th>High</th>\n",
       "      <th>Low</th>\n",
       "      <th>Close</th>\n",
       "      <th>Volume</th>\n",
       "      <th>Ex_Dividend</th>\n",
       "      <th>Split_Ratio</th>\n",
       "      <th>Adj_Open</th>\n",
       "      <th>Adj_High</th>\n",
       "      <th>Adj_Low</th>\n",
       "      <th>Adj_Close</th>\n",
       "      <th>Adj_Volume</th>\n",
       "    </tr>\n",
       "    <tr>\n",
       "      <th>Date</th>\n",
       "      <th></th>\n",
       "      <th></th>\n",
       "      <th></th>\n",
       "      <th></th>\n",
       "      <th></th>\n",
       "      <th></th>\n",
       "      <th></th>\n",
       "      <th></th>\n",
       "      <th></th>\n",
       "      <th></th>\n",
       "      <th></th>\n",
       "      <th></th>\n",
       "    </tr>\n",
       "  </thead>\n",
       "  <tbody>\n",
       "    <tr>\n",
       "      <th>1980-12-12</th>\n",
       "      <td>28.75</td>\n",
       "      <td>28.87</td>\n",
       "      <td>28.75</td>\n",
       "      <td>28.75</td>\n",
       "      <td>2093900.0</td>\n",
       "      <td>0.0</td>\n",
       "      <td>1.0</td>\n",
       "      <td>0.422706</td>\n",
       "      <td>0.424470</td>\n",
       "      <td>0.422706</td>\n",
       "      <td>0.422706</td>\n",
       "      <td>117258400.0</td>\n",
       "    </tr>\n",
       "    <tr>\n",
       "      <th>1980-12-15</th>\n",
       "      <td>27.38</td>\n",
       "      <td>27.38</td>\n",
       "      <td>27.25</td>\n",
       "      <td>27.25</td>\n",
       "      <td>785200.0</td>\n",
       "      <td>0.0</td>\n",
       "      <td>1.0</td>\n",
       "      <td>0.402563</td>\n",
       "      <td>0.402563</td>\n",
       "      <td>0.400652</td>\n",
       "      <td>0.400652</td>\n",
       "      <td>43971200.0</td>\n",
       "    </tr>\n",
       "    <tr>\n",
       "      <th>1980-12-16</th>\n",
       "      <td>25.37</td>\n",
       "      <td>25.37</td>\n",
       "      <td>25.25</td>\n",
       "      <td>25.25</td>\n",
       "      <td>472000.0</td>\n",
       "      <td>0.0</td>\n",
       "      <td>1.0</td>\n",
       "      <td>0.373010</td>\n",
       "      <td>0.373010</td>\n",
       "      <td>0.371246</td>\n",
       "      <td>0.371246</td>\n",
       "      <td>26432000.0</td>\n",
       "    </tr>\n",
       "  </tbody>\n",
       "</table>\n",
       "</div>"
      ],
      "text/plain": [
       "             Open   High    Low  Close     Volume  Ex_Dividend  Split_Ratio  \\\n",
       "Date                                                                          \n",
       "1980-12-12  28.75  28.87  28.75  28.75  2093900.0          0.0          1.0   \n",
       "1980-12-15  27.38  27.38  27.25  27.25   785200.0          0.0          1.0   \n",
       "1980-12-16  25.37  25.37  25.25  25.25   472000.0          0.0          1.0   \n",
       "\n",
       "            Adj_Open  Adj_High   Adj_Low  Adj_Close   Adj_Volume  \n",
       "Date                                                              \n",
       "1980-12-12  0.422706  0.424470  0.422706   0.422706  117258400.0  \n",
       "1980-12-15  0.402563  0.402563  0.400652   0.400652   43971200.0  \n",
       "1980-12-16  0.373010  0.373010  0.371246   0.371246   26432000.0  "
      ]
     },
     "execution_count": 6,
     "metadata": {},
     "output_type": "execute_result"
    }
   ],
   "source": [
    "df.head(3)"
   ]
  },
  {
   "cell_type": "markdown",
   "metadata": {},
   "source": [
    "-----\n",
    "\n",
    "## Importing the Time-Shifted Data Set:"
   ]
  },
  {
   "cell_type": "code",
   "execution_count": 7,
   "metadata": {},
   "outputs": [],
   "source": [
    "from lib.helper import df_shift_importer"
   ]
  },
  {
   "cell_type": "code",
   "execution_count": 8,
   "metadata": {},
   "outputs": [],
   "source": [
    "df_shift = df_shift_importer(company_name)"
   ]
  },
  {
   "cell_type": "markdown",
   "metadata": {},
   "source": [
    "### Taking a Look at the Shifted Dataframe:"
   ]
  },
  {
   "cell_type": "code",
   "execution_count": 9,
   "metadata": {},
   "outputs": [
    {
     "data": {
      "text/html": [
       "<div>\n",
       "<style scoped>\n",
       "    .dataframe tbody tr th:only-of-type {\n",
       "        vertical-align: middle;\n",
       "    }\n",
       "\n",
       "    .dataframe tbody tr th {\n",
       "        vertical-align: top;\n",
       "    }\n",
       "\n",
       "    .dataframe thead th {\n",
       "        text-align: right;\n",
       "    }\n",
       "</style>\n",
       "<table border=\"1\" class=\"dataframe\">\n",
       "  <thead>\n",
       "    <tr style=\"text-align: right;\">\n",
       "      <th></th>\n",
       "      <th>Open</th>\n",
       "      <th>High</th>\n",
       "      <th>Low</th>\n",
       "      <th>Close</th>\n",
       "      <th>Volume</th>\n",
       "      <th>Ex_Dividend</th>\n",
       "      <th>Split_Ratio</th>\n",
       "      <th>Adj_Open</th>\n",
       "      <th>Adj_High</th>\n",
       "      <th>Adj_Low</th>\n",
       "      <th>...</th>\n",
       "      <th>Low_Long_EMA</th>\n",
       "      <th>Close_Long_EMA</th>\n",
       "      <th>Volume_Long_EMA</th>\n",
       "      <th>Ex_Dividend_Long_EMA</th>\n",
       "      <th>Split_Ratio_Long_EMA</th>\n",
       "      <th>Adj_Open_Long_EMA</th>\n",
       "      <th>Adj_High_Long_EMA</th>\n",
       "      <th>Adj_Low_Long_EMA</th>\n",
       "      <th>Adj_Close_Long_EMA</th>\n",
       "      <th>Adj_Volume_Long_EMA</th>\n",
       "    </tr>\n",
       "    <tr>\n",
       "      <th>Date</th>\n",
       "      <th></th>\n",
       "      <th></th>\n",
       "      <th></th>\n",
       "      <th></th>\n",
       "      <th></th>\n",
       "      <th></th>\n",
       "      <th></th>\n",
       "      <th></th>\n",
       "      <th></th>\n",
       "      <th></th>\n",
       "      <th></th>\n",
       "      <th></th>\n",
       "      <th></th>\n",
       "      <th></th>\n",
       "      <th></th>\n",
       "      <th></th>\n",
       "      <th></th>\n",
       "      <th></th>\n",
       "      <th></th>\n",
       "      <th></th>\n",
       "      <th></th>\n",
       "    </tr>\n",
       "  </thead>\n",
       "  <tbody>\n",
       "    <tr>\n",
       "      <th>1981-04-15</th>\n",
       "      <td>27.88</td>\n",
       "      <td>28.00</td>\n",
       "      <td>27.88</td>\n",
       "      <td>27.88</td>\n",
       "      <td>29700.0</td>\n",
       "      <td>0.0</td>\n",
       "      <td>1.0</td>\n",
       "      <td>0.409914</td>\n",
       "      <td>0.411679</td>\n",
       "      <td>0.409914</td>\n",
       "      <td>...</td>\n",
       "      <td>27.100545</td>\n",
       "      <td>27.100545</td>\n",
       "      <td>395955.964908</td>\n",
       "      <td>0.0</td>\n",
       "      <td>1.0</td>\n",
       "      <td>0.399428</td>\n",
       "      <td>0.400780</td>\n",
       "      <td>0.398454</td>\n",
       "      <td>0.398454</td>\n",
       "      <td>2.217353e+07</td>\n",
       "    </tr>\n",
       "    <tr>\n",
       "      <th>1981-04-16</th>\n",
       "      <td>26.63</td>\n",
       "      <td>26.63</td>\n",
       "      <td>26.50</td>\n",
       "      <td>26.50</td>\n",
       "      <td>152000.0</td>\n",
       "      <td>0.0</td>\n",
       "      <td>1.0</td>\n",
       "      <td>0.391536</td>\n",
       "      <td>0.391536</td>\n",
       "      <td>0.389625</td>\n",
       "      <td>...</td>\n",
       "      <td>27.086579</td>\n",
       "      <td>27.086579</td>\n",
       "      <td>390282.570375</td>\n",
       "      <td>0.0</td>\n",
       "      <td>1.0</td>\n",
       "      <td>0.399245</td>\n",
       "      <td>0.400565</td>\n",
       "      <td>0.398249</td>\n",
       "      <td>0.398249</td>\n",
       "      <td>2.185582e+07</td>\n",
       "    </tr>\n",
       "  </tbody>\n",
       "</table>\n",
       "<p>2 rows × 84 columns</p>\n",
       "</div>"
      ],
      "text/plain": [
       "             Open   High    Low  Close    Volume  Ex_Dividend  Split_Ratio  \\\n",
       "Date                                                                         \n",
       "1981-04-15  27.88  28.00  27.88  27.88   29700.0          0.0          1.0   \n",
       "1981-04-16  26.63  26.63  26.50  26.50  152000.0          0.0          1.0   \n",
       "\n",
       "            Adj_Open  Adj_High   Adj_Low         ...           Low_Long_EMA  \\\n",
       "Date                                             ...                          \n",
       "1981-04-15  0.409914  0.411679  0.409914         ...              27.100545   \n",
       "1981-04-16  0.391536  0.391536  0.389625         ...              27.086579   \n",
       "\n",
       "            Close_Long_EMA  Volume_Long_EMA  Ex_Dividend_Long_EMA  \\\n",
       "Date                                                                \n",
       "1981-04-15       27.100545    395955.964908                   0.0   \n",
       "1981-04-16       27.086579    390282.570375                   0.0   \n",
       "\n",
       "            Split_Ratio_Long_EMA  Adj_Open_Long_EMA  Adj_High_Long_EMA  \\\n",
       "Date                                                                     \n",
       "1981-04-15                   1.0           0.399428           0.400780   \n",
       "1981-04-16                   1.0           0.399245           0.400565   \n",
       "\n",
       "            Adj_Low_Long_EMA  Adj_Close_Long_EMA  Adj_Volume_Long_EMA  \n",
       "Date                                                                   \n",
       "1981-04-15          0.398454            0.398454         2.217353e+07  \n",
       "1981-04-16          0.398249            0.398249         2.185582e+07  \n",
       "\n",
       "[2 rows x 84 columns]"
      ]
     },
     "execution_count": 9,
     "metadata": {},
     "output_type": "execute_result"
    }
   ],
   "source": [
    "df_shift.head(2)"
   ]
  },
  {
   "cell_type": "markdown",
   "metadata": {},
   "source": [
    "-------\n",
    "\n",
    "# Splitting the Data into a Training and Testing Set\n",
    "\n",
    "\n",
    "## Split the Data to Predict 2017 and onwards:"
   ]
  },
  {
   "cell_type": "code",
   "execution_count": 10,
   "metadata": {},
   "outputs": [],
   "source": [
    "def import_split_data(company_name):\n",
    "    \"\"\" \n",
    "    Returns the Train and Test Set from a CSV. \n",
    "    Additionally, the Date Column is converted to date time and placed as the index. \n",
    "    \"\"\"\n",
    "    company_name=company_name\n",
    "    \n",
    "    X_train = pd.read_csv(f'data/modeling_data/{company_name}_X_Train.csv')    \n",
    "    X_train['Date'] = pd.to_datetime(X_train.Date)\n",
    "    X_train.set_index('Date', inplace=True)\n",
    "    X_train.sort_index(inplace=True, ascending=True)\n",
    "    \n",
    "    X_test = pd.read_csv(f'data/modeling_data/{company_name}_X_Test.csv')\n",
    "    X_test['Date'] = pd.to_datetime(X_test.Date)\n",
    "    X_test.set_index('Date', inplace=True)\n",
    "    X_test.sort_index(inplace=True, ascending=True)\n",
    "    \n",
    "    return X_train, X_test"
   ]
  },
  {
   "cell_type": "markdown",
   "metadata": {},
   "source": [
    "### Splitting the Data into a Train and Test Set:"
   ]
  },
  {
   "cell_type": "code",
   "execution_count": 11,
   "metadata": {},
   "outputs": [],
   "source": [
    "X_train, X_test = import_split_data(company_name)"
   ]
  },
  {
   "cell_type": "markdown",
   "metadata": {},
   "source": [
    "### Taking a Look at the Train Set:"
   ]
  },
  {
   "cell_type": "code",
   "execution_count": 12,
   "metadata": {},
   "outputs": [
    {
     "data": {
      "text/html": [
       "<div>\n",
       "<style scoped>\n",
       "    .dataframe tbody tr th:only-of-type {\n",
       "        vertical-align: middle;\n",
       "    }\n",
       "\n",
       "    .dataframe tbody tr th {\n",
       "        vertical-align: top;\n",
       "    }\n",
       "\n",
       "    .dataframe thead th {\n",
       "        text-align: right;\n",
       "    }\n",
       "</style>\n",
       "<table border=\"1\" class=\"dataframe\">\n",
       "  <thead>\n",
       "    <tr style=\"text-align: right;\">\n",
       "      <th></th>\n",
       "      <th>Open</th>\n",
       "      <th>High</th>\n",
       "      <th>Low</th>\n",
       "      <th>Close</th>\n",
       "      <th>Volume</th>\n",
       "      <th>Ex_Dividend</th>\n",
       "      <th>Split_Ratio</th>\n",
       "      <th>Adj_Open</th>\n",
       "      <th>Adj_High</th>\n",
       "      <th>Adj_Low</th>\n",
       "      <th>...</th>\n",
       "      <th>Low_Long_EMA</th>\n",
       "      <th>Close_Long_EMA</th>\n",
       "      <th>Volume_Long_EMA</th>\n",
       "      <th>Ex_Dividend_Long_EMA</th>\n",
       "      <th>Split_Ratio_Long_EMA</th>\n",
       "      <th>Adj_Open_Long_EMA</th>\n",
       "      <th>Adj_High_Long_EMA</th>\n",
       "      <th>Adj_Low_Long_EMA</th>\n",
       "      <th>Adj_Close_Long_EMA</th>\n",
       "      <th>Adj_Volume_Long_EMA</th>\n",
       "    </tr>\n",
       "    <tr>\n",
       "      <th>Date</th>\n",
       "      <th></th>\n",
       "      <th></th>\n",
       "      <th></th>\n",
       "      <th></th>\n",
       "      <th></th>\n",
       "      <th></th>\n",
       "      <th></th>\n",
       "      <th></th>\n",
       "      <th></th>\n",
       "      <th></th>\n",
       "      <th></th>\n",
       "      <th></th>\n",
       "      <th></th>\n",
       "      <th></th>\n",
       "      <th></th>\n",
       "      <th></th>\n",
       "      <th></th>\n",
       "      <th></th>\n",
       "      <th></th>\n",
       "      <th></th>\n",
       "      <th></th>\n",
       "    </tr>\n",
       "  </thead>\n",
       "  <tbody>\n",
       "    <tr>\n",
       "      <th>2016-12-28</th>\n",
       "      <td>116.52</td>\n",
       "      <td>117.8000</td>\n",
       "      <td>116.49</td>\n",
       "      <td>117.26</td>\n",
       "      <td>18296855.0</td>\n",
       "      <td>0.0</td>\n",
       "      <td>1.0</td>\n",
       "      <td>115.080808</td>\n",
       "      <td>116.344998</td>\n",
       "      <td>115.051178</td>\n",
       "      <td>...</td>\n",
       "      <td>110.566050</td>\n",
       "      <td>111.471650</td>\n",
       "      <td>3.338105e+07</td>\n",
       "      <td>0.007306</td>\n",
       "      <td>1.0</td>\n",
       "      <td>109.570218</td>\n",
       "      <td>110.508678</td>\n",
       "      <td>108.902823</td>\n",
       "      <td>109.794971</td>\n",
       "      <td>3.338106e+07</td>\n",
       "    </tr>\n",
       "    <tr>\n",
       "      <th>2016-12-29</th>\n",
       "      <td>117.52</td>\n",
       "      <td>118.0166</td>\n",
       "      <td>116.20</td>\n",
       "      <td>116.76</td>\n",
       "      <td>20905892.0</td>\n",
       "      <td>0.0</td>\n",
       "      <td>1.0</td>\n",
       "      <td>116.068456</td>\n",
       "      <td>116.558923</td>\n",
       "      <td>114.764760</td>\n",
       "      <td>...</td>\n",
       "      <td>110.697072</td>\n",
       "      <td>111.594635</td>\n",
       "      <td>3.309093e+07</td>\n",
       "      <td>0.007136</td>\n",
       "      <td>1.0</td>\n",
       "      <td>109.721340</td>\n",
       "      <td>110.649382</td>\n",
       "      <td>109.039147</td>\n",
       "      <td>109.923409</td>\n",
       "      <td>3.309094e+07</td>\n",
       "    </tr>\n",
       "    <tr>\n",
       "      <th>2016-12-30</th>\n",
       "      <td>116.45</td>\n",
       "      <td>117.1095</td>\n",
       "      <td>116.40</td>\n",
       "      <td>116.73</td>\n",
       "      <td>15039519.0</td>\n",
       "      <td>0.0</td>\n",
       "      <td>1.0</td>\n",
       "      <td>115.011672</td>\n",
       "      <td>115.663027</td>\n",
       "      <td>114.962290</td>\n",
       "      <td>...</td>\n",
       "      <td>110.829698</td>\n",
       "      <td>111.714062</td>\n",
       "      <td>3.267113e+07</td>\n",
       "      <td>0.006970</td>\n",
       "      <td>1.0</td>\n",
       "      <td>109.844371</td>\n",
       "      <td>110.765978</td>\n",
       "      <td>109.176895</td>\n",
       "      <td>110.048172</td>\n",
       "      <td>3.267114e+07</td>\n",
       "    </tr>\n",
       "  </tbody>\n",
       "</table>\n",
       "<p>3 rows × 84 columns</p>\n",
       "</div>"
      ],
      "text/plain": [
       "              Open      High     Low   Close      Volume  Ex_Dividend  \\\n",
       "Date                                                                    \n",
       "2016-12-28  116.52  117.8000  116.49  117.26  18296855.0          0.0   \n",
       "2016-12-29  117.52  118.0166  116.20  116.76  20905892.0          0.0   \n",
       "2016-12-30  116.45  117.1095  116.40  116.73  15039519.0          0.0   \n",
       "\n",
       "            Split_Ratio    Adj_Open    Adj_High     Adj_Low  \\\n",
       "Date                                                          \n",
       "2016-12-28          1.0  115.080808  116.344998  115.051178   \n",
       "2016-12-29          1.0  116.068456  116.558923  114.764760   \n",
       "2016-12-30          1.0  115.011672  115.663027  114.962290   \n",
       "\n",
       "                   ...           Low_Long_EMA  Close_Long_EMA  \\\n",
       "Date               ...                                          \n",
       "2016-12-28         ...             110.566050      111.471650   \n",
       "2016-12-29         ...             110.697072      111.594635   \n",
       "2016-12-30         ...             110.829698      111.714062   \n",
       "\n",
       "            Volume_Long_EMA  Ex_Dividend_Long_EMA  Split_Ratio_Long_EMA  \\\n",
       "Date                                                                      \n",
       "2016-12-28     3.338105e+07              0.007306                   1.0   \n",
       "2016-12-29     3.309093e+07              0.007136                   1.0   \n",
       "2016-12-30     3.267113e+07              0.006970                   1.0   \n",
       "\n",
       "            Adj_Open_Long_EMA  Adj_High_Long_EMA  Adj_Low_Long_EMA  \\\n",
       "Date                                                                 \n",
       "2016-12-28         109.570218         110.508678        108.902823   \n",
       "2016-12-29         109.721340         110.649382        109.039147   \n",
       "2016-12-30         109.844371         110.765978        109.176895   \n",
       "\n",
       "            Adj_Close_Long_EMA  Adj_Volume_Long_EMA  \n",
       "Date                                                 \n",
       "2016-12-28          109.794971         3.338106e+07  \n",
       "2016-12-29          109.923409         3.309094e+07  \n",
       "2016-12-30          110.048172         3.267114e+07  \n",
       "\n",
       "[3 rows x 84 columns]"
      ]
     },
     "execution_count": 12,
     "metadata": {},
     "output_type": "execute_result"
    }
   ],
   "source": [
    "X_train.tail(3)"
   ]
  },
  {
   "cell_type": "markdown",
   "metadata": {},
   "source": [
    "### Taking a Look at the Test Set:"
   ]
  },
  {
   "cell_type": "code",
   "execution_count": 20,
   "metadata": {},
   "outputs": [
    {
     "data": {
      "text/html": [
       "<div>\n",
       "<style scoped>\n",
       "    .dataframe tbody tr th:only-of-type {\n",
       "        vertical-align: middle;\n",
       "    }\n",
       "\n",
       "    .dataframe tbody tr th {\n",
       "        vertical-align: top;\n",
       "    }\n",
       "\n",
       "    .dataframe thead th {\n",
       "        text-align: right;\n",
       "    }\n",
       "</style>\n",
       "<table border=\"1\" class=\"dataframe\">\n",
       "  <thead>\n",
       "    <tr style=\"text-align: right;\">\n",
       "      <th></th>\n",
       "      <th>Open</th>\n",
       "      <th>High</th>\n",
       "      <th>Low</th>\n",
       "      <th>Close</th>\n",
       "      <th>Volume</th>\n",
       "      <th>Ex_Dividend</th>\n",
       "      <th>Split_Ratio</th>\n",
       "      <th>Adj_Open</th>\n",
       "      <th>Adj_High</th>\n",
       "      <th>Adj_Low</th>\n",
       "      <th>...</th>\n",
       "      <th>Low_Long_EMA</th>\n",
       "      <th>Close_Long_EMA</th>\n",
       "      <th>Volume_Long_EMA</th>\n",
       "      <th>Ex_Dividend_Long_EMA</th>\n",
       "      <th>Split_Ratio_Long_EMA</th>\n",
       "      <th>Adj_Open_Long_EMA</th>\n",
       "      <th>Adj_High_Long_EMA</th>\n",
       "      <th>Adj_Low_Long_EMA</th>\n",
       "      <th>Adj_Close_Long_EMA</th>\n",
       "      <th>Adj_Volume_Long_EMA</th>\n",
       "    </tr>\n",
       "    <tr>\n",
       "      <th>Date</th>\n",
       "      <th></th>\n",
       "      <th></th>\n",
       "      <th></th>\n",
       "      <th></th>\n",
       "      <th></th>\n",
       "      <th></th>\n",
       "      <th></th>\n",
       "      <th></th>\n",
       "      <th></th>\n",
       "      <th></th>\n",
       "      <th></th>\n",
       "      <th></th>\n",
       "      <th></th>\n",
       "      <th></th>\n",
       "      <th></th>\n",
       "      <th></th>\n",
       "      <th></th>\n",
       "      <th></th>\n",
       "      <th></th>\n",
       "      <th></th>\n",
       "      <th></th>\n",
       "    </tr>\n",
       "  </thead>\n",
       "  <tbody>\n",
       "    <tr>\n",
       "      <th>2017-01-03</th>\n",
       "      <td>116.65</td>\n",
       "      <td>117.20</td>\n",
       "      <td>115.43</td>\n",
       "      <td>115.82</td>\n",
       "      <td>30586265.0</td>\n",
       "      <td>0.0</td>\n",
       "      <td>1.0</td>\n",
       "      <td>115.209202</td>\n",
       "      <td>115.752409</td>\n",
       "      <td>114.004271</td>\n",
       "      <td>...</td>\n",
       "      <td>110.936682</td>\n",
       "      <td>111.809549</td>\n",
       "      <td>3.262264e+07</td>\n",
       "      <td>0.006808</td>\n",
       "      <td>1.0</td>\n",
       "      <td>109.969134</td>\n",
       "      <td>110.881942</td>\n",
       "      <td>109.289159</td>\n",
       "      <td>110.149132</td>\n",
       "      <td>3.262266e+07</td>\n",
       "    </tr>\n",
       "    <tr>\n",
       "      <th>2017-01-04</th>\n",
       "      <td>115.80</td>\n",
       "      <td>116.33</td>\n",
       "      <td>114.76</td>\n",
       "      <td>116.15</td>\n",
       "      <td>28781865.0</td>\n",
       "      <td>0.0</td>\n",
       "      <td>1.0</td>\n",
       "      <td>114.369701</td>\n",
       "      <td>114.893155</td>\n",
       "      <td>113.342546</td>\n",
       "      <td>...</td>\n",
       "      <td>111.025596</td>\n",
       "      <td>111.910490</td>\n",
       "      <td>3.253332e+07</td>\n",
       "      <td>0.006650</td>\n",
       "      <td>1.0</td>\n",
       "      <td>110.071473</td>\n",
       "      <td>110.975226</td>\n",
       "      <td>109.383424</td>\n",
       "      <td>110.255324</td>\n",
       "      <td>3.253334e+07</td>\n",
       "    </tr>\n",
       "    <tr>\n",
       "      <th>2017-01-05</th>\n",
       "      <td>115.85</td>\n",
       "      <td>116.51</td>\n",
       "      <td>115.75</td>\n",
       "      <td>116.02</td>\n",
       "      <td>21118116.0</td>\n",
       "      <td>0.0</td>\n",
       "      <td>1.0</td>\n",
       "      <td>114.419083</td>\n",
       "      <td>115.070931</td>\n",
       "      <td>114.320318</td>\n",
       "      <td>...</td>\n",
       "      <td>111.135466</td>\n",
       "      <td>112.006060</td>\n",
       "      <td>3.226785e+07</td>\n",
       "      <td>0.006495</td>\n",
       "      <td>1.0</td>\n",
       "      <td>110.172580</td>\n",
       "      <td>111.070475</td>\n",
       "      <td>109.498236</td>\n",
       "      <td>110.356060</td>\n",
       "      <td>3.226787e+07</td>\n",
       "    </tr>\n",
       "  </tbody>\n",
       "</table>\n",
       "<p>3 rows × 84 columns</p>\n",
       "</div>"
      ],
      "text/plain": [
       "              Open    High     Low   Close      Volume  Ex_Dividend  \\\n",
       "Date                                                                  \n",
       "2017-01-03  116.65  117.20  115.43  115.82  30586265.0          0.0   \n",
       "2017-01-04  115.80  116.33  114.76  116.15  28781865.0          0.0   \n",
       "2017-01-05  115.85  116.51  115.75  116.02  21118116.0          0.0   \n",
       "\n",
       "            Split_Ratio    Adj_Open    Adj_High     Adj_Low  \\\n",
       "Date                                                          \n",
       "2017-01-03          1.0  115.209202  115.752409  114.004271   \n",
       "2017-01-04          1.0  114.369701  114.893155  113.342546   \n",
       "2017-01-05          1.0  114.419083  115.070931  114.320318   \n",
       "\n",
       "                   ...           Low_Long_EMA  Close_Long_EMA  \\\n",
       "Date               ...                                          \n",
       "2017-01-03         ...             110.936682      111.809549   \n",
       "2017-01-04         ...             111.025596      111.910490   \n",
       "2017-01-05         ...             111.135466      112.006060   \n",
       "\n",
       "            Volume_Long_EMA  Ex_Dividend_Long_EMA  Split_Ratio_Long_EMA  \\\n",
       "Date                                                                      \n",
       "2017-01-03     3.262264e+07              0.006808                   1.0   \n",
       "2017-01-04     3.253332e+07              0.006650                   1.0   \n",
       "2017-01-05     3.226785e+07              0.006495                   1.0   \n",
       "\n",
       "            Adj_Open_Long_EMA  Adj_High_Long_EMA  Adj_Low_Long_EMA  \\\n",
       "Date                                                                 \n",
       "2017-01-03         109.969134         110.881942        109.289159   \n",
       "2017-01-04         110.071473         110.975226        109.383424   \n",
       "2017-01-05         110.172580         111.070475        109.498236   \n",
       "\n",
       "            Adj_Close_Long_EMA  Adj_Volume_Long_EMA  \n",
       "Date                                                 \n",
       "2017-01-03          110.149132         3.262266e+07  \n",
       "2017-01-04          110.255324         3.253334e+07  \n",
       "2017-01-05          110.356060         3.226787e+07  \n",
       "\n",
       "[3 rows x 84 columns]"
      ]
     },
     "execution_count": 20,
     "metadata": {},
     "output_type": "execute_result"
    }
   ],
   "source": [
    "X_test.head(3)"
   ]
  },
  {
   "cell_type": "markdown",
   "metadata": {},
   "source": [
    "-----\n",
    "\n",
    "# Normalizing the Data with MinMaxScaler"
   ]
  },
  {
   "cell_type": "code",
   "execution_count": 14,
   "metadata": {},
   "outputs": [],
   "source": [
    "def mm_scaler(X_train, X_test, dataframe):\n",
    "    \"\"\"\n",
    "    Returns scaled X_train & X_test data sets and holdouts for each data set using the dataframe.\n",
    "    \n",
    "    Parameter\n",
    "    -------------------------------------------------------------------------------------------------------------\n",
    "    X_train : var\n",
    "        Passes a variable assigned to the X_train data set.\n",
    "    \n",
    "    X_test : str\n",
    "        Passes a variable assigned to the X_test data set.\n",
    "    \n",
    "    dataframe : var\n",
    "        Passes a variable assigned to a pandas data frame.\n",
    "    \"\"\"\n",
    "    temp_df = dataframe.copy()\n",
    "    \n",
    "    # Instatiating the MinMaxScaler.\n",
    "    scaler = MinMaxScaler(feature_range=(-1, 1))\n",
    "    # Fitting and Transforming the X_train Values.\n",
    "    X_train_sc = scaler.fit_transform(X_train.values)\n",
    "    # Transforming the X_test values.\n",
    "    X_test_sc = scaler.transform(X_test.values)\n",
    "    \n",
    "    # Creating X and y holdouts using the original data frame.\n",
    "    y_train = temp_df[X_train.index[0]:X_train.index[-1]].Close.values\n",
    "    y_test = temp_df[X_test.index[0]:X_test.index[-1]].Close.values\n",
    "    return X_train_sc, X_test_sc, y_train, y_test"
   ]
  },
  {
   "cell_type": "code",
   "execution_count": 15,
   "metadata": {},
   "outputs": [],
   "source": [
    "X_train_sc, X_test_sc, y_train, y_test = mm_scaler(X_train, X_test, df)"
   ]
  },
  {
   "cell_type": "markdown",
   "metadata": {},
   "source": [
    "----\n",
    "\n",
    "# Modeling"
   ]
  },
  {
   "cell_type": "markdown",
   "metadata": {},
   "source": [
    "## Attempting a Simple Linear Regression Model:"
   ]
  },
  {
   "cell_type": "code",
   "execution_count": 15,
   "metadata": {},
   "outputs": [],
   "source": [
    "def linear_model(X_train, y_train, X_test, y_test):\n",
    "    \"\"\"\n",
    "    Returns the fitted model using the Linear Regression Model from SK-Learn.\n",
    "    Prints the Training Score, Testing score, & the Average Price predicted.\n",
    "    Renders a visualization of the Predicted and Actual Prices.\n",
    "    \n",
    "    Parameters\n",
    "    -------------------------------------------------------------------------------------------------------------\n",
    "    X_train : var\n",
    "        Passes the variable assigned to the X variable of your training set, whether scaled or not. \n",
    "   \n",
    "    y_train : var\n",
    "        Passes the variable assigned to the y variable of your training set, whether scaled or not. \n",
    "    \n",
    "    X_test : var\n",
    "        Passes the variable assigned to the X variable of your testing set, whether scaled or not. \n",
    "    \n",
    "    y_test : var\n",
    "        Passes the variable assigned to the y variable of your testing set, whether scaled or not.\n",
    "    \"\"\"\n",
    "    lr = LinearRegression()\n",
    "    lr.fit(X_train, y_train)\n",
    "    train_score = lr.score(X_train, y_train)\n",
    "    test_score = lr.score(X_test, y_test)\n",
    "    predicted = lr.predict(X_test).mean()\n",
    "    \n",
    "    plt.scatter(y_test, lr.predict(X_test))\n",
    "    plt.xlabel('Actual')\n",
    "    plt.ylabel('Predicted')\n",
    "    \n",
    "    print(f'Train Score: {train_score}\\nTest Score: {test_score}\\nPredictive Mean: {predicted}') \n",
    "    return lr"
   ]
  },
  {
   "cell_type": "markdown",
   "metadata": {},
   "source": [
    "### Scoring the Training and Test Data:"
   ]
  },
  {
   "cell_type": "code",
   "execution_count": 16,
   "metadata": {},
   "outputs": [
    {
     "name": "stderr",
     "output_type": "stream",
     "text": [
      "/Users/adamdelreal/anaconda3/envs/tensorflow/lib/python3.6/site-packages/sklearn/linear_model/base.py:509: RuntimeWarning: internal gelsd driver lwork query error, required iwork dimension not returned. This is likely the result of LAPACK bug 0038, fixed in LAPACK 3.2.2 (released July 21, 2010). Falling back to 'gelss' driver.\n",
      "  linalg.lstsq(X, y)\n"
     ]
    },
    {
     "name": "stdout",
     "output_type": "stream",
     "text": [
      "Train Score: 0.9977022528603676\n",
      "Test Score: 0.8145726502498885\n",
      "Predictive Mean: 148.47558132447296\n"
     ]
    },
    {
     "data": {
      "image/png": "[encoded data removed]",
      "text/plain": [
       "<Figure size 432x288 with 1 Axes>"
      ]
     },
     "metadata": {
      "image/png": {
       "height": 263,
       "width": 390
      }
     },
     "output_type": "display_data"
    }
   ],
   "source": [
    "lr = linear_model(X_train_sc, y_train, X_test_sc, y_test)"
   ]
  },
  {
   "cell_type": "markdown",
   "metadata": {},
   "source": [
    "### Taking a Look at the Coefficients: "
   ]
  },
  {
   "cell_type": "code",
   "execution_count": 17,
   "metadata": {},
   "outputs": [],
   "source": [
    "coef_weights = pd.DataFrame(lr.coef_, index=X_train.columns, columns=['weight'])"
   ]
  },
  {
   "cell_type": "code",
   "execution_count": 18,
   "metadata": {},
   "outputs": [
    {
     "data": {
      "text/html": [
       "<div>\n",
       "<style scoped>\n",
       "    .dataframe tbody tr th:only-of-type {\n",
       "        vertical-align: middle;\n",
       "    }\n",
       "\n",
       "    .dataframe tbody tr th {\n",
       "        vertical-align: top;\n",
       "    }\n",
       "\n",
       "    .dataframe thead th {\n",
       "        text-align: right;\n",
       "    }\n",
       "</style>\n",
       "<table border=\"1\" class=\"dataframe\">\n",
       "  <thead>\n",
       "    <tr style=\"text-align: right;\">\n",
       "      <th></th>\n",
       "      <th>weight</th>\n",
       "    </tr>\n",
       "  </thead>\n",
       "  <tbody>\n",
       "    <tr>\n",
       "      <th>Adj_Open_Mid_EMA</th>\n",
       "      <td>2224.128321</td>\n",
       "    </tr>\n",
       "    <tr>\n",
       "      <th>Open_Mid_EMA</th>\n",
       "      <td>2373.446045</td>\n",
       "    </tr>\n",
       "    <tr>\n",
       "      <th>Adj_Low_Long_EMA</th>\n",
       "      <td>4220.969403</td>\n",
       "    </tr>\n",
       "    <tr>\n",
       "      <th>Adj_High_Long_EMA</th>\n",
       "      <td>6009.097982</td>\n",
       "    </tr>\n",
       "    <tr>\n",
       "      <th>Adj_Close_Mid_EMA</th>\n",
       "      <td>6822.863717</td>\n",
       "    </tr>\n",
       "  </tbody>\n",
       "</table>\n",
       "</div>"
      ],
      "text/plain": [
       "                        weight\n",
       "Adj_Open_Mid_EMA   2224.128321\n",
       "Open_Mid_EMA       2373.446045\n",
       "Adj_Low_Long_EMA   4220.969403\n",
       "Adj_High_Long_EMA  6009.097982\n",
       "Adj_Close_Mid_EMA  6822.863717"
      ]
     },
     "execution_count": 18,
     "metadata": {},
     "output_type": "execute_result"
    }
   ],
   "source": [
    "coef_weights.sort_values('weight').tail()"
   ]
  },
  {
   "cell_type": "markdown",
   "metadata": {},
   "source": [
    "-----\n",
    "\n",
    "# Decomposing Signal Components with Principal Component Analysis (PCA):\n",
    "\n",
    "### Creating a Function to Instantiate the PCA Decomposition:"
   ]
  },
  {
   "cell_type": "code",
   "execution_count": 19,
   "metadata": {},
   "outputs": [],
   "source": [
    "def pca_decomposition(X_train, X_test, num_components):\n",
    "    \"\"\"\n",
    "    Returns a fitted and transformed X_train and a transformed X_test using Principal Components Analysis from SK-Learn.\n",
    "    \n",
    "    Parameters\n",
    "    -------------------------------------------------------------------------------------------------------------\n",
    "    X_train : var\n",
    "        Passes the variable assigned to the X variable of your training set, whether scaled or not. \n",
    "        \n",
    "    X_test : var\n",
    "        Passes the variable assigned to the X variable of your testing set, whether scaled or not.     \n",
    "    \"\"\"\n",
    "    # Instatiating SK-Learns PCA.\n",
    "    pca = PCA(n_components=num_components, random_state=42)\n",
    "    # Fitting and Transforming the X_train.\n",
    "    X_train_pca = pca.fit_transform(X_train)\n",
    "    # Transforming the X_test\n",
    "    X_test_pca = pca.transform(X_test)\n",
    "    return X_train_pca, X_test_pca"
   ]
  },
  {
   "cell_type": "markdown",
   "metadata": {},
   "source": [
    "### Fitting and Transforming with PCA:"
   ]
  },
  {
   "cell_type": "code",
   "execution_count": 20,
   "metadata": {},
   "outputs": [],
   "source": [
    "X_train_pca, X_test_pca = pca_decomposition(X_train_sc, X_test_sc, 2)"
   ]
  },
  {
   "cell_type": "markdown",
   "metadata": {},
   "source": [
    "### Scoring the PCA Weighted Data on a Linear Regression Model:"
   ]
  },
  {
   "cell_type": "code",
   "execution_count": 21,
   "metadata": {},
   "outputs": [
    {
     "name": "stdout",
     "output_type": "stream",
     "text": [
      "Train Score: 0.9829847772949417\n",
      "Test Score: 0.9051244925652794\n",
      "Predictive Mean: 154.95856891488518\n"
     ]
    },
    {
     "data": {
      "image/png": "[encoded data removed]",
      "text/plain": [
       "<Figure size 432x288 with 1 Axes>"
      ]
     },
     "metadata": {
      "image/png": {
       "height": 263,
       "width": 390
      }
     },
     "output_type": "display_data"
    }
   ],
   "source": [
    "lr_pca = linear_model(X_train_pca, y_train, X_test_pca, y_test)"
   ]
  },
  {
   "cell_type": "markdown",
   "metadata": {},
   "source": [
    "-----\n",
    "\n",
    "# Bagging Regressor Model\n",
    "\n",
    "### Creating a function to fit a Bagging Regressor Model:"
   ]
  },
  {
   "cell_type": "code",
   "execution_count": 22,
   "metadata": {},
   "outputs": [],
   "source": [
    "def br_model(X_train, y_train, X_test, y_test, base_estimator, n_estimators, max_samples, max_features, bootstrap):\n",
    "    \"\"\"\n",
    "    Returns the fitted model using the Bagging Regressor Model from SK-Learn.\n",
    "    Prints the Training Score, Testing score, & the average price predicted.\n",
    "    Renders a visualization of the Predicted and Actual Prices.\n",
    "    \n",
    "    Parameters\n",
    "    -------------------------------------------------------------------------------------------------------------\n",
    "    X_train : var\n",
    "        Passes the variable assigned to the X variable of your training set, whether scaled or not. \n",
    "   \n",
    "    y_train : var\n",
    "        Passes the variable assigned to the y variable of your training set, whether scaled or not. \n",
    "    \n",
    "    X_test : var\n",
    "        Passes the variable assigned to the X variable of your testing set, whether scaled or not. \n",
    "    \n",
    "    y_test : var\n",
    "        Passes the variable assigned to the y variable of your testing set, whether scaled or not. \n",
    "    \n",
    "    Bagging Regressor Parameters\n",
    "    -------------------------------------------------------------------------------------------------------------\n",
    "    base_estimator : var\n",
    "        Passes the variable assigned to the scikit learn model.  >> lr = LinearRegression()\n",
    "    \n",
    "    n_estimators : int\n",
    "        Passes the number of estimators to be used in the Bagging Regressor Model.  \n",
    "    \n",
    "    max_samples : int\n",
    "        Passes the maximum number of samples to be used in the Bagging Regressor Model.  \n",
    "    \n",
    "    max_features : float\n",
    "        Passes the maximum number of features to be used in the Bagging Regressor Model.  \n",
    "    \n",
    "    bootstrap : boolean\n",
    "        Passes boolean condition be used in the Bagging Regressor Model. >> True or False     \n",
    "    \"\"\"\n",
    "    \n",
    "    # Instatiating the Bagging Regresssor.\n",
    "    br = BaggingRegressor(base_estimator=base_estimator, n_estimators=n_estimators, \n",
    "                          max_samples=max_samples, max_features=max_features, bootstrap=bootstrap, \n",
    "                          bootstrap_features=False, n_jobs=3, random_state=42)\n",
    "    # Fitting the Training and Holdout using the Bagging Regressor.\n",
    "    br.fit(X_train, y_train)\n",
    "    # Scoring the Training Set and the Holdout Set.\n",
    "    train_score = br.score(X_train, y_train)\n",
    "    # Scoring the Test Set and the Holdout Set.\n",
    "    test_score = br.score(X_test, y_test)\n",
    "    # Getting the Average Predictions.\n",
    "    prediction = br.predict(X_test).mean()\n",
    "    # Plotting the Actual and Predicted Prices.\n",
    "    plt.scatter(y_test, br.predict(X_test_sc))\n",
    "    plt.xlabel('Actual')\n",
    "    plt.ylabel('Predicted')\n",
    "    \n",
    "    print(f'Train Score: {train_score}\\nTest Score: {test_score}\\nPredictive Mean: {prediction}') \n",
    "    return br\n"
   ]
  },
  {
   "cell_type": "markdown",
   "metadata": {},
   "source": [
    "### Using Bagging Regressor on a Linear Model with PCA Decomposition:"
   ]
  },
  {
   "cell_type": "code",
   "execution_count": 23,
   "metadata": {
    "scrolled": false
   },
   "outputs": [
    {
     "name": "stdout",
     "output_type": "stream",
     "text": [
      "Train Score: 0.9829380908452983\n",
      "Test Score: 0.8817486416781832\n",
      "Predictive Mean: 156.97335732817524\n"
     ]
    },
    {
     "data": {
      "image/png": "[encoded data removed]",
      "text/plain": [
       "<Figure size 432x288 with 1 Axes>"
      ]
     },
     "metadata": {
      "image/png": {
       "height": 263,
       "width": 400
      }
     },
     "output_type": "display_data"
    }
   ],
   "source": [
    "br_pca = br_model(X_train_pca, y_train, X_test_pca, y_test, lr, \n",
    "         n_estimators= 15, max_samples=11, max_features=1.0, bootstrap=True)"
   ]
  },
  {
   "cell_type": "markdown",
   "metadata": {},
   "source": [
    "### Using Bagging Regressor on a Linear Model with the Scaled Data:"
   ]
  },
  {
   "cell_type": "code",
   "execution_count": 24,
   "metadata": {},
   "outputs": [],
   "source": [
    "# br_scaled = br_model(X_train_sc, y_train, X_test_sc, y_test, lr, \n",
    "#          n_estimators= 15, max_samples=11, max_features=1.0, bootstrap=True)"
   ]
  },
  {
   "cell_type": "code",
   "execution_count": null,
   "metadata": {},
   "outputs": [],
   "source": []
  },
  {
   "cell_type": "markdown",
   "metadata": {},
   "source": [
    "------\n",
    "\n",
    "# Ada Boost Regression Models\n",
    "\n",
    "### Creating a Function to Fit an Ada Boost Model:"
   ]
  },
  {
   "cell_type": "code",
   "execution_count": 25,
   "metadata": {},
   "outputs": [],
   "source": [
    "def ada_boost_model(X_train, y_train, X_test, y_test, base_estimator, n_estimators, learning_rate, loss):\n",
    "    \"\"\"\n",
    "    Returns the fitted model using the Ada Boost Regression Model from SK-Learn.\n",
    "    Prints the Training Score, Testing score, & the average price predicted.\n",
    "    Renders a visualization of the Predicted and Actual Prices.\n",
    "    \n",
    "    Parameters\n",
    "    -------------------------------------------------------------------------------------------------------------\n",
    "    X_train : var\n",
    "        Passes the variable assigned to the X variable of your training set, whether scaled or not. \n",
    "   \n",
    "    y_train : var\n",
    "        Passes the variable assigned to the y variable of your training set, whether scaled or not. \n",
    "    \n",
    "    X_test : var\n",
    "        Passes the variable assigned to the X variable of your testing set, whether scaled or not. \n",
    "    \n",
    "    y_test : var\n",
    "        Passes the variable assigned to the y variable of your testing set, whether scaled or not. \n",
    "    \n",
    "    Ada Boost Regression Parameters\n",
    "    -------------------------------------------------------------------------------------------------------------\n",
    "    base_estimator : var\n",
    "        Passes the variable assigned to the scikit learn model.  >> lr = LinearRegression()\n",
    "    \n",
    "    n_estimators : int\n",
    "        Passes the number of estimators to be used in the Ada Boost Regression Model.  \n",
    "    \n",
    "    max_samples : int\n",
    "        Passes the maximum number of samples to be used in the Ada Boost Regression Model.  \n",
    "    \n",
    "    max_features : float\n",
    "        Passes the maximum number of features to be used in the Ada Boost Regression Model.  \n",
    "    \n",
    "    loss : str\n",
    "        Passes a string as a loss.\n",
    "    \"\"\"\n",
    "    \n",
    "    \n",
    "    booster = AdaBoostRegressor(base_estimator=base_estimator, n_estimators=n_estimators, \n",
    "                            learning_rate=learning_rate, loss=loss, random_state=42)\n",
    "    booster.fit(X_train, y_train)\n",
    "    train_score = booster.score(X_train, y_train)\n",
    "    test_score = booster.score(X_test, y_test)\n",
    "    prediction = booster.predict(X_test).mean()\n",
    "    \n",
    "    plt.scatter(y_test, booster.predict(X_test_sc))\n",
    "    plt.xlabel('Actual')\n",
    "    plt.ylabel('Predicted')\n",
    "    \n",
    "    print(f'Train Score: {train_score}\\nTest Score: {test_score}\\nPredictive Mean: {prediction}') \n",
    "    return booster"
   ]
  },
  {
   "cell_type": "code",
   "execution_count": 26,
   "metadata": {},
   "outputs": [
    {
     "name": "stdout",
     "output_type": "stream",
     "text": [
      "Train Score: 0.9976822280807409\n",
      "Test Score: 0.8311194906253007\n",
      "Predictive Mean: 148.8828797922283\n"
     ]
    },
    {
     "data": {
      "image/png": "[encoded data removed]",
      "text/plain": [
       "<Figure size 432x288 with 1 Axes>"
      ]
     },
     "metadata": {
      "image/png": {
       "height": 263,
       "width": 390
      }
     },
     "output_type": "display_data"
    }
   ],
   "source": [
    "ada_booster = ada_boost_model(X_train_sc, y_train, X_test_sc, y_test, \n",
    "                base_estimator=lr, n_estimators=1, learning_rate=1, loss='linear')\n"
   ]
  },
  {
   "cell_type": "markdown",
   "metadata": {},
   "source": [
    "## Grid Searching a Gradient Boosting Regression:"
   ]
  },
  {
   "cell_type": "code",
   "execution_count": 27,
   "metadata": {},
   "outputs": [],
   "source": [
    "from sklearn.model_selection import GridSearchCV\n",
    "from sklearn.pipeline import Pipeline"
   ]
  },
  {
   "cell_type": "code",
   "execution_count": 28,
   "metadata": {},
   "outputs": [],
   "source": [
    "pipe = Pipeline([\n",
    "    ('gbr', GradientBoostingRegressor())\n",
    "])"
   ]
  },
  {
   "cell_type": "code",
   "execution_count": 29,
   "metadata": {},
   "outputs": [],
   "source": [
    "loss = ['ls', 'lad']\n",
    "\n",
    "learning_rate = [x for x in np.linspace(0, 2, 5)]\n",
    "\n",
    "n_estimators = [x for x in range(8, 14, 2)]\n",
    "\n",
    "max_features = [x for x in range(0, 14, 2)]\n",
    "\n",
    "subsample = [x for x in range(1, 3)]\n",
    "\n",
    "max_depth = [x for x in range(1, 3)]\n",
    "max_depth.append(None)\n",
    "\n",
    "min_samples_split = [x for x in range(1, 5)]\n",
    "\n",
    "min_samples_leaf = [x for x in range(1, 3)]\n",
    "\n",
    "alpha = [x for x in np.linspace(0, 2, 5)]"
   ]
  },
  {
   "cell_type": "code",
   "execution_count": 30,
   "metadata": {},
   "outputs": [
    {
     "data": {
      "text/plain": [
       "GradientBoostingRegressor(alpha=0.9, criterion='friedman_mse', init=None,\n",
       "             learning_rate=0.1, loss='ls', max_depth=3, max_features=None,\n",
       "             max_leaf_nodes=None, min_impurity_decrease=0.0,\n",
       "             min_impurity_split=None, min_samples_leaf=1,\n",
       "             min_samples_split=2, min_weight_fraction_leaf=0.0,\n",
       "             n_estimators=100, presort='auto', random_state=None,\n",
       "             subsample=1.0, verbose=0, warm_start=False)"
      ]
     },
     "execution_count": 30,
     "metadata": {},
     "output_type": "execute_result"
    }
   ],
   "source": [
    "GradientBoostingRegressor()"
   ]
  },
  {
   "cell_type": "code",
   "execution_count": 31,
   "metadata": {},
   "outputs": [
    {
     "name": "stdout",
     "output_type": "stream",
     "text": [
      "{'gbr__loss': ['ls', 'lad'], 'gbr__learning_rate': [0.0, 0.5, 1.0, 1.5, 2.0], 'gbr__n_estimators': [8, 10, 12], 'gbr__max_features': [0, 2, 4, 6, 8, 10, 12], 'gbr__subsample': [1, 2], 'gbr__max_depth': [1, 2, None], 'gbr__min_samples_split': [1, 2, 3, 4], 'gbr__min_samples_leaf': [1, 2]}\n"
     ]
    }
   ],
   "source": [
    "params = {'gbr__loss' : loss,\n",
    "          'gbr__learning_rate' : learning_rate,\n",
    "          'gbr__n_estimators' : n_estimators,\n",
    "          'gbr__max_features' : max_features,\n",
    "          'gbr__subsample' : subsample,\n",
    "          'gbr__max_depth': max_depth,\n",
    "          'gbr__min_samples_split': min_samples_split,\n",
    "          'gbr__min_samples_leaf': min_samples_leaf}\n",
    "\n",
    "print(params)"
   ]
  },
  {
   "cell_type": "code",
   "execution_count": 32,
   "metadata": {},
   "outputs": [],
   "source": [
    "grid = GridSearchCV(pipe, params, n_jobs=3)"
   ]
  },
  {
   "cell_type": "code",
   "execution_count": 33,
   "metadata": {},
   "outputs": [
    {
     "ename": "KeyboardInterrupt",
     "evalue": "",
     "output_type": "error",
     "traceback": [
      "\u001b[0;31m---------------------------------------------------------------------------\u001b[0m",
      "\u001b[0;31mRemoteTraceback\u001b[0m                           Traceback (most recent call last)",
      "\u001b[0;31mRemoteTraceback\u001b[0m: \n\"\"\"\nTraceback (most recent call last):\n  File \"/Users/adamdelreal/anaconda3/envs/tensorflow/lib/python3.6/site-packages/sklearn/externals/joblib/_parallel_backends.py\", line 350, in __call__\n    return self.func(*args, **kwargs)\n  File \"/Users/adamdelreal/anaconda3/envs/tensorflow/lib/python3.6/site-packages/sklearn/externals/joblib/parallel.py\", line 131, in __call__\n    return [func(*args, **kwargs) for func, args, kwargs in self.items]\n  File \"/Users/adamdelreal/anaconda3/envs/tensorflow/lib/python3.6/site-packages/sklearn/externals/joblib/parallel.py\", line 131, in <listcomp>\n    return [func(*args, **kwargs) for func, args, kwargs in self.items]\n  File \"/Users/adamdelreal/anaconda3/envs/tensorflow/lib/python3.6/site-packages/sklearn/model_selection/_validation.py\", line 458, in _fit_and_score\n    estimator.fit(X_train, y_train, **fit_params)\n  File \"/Users/adamdelreal/anaconda3/envs/tensorflow/lib/python3.6/site-packages/sklearn/pipeline.py\", line 250, in fit\n    self._final_estimator.fit(Xt, y, **fit_params)\n  File \"/Users/adamdelreal/anaconda3/envs/tensorflow/lib/python3.6/site-packages/sklearn/ensemble/gradient_boosting.py\", line 991, in fit\n    self._check_params()\n  File \"/Users/adamdelreal/anaconda3/envs/tensorflow/lib/python3.6/site-packages/sklearn/ensemble/gradient_boosting.py\", line 813, in _check_params\n    \"was %r\" % self.learning_rate)\nValueError: learning_rate must be greater than 0 but was 0.0\n\nDuring handling of the above exception, another exception occurred:\n\nTraceback (most recent call last):\n  File \"/Users/adamdelreal/anaconda3/envs/tensorflow/lib/python3.6/multiprocessing/pool.py\", line 119, in worker\n    result = (True, func(*args, **kwds))\n  File \"/Users/adamdelreal/anaconda3/envs/tensorflow/lib/python3.6/site-packages/sklearn/externals/joblib/_parallel_backends.py\", line 359, in __call__\n    raise TransportableException(text, e_type)\nsklearn.externals.joblib.my_exceptions.TransportableException: TransportableException\n___________________________________________________________________________\nValueError                                         Tue Jul 10 11:59:58 2018\nPID: 5206Python 3.6.5: /Users/adamdelreal/anaconda3/envs/tensorflow/bin/python\n...........................................................................\n/Users/adamdelreal/anaconda3/envs/tensorflow/lib/python3.6/site-packages/sklearn/externals/joblib/parallel.py in __call__(self=<sklearn.externals.joblib.parallel.BatchedCalls object>)\n    126     def __init__(self, iterator_slice):\n    127         self.items = list(iterator_slice)\n    128         self._size = len(self.items)\n    129 \n    130     def __call__(self):\n--> 131         return [func(*args, **kwargs) for func, args, kwargs in self.items]\n        self.items = [(<function _fit_and_score>, (Pipeline(memory=None,\n     steps=[('gbr', Gradie...     subsample=1, verbose=0, warm_start=False))]), memmap([[-0.95151094, -0.95135096, -0.95097085, ... 0.82246415,\n          0.82362011, -0.84902975]]), array([ 26.5 ,  25.  ,  25.75, ..., 116.76, 116.73, 115.82]), {'score': <function _passthrough_scorer>}, array([3003, 3004, 3005, ..., 9004, 9005, 9006]), array([   0,    1,    2, ..., 3000, 3001, 3002]), 0, {'gbr__learning_rate': 0.0, 'gbr__loss': 'ls', 'gbr__max_depth': 1, 'gbr__max_features': 0, 'gbr__min_samples_leaf': 1, 'gbr__min_samples_split': 1, 'gbr__n_estimators': 8, 'gbr__subsample': 1}), {'error_score': 'raise', 'fit_params': {}, 'return_n_test_samples': True, 'return_parameters': False, 'return_times': True, 'return_train_score': 'warn'})]\n    132 \n    133     def __len__(self):\n    134         return self._size\n    135 \n\n...........................................................................\n/Users/adamdelreal/anaconda3/envs/tensorflow/lib/python3.6/site-packages/sklearn/externals/joblib/parallel.py in <listcomp>(.0=<list_iterator object>)\n    126     def __init__(self, iterator_slice):\n    127         self.items = list(iterator_slice)\n    128         self._size = len(self.items)\n    129 \n    130     def __call__(self):\n--> 131         return [func(*args, **kwargs) for func, args, kwargs in self.items]\n        func = <function _fit_and_score>\n        args = (Pipeline(memory=None,\n     steps=[('gbr', Gradie...     subsample=1, verbose=0, warm_start=False))]), memmap([[-0.95151094, -0.95135096, -0.95097085, ... 0.82246415,\n          0.82362011, -0.84902975]]), array([ 26.5 ,  25.  ,  25.75, ..., 116.76, 116.73, 115.82]), {'score': <function _passthrough_scorer>}, array([3003, 3004, 3005, ..., 9004, 9005, 9006]), array([   0,    1,    2, ..., 3000, 3001, 3002]), 0, {'gbr__learning_rate': 0.0, 'gbr__loss': 'ls', 'gbr__max_depth': 1, 'gbr__max_features': 0, 'gbr__min_samples_leaf': 1, 'gbr__min_samples_split': 1, 'gbr__n_estimators': 8, 'gbr__subsample': 1})\n        kwargs = {'error_score': 'raise', 'fit_params': {}, 'return_n_test_samples': True, 'return_parameters': False, 'return_times': True, 'return_train_score': 'warn'}\n    132 \n    133     def __len__(self):\n    134         return self._size\n    135 \n\n...........................................................................\n/Users/adamdelreal/anaconda3/envs/tensorflow/lib/python3.6/site-packages/sklearn/model_selection/_validation.py in _fit_and_score(estimator=Pipeline(memory=None,\n     steps=[('gbr', Gradie...     subsample=1, verbose=0, warm_start=False))]), X=memmap([[-0.95151094, -0.95135096, -0.95097085, ... 0.82246415,\n          0.82362011, -0.84902975]]), y=array([ 26.5 ,  25.  ,  25.75, ..., 116.76, 116.73, 115.82]), scorer={'score': <function _passthrough_scorer>}, train=array([3003, 3004, 3005, ..., 9004, 9005, 9006]), test=array([   0,    1,    2, ..., 3000, 3001, 3002]), verbose=0, parameters={'gbr__learning_rate': 0.0, 'gbr__loss': 'ls', 'gbr__max_depth': 1, 'gbr__max_features': 0, 'gbr__min_samples_leaf': 1, 'gbr__min_samples_split': 1, 'gbr__n_estimators': 8, 'gbr__subsample': 1}, fit_params={}, return_train_score='warn', return_parameters=False, return_n_test_samples=True, return_times=True, error_score='raise')\n    453 \n    454     try:\n    455         if y_train is None:\n    456             estimator.fit(X_train, **fit_params)\n    457         else:\n--> 458             estimator.fit(X_train, y_train, **fit_params)\n        estimator.fit = <bound method Pipeline.fit of Pipeline(memory=No...    subsample=1, verbose=0, warm_start=False))])>\n        X_train = memmap([[-0.87883522, -0.87497658, -0.87800805, ... 0.82246415,\n          0.82362011, -0.84902975]])\n        y_train = array([ 54.63,  55.  ,  55.  , ..., 116.76, 116.73, 115.82])\n        fit_params = {}\n    459 \n    460     except Exception as e:\n    461         # Note fit time as time until error\n    462         fit_time = time.time() - start_time\n\n...........................................................................\n/Users/adamdelreal/anaconda3/envs/tensorflow/lib/python3.6/site-packages/sklearn/pipeline.py in fit(self=Pipeline(memory=None,\n     steps=[('gbr', Gradie...     subsample=1, verbose=0, warm_start=False))]), X=memmap([[-0.87883522, -0.87497658, -0.87800805, ... 0.82246415,\n          0.82362011, -0.84902975]]), y=array([ 54.63,  55.  ,  55.  , ..., 116.76, 116.73, 115.82]), **fit_params={})\n    245         self : Pipeline\n    246             This estimator\n    247         \"\"\"\n    248         Xt, fit_params = self._fit(X, y, **fit_params)\n    249         if self._final_estimator is not None:\n--> 250             self._final_estimator.fit(Xt, y, **fit_params)\n        self._final_estimator.fit = <bound method BaseGradientBoosting.fit of Gradie...       subsample=1, verbose=0, warm_start=False)>\n        Xt = memmap([[-0.87883522, -0.87497658, -0.87800805, ... 0.82246415,\n          0.82362011, -0.84902975]])\n        y = array([ 54.63,  55.  ,  55.  , ..., 116.76, 116.73, 115.82])\n        fit_params = {}\n    251         return self\n    252 \n    253     def fit_transform(self, X, y=None, **fit_params):\n    254         \"\"\"Fit the model and transform with the final estimator\n\n...........................................................................\n/Users/adamdelreal/anaconda3/envs/tensorflow/lib/python3.6/site-packages/sklearn/ensemble/gradient_boosting.py in fit(self=GradientBoostingRegressor(alpha=0.9, criterion='...        subsample=1, verbose=0, warm_start=False), X=array([[-0.8788352 , -0.8749766 , -0.87800807, ....        0.8236201 , -0.8490298 ]], dtype=float32), y=array([ 54.63,  55.  ,  55.  , ..., 116.76, 116.73, 115.82]), sample_weight=array([1., 1., 1., ..., 1., 1., 1.], dtype=float32), monitor=None)\n    986         check_consistent_length(X, y, sample_weight)\n    987 \n    988         y = self._validate_y(y)\n    989 \n    990         random_state = check_random_state(self.random_state)\n--> 991         self._check_params()\n        self._check_params = <bound method BaseGradientBoosting._check_params...       subsample=1, verbose=0, warm_start=False)>\n    992 \n    993         if not self._is_initialized():\n    994             # init state\n    995             self._init_state()\n\n...........................................................................\n/Users/adamdelreal/anaconda3/envs/tensorflow/lib/python3.6/site-packages/sklearn/ensemble/gradient_boosting.py in _check_params(self=GradientBoostingRegressor(alpha=0.9, criterion='...        subsample=1, verbose=0, warm_start=False))\n    808             raise ValueError(\"n_estimators must be greater than 0 but \"\n    809                              \"was %r\" % self.n_estimators)\n    810 \n    811         if self.learning_rate <= 0.0:\n    812             raise ValueError(\"learning_rate must be greater than 0 but \"\n--> 813                              \"was %r\" % self.learning_rate)\n        self.learning_rate = 0.0\n    814 \n    815         if (self.loss not in self._SUPPORTED_LOSS\n    816                 or self.loss not in LOSS_FUNCTIONS):\n    817             raise ValueError(\"Loss '{0:s}' not supported. \".format(self.loss))\n\nValueError: learning_rate must be greater than 0 but was 0.0\n___________________________________________________________________________\n\"\"\"",
      "\nThe above exception was the direct cause of the following exception:\n",
      "\u001b[0;31mTransportableException\u001b[0m                    Traceback (most recent call last)",
      "\u001b[0;32m~/anaconda3/envs/tensorflow/lib/python3.6/site-packages/sklearn/externals/joblib/parallel.py\u001b[0m in \u001b[0;36mretrieve\u001b[0;34m(self)\u001b[0m\n\u001b[1;32m    698\u001b[0m                 \u001b[0;32mif\u001b[0m \u001b[0mgetattr\u001b[0m\u001b[0;34m(\u001b[0m\u001b[0mself\u001b[0m\u001b[0;34m.\u001b[0m\u001b[0m_backend\u001b[0m\u001b[0;34m,\u001b[0m \u001b[0;34m'supports_timeout'\u001b[0m\u001b[0;34m,\u001b[0m \u001b[0;32mFalse\u001b[0m\u001b[0;34m)\u001b[0m\u001b[0;34m:\u001b[0m\u001b[0;34m\u001b[0m\u001b[0m\n\u001b[0;32m--> 699\u001b[0;31m                     \u001b[0mself\u001b[0m\u001b[0;34m.\u001b[0m\u001b[0m_output\u001b[0m\u001b[0;34m.\u001b[0m\u001b[0mextend\u001b[0m\u001b[0;34m(\u001b[0m\u001b[0mjob\u001b[0m\u001b[0;34m.\u001b[0m\u001b[0mget\u001b[0m\u001b[0;34m(\u001b[0m\u001b[0mtimeout\u001b[0m\u001b[0;34m=\u001b[0m\u001b[0mself\u001b[0m\u001b[0;34m.\u001b[0m\u001b[0mtimeout\u001b[0m\u001b[0;34m)\u001b[0m\u001b[0;34m)\u001b[0m\u001b[0;34m\u001b[0m\u001b[0m\n\u001b[0m\u001b[1;32m    700\u001b[0m                 \u001b[0;32melse\u001b[0m\u001b[0;34m:\u001b[0m\u001b[0;34m\u001b[0m\u001b[0m\n",
      "\u001b[0;32m~/anaconda3/envs/tensorflow/lib/python3.6/multiprocessing/pool.py\u001b[0m in \u001b[0;36mget\u001b[0;34m(self, timeout)\u001b[0m\n\u001b[1;32m    643\u001b[0m         \u001b[0;32melse\u001b[0m\u001b[0;34m:\u001b[0m\u001b[0;34m\u001b[0m\u001b[0m\n\u001b[0;32m--> 644\u001b[0;31m             \u001b[0;32mraise\u001b[0m \u001b[0mself\u001b[0m\u001b[0;34m.\u001b[0m\u001b[0m_value\u001b[0m\u001b[0;34m\u001b[0m\u001b[0m\n\u001b[0m\u001b[1;32m    645\u001b[0m \u001b[0;34m\u001b[0m\u001b[0m\n",
      "\u001b[0;31mTransportableException\u001b[0m: TransportableException\n___________________________________________________________________________\nValueError                                         Tue Jul 10 11:59:58 2018\nPID: 5206Python 3.6.5: /Users/adamdelreal/anaconda3/envs/tensorflow/bin/python\n...........................................................................\n/Users/adamdelreal/anaconda3/envs/tensorflow/lib/python3.6/site-packages/sklearn/externals/joblib/parallel.py in __call__(self=<sklearn.externals.joblib.parallel.BatchedCalls object>)\n    126     def __init__(self, iterator_slice):\n    127         self.items = list(iterator_slice)\n    128         self._size = len(self.items)\n    129 \n    130     def __call__(self):\n--> 131         return [func(*args, **kwargs) for func, args, kwargs in self.items]\n        self.items = [(<function _fit_and_score>, (Pipeline(memory=None,\n     steps=[('gbr', Gradie...     subsample=1, verbose=0, warm_start=False))]), memmap([[-0.95151094, -0.95135096, -0.95097085, ... 0.82246415,\n          0.82362011, -0.84902975]]), array([ 26.5 ,  25.  ,  25.75, ..., 116.76, 116.73, 115.82]), {'score': <function _passthrough_scorer>}, array([3003, 3004, 3005, ..., 9004, 9005, 9006]), array([   0,    1,    2, ..., 3000, 3001, 3002]), 0, {'gbr__learning_rate': 0.0, 'gbr__loss': 'ls', 'gbr__max_depth': 1, 'gbr__max_features': 0, 'gbr__min_samples_leaf': 1, 'gbr__min_samples_split': 1, 'gbr__n_estimators': 8, 'gbr__subsample': 1}), {'error_score': 'raise', 'fit_params': {}, 'return_n_test_samples': True, 'return_parameters': False, 'return_times': True, 'return_train_score': 'warn'})]\n    132 \n    133     def __len__(self):\n    134         return self._size\n    135 \n\n...........................................................................\n/Users/adamdelreal/anaconda3/envs/tensorflow/lib/python3.6/site-packages/sklearn/externals/joblib/parallel.py in <listcomp>(.0=<list_iterator object>)\n    126     def __init__(self, iterator_slice):\n    127         self.items = list(iterator_slice)\n    128         self._size = len(self.items)\n    129 \n    130     def __call__(self):\n--> 131         return [func(*args, **kwargs) for func, args, kwargs in self.items]\n        func = <function _fit_and_score>\n        args = (Pipeline(memory=None,\n     steps=[('gbr', Gradie...     subsample=1, verbose=0, warm_start=False))]), memmap([[-0.95151094, -0.95135096, -0.95097085, ... 0.82246415,\n          0.82362011, -0.84902975]]), array([ 26.5 ,  25.  ,  25.75, ..., 116.76, 116.73, 115.82]), {'score': <function _passthrough_scorer>}, array([3003, 3004, 3005, ..., 9004, 9005, 9006]), array([   0,    1,    2, ..., 3000, 3001, 3002]), 0, {'gbr__learning_rate': 0.0, 'gbr__loss': 'ls', 'gbr__max_depth': 1, 'gbr__max_features': 0, 'gbr__min_samples_leaf': 1, 'gbr__min_samples_split': 1, 'gbr__n_estimators': 8, 'gbr__subsample': 1})\n        kwargs = {'error_score': 'raise', 'fit_params': {}, 'return_n_test_samples': True, 'return_parameters': False, 'return_times': True, 'return_train_score': 'warn'}\n    132 \n    133     def __len__(self):\n    134         return self._size\n    135 \n\n...........................................................................\n/Users/adamdelreal/anaconda3/envs/tensorflow/lib/python3.6/site-packages/sklearn/model_selection/_validation.py in _fit_and_score(estimator=Pipeline(memory=None,\n     steps=[('gbr', Gradie...     subsample=1, verbose=0, warm_start=False))]), X=memmap([[-0.95151094, -0.95135096, -0.95097085, ... 0.82246415,\n          0.82362011, -0.84902975]]), y=array([ 26.5 ,  25.  ,  25.75, ..., 116.76, 116.73, 115.82]), scorer={'score': <function _passthrough_scorer>}, train=array([3003, 3004, 3005, ..., 9004, 9005, 9006]), test=array([   0,    1,    2, ..., 3000, 3001, 3002]), verbose=0, parameters={'gbr__learning_rate': 0.0, 'gbr__loss': 'ls', 'gbr__max_depth': 1, 'gbr__max_features': 0, 'gbr__min_samples_leaf': 1, 'gbr__min_samples_split': 1, 'gbr__n_estimators': 8, 'gbr__subsample': 1}, fit_params={}, return_train_score='warn', return_parameters=False, return_n_test_samples=True, return_times=True, error_score='raise')\n    453 \n    454     try:\n    455         if y_train is None:\n    456             estimator.fit(X_train, **fit_params)\n    457         else:\n--> 458             estimator.fit(X_train, y_train, **fit_params)\n        estimator.fit = <bound method Pipeline.fit of Pipeline(memory=No...    subsample=1, verbose=0, warm_start=False))])>\n        X_train = memmap([[-0.87883522, -0.87497658, -0.87800805, ... 0.82246415,\n          0.82362011, -0.84902975]])\n        y_train = array([ 54.63,  55.  ,  55.  , ..., 116.76, 116.73, 115.82])\n        fit_params = {}\n    459 \n    460     except Exception as e:\n    461         # Note fit time as time until error\n    462         fit_time = time.time() - start_time\n\n...........................................................................\n/Users/adamdelreal/anaconda3/envs/tensorflow/lib/python3.6/site-packages/sklearn/pipeline.py in fit(self=Pipeline(memory=None,\n     steps=[('gbr', Gradie...     subsample=1, verbose=0, warm_start=False))]), X=memmap([[-0.87883522, -0.87497658, -0.87800805, ... 0.82246415,\n          0.82362011, -0.84902975]]), y=array([ 54.63,  55.  ,  55.  , ..., 116.76, 116.73, 115.82]), **fit_params={})\n    245         self : Pipeline\n    246             This estimator\n    247         \"\"\"\n    248         Xt, fit_params = self._fit(X, y, **fit_params)\n    249         if self._final_estimator is not None:\n--> 250             self._final_estimator.fit(Xt, y, **fit_params)\n        self._final_estimator.fit = <bound method BaseGradientBoosting.fit of Gradie...       subsample=1, verbose=0, warm_start=False)>\n        Xt = memmap([[-0.87883522, -0.87497658, -0.87800805, ... 0.82246415,\n          0.82362011, -0.84902975]])\n        y = array([ 54.63,  55.  ,  55.  , ..., 116.76, 116.73, 115.82])\n        fit_params = {}\n    251         return self\n    252 \n    253     def fit_transform(self, X, y=None, **fit_params):\n    254         \"\"\"Fit the model and transform with the final estimator\n\n...........................................................................\n/Users/adamdelreal/anaconda3/envs/tensorflow/lib/python3.6/site-packages/sklearn/ensemble/gradient_boosting.py in fit(self=GradientBoostingRegressor(alpha=0.9, criterion='...        subsample=1, verbose=0, warm_start=False), X=array([[-0.8788352 , -0.8749766 , -0.87800807, ....        0.8236201 , -0.8490298 ]], dtype=float32), y=array([ 54.63,  55.  ,  55.  , ..., 116.76, 116.73, 115.82]), sample_weight=array([1., 1., 1., ..., 1., 1., 1.], dtype=float32), monitor=None)\n    986         check_consistent_length(X, y, sample_weight)\n    987 \n    988         y = self._validate_y(y)\n    989 \n    990         random_state = check_random_state(self.random_state)\n--> 991         self._check_params()\n        self._check_params = <bound method BaseGradientBoosting._check_params...       subsample=1, verbose=0, warm_start=False)>\n    992 \n    993         if not self._is_initialized():\n    994             # init state\n    995             self._init_state()\n\n...........................................................................\n/Users/adamdelreal/anaconda3/envs/tensorflow/lib/python3.6/site-packages/sklearn/ensemble/gradient_boosting.py in _check_params(self=GradientBoostingRegressor(alpha=0.9, criterion='...        subsample=1, verbose=0, warm_start=False))\n    808             raise ValueError(\"n_estimators must be greater than 0 but \"\n    809                              \"was %r\" % self.n_estimators)\n    810 \n    811         if self.learning_rate <= 0.0:\n    812             raise ValueError(\"learning_rate must be greater than 0 but \"\n--> 813                              \"was %r\" % self.learning_rate)\n        self.learning_rate = 0.0\n    814 \n    815         if (self.loss not in self._SUPPORTED_LOSS\n    816                 or self.loss not in LOSS_FUNCTIONS):\n    817             raise ValueError(\"Loss '{0:s}' not supported. \".format(self.loss))\n\nValueError: learning_rate must be greater than 0 but was 0.0\n___________________________________________________________________________",
      "\nDuring handling of the above exception, another exception occurred:\n",
      "\u001b[0;31mKeyboardInterrupt\u001b[0m                         Traceback (most recent call last)",
      "\u001b[0;32m<ipython-input-33-10213430a4af>\u001b[0m in \u001b[0;36m<module>\u001b[0;34m()\u001b[0m\n\u001b[0;32m----> 1\u001b[0;31m \u001b[0mgrid\u001b[0m\u001b[0;34m.\u001b[0m\u001b[0mfit\u001b[0m\u001b[0;34m(\u001b[0m\u001b[0mX_train_sc\u001b[0m\u001b[0;34m,\u001b[0m \u001b[0my_train\u001b[0m\u001b[0;34m)\u001b[0m\u001b[0;34m\u001b[0m\u001b[0m\n\u001b[0m",
      "\u001b[0;32m~/anaconda3/envs/tensorflow/lib/python3.6/site-packages/sklearn/model_selection/_search.py\u001b[0m in \u001b[0;36mfit\u001b[0;34m(self, X, y, groups, **fit_params)\u001b[0m\n\u001b[1;32m    637\u001b[0m                                   error_score=self.error_score)\n\u001b[1;32m    638\u001b[0m           for parameters, (train, test) in product(candidate_params,\n\u001b[0;32m--> 639\u001b[0;31m                                                    cv.split(X, y, groups)))\n\u001b[0m\u001b[1;32m    640\u001b[0m \u001b[0;34m\u001b[0m\u001b[0m\n\u001b[1;32m    641\u001b[0m         \u001b[0;31m# if one choose to see train score, \"out\" will contain train score info\u001b[0m\u001b[0;34m\u001b[0m\u001b[0;34m\u001b[0m\u001b[0m\n",
      "\u001b[0;32m~/anaconda3/envs/tensorflow/lib/python3.6/site-packages/sklearn/externals/joblib/parallel.py\u001b[0m in \u001b[0;36m__call__\u001b[0;34m(self, iterable)\u001b[0m\n\u001b[1;32m    787\u001b[0m                 \u001b[0;31m# consumption.\u001b[0m\u001b[0;34m\u001b[0m\u001b[0;34m\u001b[0m\u001b[0m\n\u001b[1;32m    788\u001b[0m                 \u001b[0mself\u001b[0m\u001b[0;34m.\u001b[0m\u001b[0m_iterating\u001b[0m \u001b[0;34m=\u001b[0m \u001b[0;32mFalse\u001b[0m\u001b[0;34m\u001b[0m\u001b[0m\n\u001b[0;32m--> 789\u001b[0;31m             \u001b[0mself\u001b[0m\u001b[0;34m.\u001b[0m\u001b[0mretrieve\u001b[0m\u001b[0;34m(\u001b[0m\u001b[0;34m)\u001b[0m\u001b[0;34m\u001b[0m\u001b[0m\n\u001b[0m\u001b[1;32m    790\u001b[0m             \u001b[0;31m# Make sure that we get a last message telling us we are done\u001b[0m\u001b[0;34m\u001b[0m\u001b[0;34m\u001b[0m\u001b[0m\n\u001b[1;32m    791\u001b[0m             \u001b[0melapsed_time\u001b[0m \u001b[0;34m=\u001b[0m \u001b[0mtime\u001b[0m\u001b[0;34m.\u001b[0m\u001b[0mtime\u001b[0m\u001b[0;34m(\u001b[0m\u001b[0;34m)\u001b[0m \u001b[0;34m-\u001b[0m \u001b[0mself\u001b[0m\u001b[0;34m.\u001b[0m\u001b[0m_start_time\u001b[0m\u001b[0;34m\u001b[0m\u001b[0m\n",
      "\u001b[0;32m~/anaconda3/envs/tensorflow/lib/python3.6/site-packages/sklearn/externals/joblib/parallel.py\u001b[0m in \u001b[0;36mretrieve\u001b[0;34m(self)\u001b[0m\n\u001b[1;32m    719\u001b[0m                     \u001b[0;31m# scheduling.\u001b[0m\u001b[0;34m\u001b[0m\u001b[0;34m\u001b[0m\u001b[0m\n\u001b[1;32m    720\u001b[0m                     \u001b[0mensure_ready\u001b[0m \u001b[0;34m=\u001b[0m \u001b[0mself\u001b[0m\u001b[0;34m.\u001b[0m\u001b[0m_managed_backend\u001b[0m\u001b[0;34m\u001b[0m\u001b[0m\n\u001b[0;32m--> 721\u001b[0;31m                     \u001b[0mbackend\u001b[0m\u001b[0;34m.\u001b[0m\u001b[0mabort_everything\u001b[0m\u001b[0;34m(\u001b[0m\u001b[0mensure_ready\u001b[0m\u001b[0;34m=\u001b[0m\u001b[0mensure_ready\u001b[0m\u001b[0;34m)\u001b[0m\u001b[0;34m\u001b[0m\u001b[0m\n\u001b[0m\u001b[1;32m    722\u001b[0m \u001b[0;34m\u001b[0m\u001b[0m\n\u001b[1;32m    723\u001b[0m                 \u001b[0;32mif\u001b[0m \u001b[0;32mnot\u001b[0m \u001b[0misinstance\u001b[0m\u001b[0;34m(\u001b[0m\u001b[0mexception\u001b[0m\u001b[0;34m,\u001b[0m \u001b[0mTransportableException\u001b[0m\u001b[0;34m)\u001b[0m\u001b[0;34m:\u001b[0m\u001b[0;34m\u001b[0m\u001b[0m\n",
      "\u001b[0;32m~/anaconda3/envs/tensorflow/lib/python3.6/site-packages/sklearn/externals/joblib/_parallel_backends.py\u001b[0m in \u001b[0;36mabort_everything\u001b[0;34m(self, ensure_ready)\u001b[0m\n\u001b[1;32m    143\u001b[0m     \u001b[0;32mdef\u001b[0m \u001b[0mabort_everything\u001b[0m\u001b[0;34m(\u001b[0m\u001b[0mself\u001b[0m\u001b[0;34m,\u001b[0m \u001b[0mensure_ready\u001b[0m\u001b[0;34m=\u001b[0m\u001b[0;32mTrue\u001b[0m\u001b[0;34m)\u001b[0m\u001b[0;34m:\u001b[0m\u001b[0;34m\u001b[0m\u001b[0m\n\u001b[1;32m    144\u001b[0m         \u001b[0;34m\"\"\"Shutdown the pool and restart a new one with the same parameters\"\"\"\u001b[0m\u001b[0;34m\u001b[0m\u001b[0m\n\u001b[0;32m--> 145\u001b[0;31m         \u001b[0mself\u001b[0m\u001b[0;34m.\u001b[0m\u001b[0mterminate\u001b[0m\u001b[0;34m(\u001b[0m\u001b[0;34m)\u001b[0m\u001b[0;34m\u001b[0m\u001b[0m\n\u001b[0m\u001b[1;32m    146\u001b[0m         \u001b[0;32mif\u001b[0m \u001b[0mensure_ready\u001b[0m\u001b[0;34m:\u001b[0m\u001b[0;34m\u001b[0m\u001b[0m\n\u001b[1;32m    147\u001b[0m             self.configure(n_jobs=self.parallel.n_jobs, parallel=self.parallel,\n",
      "\u001b[0;32m~/anaconda3/envs/tensorflow/lib/python3.6/site-packages/sklearn/externals/joblib/_parallel_backends.py\u001b[0m in \u001b[0;36mterminate\u001b[0;34m(self)\u001b[0m\n\u001b[1;32m    321\u001b[0m     \u001b[0;32mdef\u001b[0m \u001b[0mterminate\u001b[0m\u001b[0;34m(\u001b[0m\u001b[0mself\u001b[0m\u001b[0;34m)\u001b[0m\u001b[0;34m:\u001b[0m\u001b[0;34m\u001b[0m\u001b[0m\n\u001b[1;32m    322\u001b[0m         \u001b[0;34m\"\"\"Shutdown the process or thread pool\"\"\"\u001b[0m\u001b[0;34m\u001b[0m\u001b[0m\n\u001b[0;32m--> 323\u001b[0;31m         \u001b[0msuper\u001b[0m\u001b[0;34m(\u001b[0m\u001b[0mMultiprocessingBackend\u001b[0m\u001b[0;34m,\u001b[0m \u001b[0mself\u001b[0m\u001b[0;34m)\u001b[0m\u001b[0;34m.\u001b[0m\u001b[0mterminate\u001b[0m\u001b[0;34m(\u001b[0m\u001b[0;34m)\u001b[0m\u001b[0;34m\u001b[0m\u001b[0m\n\u001b[0m\u001b[1;32m    324\u001b[0m         \u001b[0;32mif\u001b[0m \u001b[0mself\u001b[0m\u001b[0;34m.\u001b[0m\u001b[0mJOBLIB_SPAWNED_PROCESS\u001b[0m \u001b[0;32min\u001b[0m \u001b[0mos\u001b[0m\u001b[0;34m.\u001b[0m\u001b[0menviron\u001b[0m\u001b[0;34m:\u001b[0m\u001b[0;34m\u001b[0m\u001b[0m\n\u001b[1;32m    325\u001b[0m             \u001b[0;32mdel\u001b[0m \u001b[0mos\u001b[0m\u001b[0;34m.\u001b[0m\u001b[0menviron\u001b[0m\u001b[0;34m[\u001b[0m\u001b[0mself\u001b[0m\u001b[0;34m.\u001b[0m\u001b[0mJOBLIB_SPAWNED_PROCESS\u001b[0m\u001b[0;34m]\u001b[0m\u001b[0;34m\u001b[0m\u001b[0m\n",
      "\u001b[0;32m~/anaconda3/envs/tensorflow/lib/python3.6/site-packages/sklearn/externals/joblib/_parallel_backends.py\u001b[0m in \u001b[0;36mterminate\u001b[0;34m(self)\u001b[0m\n\u001b[1;32m    134\u001b[0m         \u001b[0;32mif\u001b[0m \u001b[0mself\u001b[0m\u001b[0;34m.\u001b[0m\u001b[0m_pool\u001b[0m \u001b[0;32mis\u001b[0m \u001b[0;32mnot\u001b[0m \u001b[0;32mNone\u001b[0m\u001b[0;34m:\u001b[0m\u001b[0;34m\u001b[0m\u001b[0m\n\u001b[1;32m    135\u001b[0m             \u001b[0mself\u001b[0m\u001b[0;34m.\u001b[0m\u001b[0m_pool\u001b[0m\u001b[0;34m.\u001b[0m\u001b[0mclose\u001b[0m\u001b[0;34m(\u001b[0m\u001b[0;34m)\u001b[0m\u001b[0;34m\u001b[0m\u001b[0m\n\u001b[0;32m--> 136\u001b[0;31m             \u001b[0mself\u001b[0m\u001b[0;34m.\u001b[0m\u001b[0m_pool\u001b[0m\u001b[0;34m.\u001b[0m\u001b[0mterminate\u001b[0m\u001b[0;34m(\u001b[0m\u001b[0;34m)\u001b[0m  \u001b[0;31m# terminate does a join()\u001b[0m\u001b[0;34m\u001b[0m\u001b[0m\n\u001b[0m\u001b[1;32m    137\u001b[0m             \u001b[0mself\u001b[0m\u001b[0;34m.\u001b[0m\u001b[0m_pool\u001b[0m \u001b[0;34m=\u001b[0m \u001b[0;32mNone\u001b[0m\u001b[0;34m\u001b[0m\u001b[0m\n\u001b[1;32m    138\u001b[0m \u001b[0;34m\u001b[0m\u001b[0m\n",
      "\u001b[0;32m~/anaconda3/envs/tensorflow/lib/python3.6/site-packages/sklearn/externals/joblib/pool.py\u001b[0m in \u001b[0;36mterminate\u001b[0;34m(self)\u001b[0m\n\u001b[1;32m    604\u001b[0m         \u001b[0;32mfor\u001b[0m \u001b[0mi\u001b[0m \u001b[0;32min\u001b[0m \u001b[0mrange\u001b[0m\u001b[0;34m(\u001b[0m\u001b[0mn_retries\u001b[0m\u001b[0;34m)\u001b[0m\u001b[0;34m:\u001b[0m\u001b[0;34m\u001b[0m\u001b[0m\n\u001b[1;32m    605\u001b[0m             \u001b[0;32mtry\u001b[0m\u001b[0;34m:\u001b[0m\u001b[0;34m\u001b[0m\u001b[0m\n\u001b[0;32m--> 606\u001b[0;31m                 \u001b[0msuper\u001b[0m\u001b[0;34m(\u001b[0m\u001b[0mMemmapingPool\u001b[0m\u001b[0;34m,\u001b[0m \u001b[0mself\u001b[0m\u001b[0;34m)\u001b[0m\u001b[0;34m.\u001b[0m\u001b[0mterminate\u001b[0m\u001b[0;34m(\u001b[0m\u001b[0;34m)\u001b[0m\u001b[0;34m\u001b[0m\u001b[0m\n\u001b[0m\u001b[1;32m    607\u001b[0m                 \u001b[0;32mbreak\u001b[0m\u001b[0;34m\u001b[0m\u001b[0m\n\u001b[1;32m    608\u001b[0m             \u001b[0;32mexcept\u001b[0m \u001b[0mOSError\u001b[0m \u001b[0;32mas\u001b[0m \u001b[0me\u001b[0m\u001b[0;34m:\u001b[0m\u001b[0;34m\u001b[0m\u001b[0m\n",
      "\u001b[0;32m~/anaconda3/envs/tensorflow/lib/python3.6/multiprocessing/pool.py\u001b[0m in \u001b[0;36mterminate\u001b[0;34m(self)\u001b[0m\n\u001b[1;32m    539\u001b[0m         \u001b[0mself\u001b[0m\u001b[0;34m.\u001b[0m\u001b[0m_state\u001b[0m \u001b[0;34m=\u001b[0m \u001b[0mTERMINATE\u001b[0m\u001b[0;34m\u001b[0m\u001b[0m\n\u001b[1;32m    540\u001b[0m         \u001b[0mself\u001b[0m\u001b[0;34m.\u001b[0m\u001b[0m_worker_handler\u001b[0m\u001b[0;34m.\u001b[0m\u001b[0m_state\u001b[0m \u001b[0;34m=\u001b[0m \u001b[0mTERMINATE\u001b[0m\u001b[0;34m\u001b[0m\u001b[0m\n\u001b[0;32m--> 541\u001b[0;31m         \u001b[0mself\u001b[0m\u001b[0;34m.\u001b[0m\u001b[0m_terminate\u001b[0m\u001b[0;34m(\u001b[0m\u001b[0;34m)\u001b[0m\u001b[0;34m\u001b[0m\u001b[0m\n\u001b[0m\u001b[1;32m    542\u001b[0m \u001b[0;34m\u001b[0m\u001b[0m\n\u001b[1;32m    543\u001b[0m     \u001b[0;32mdef\u001b[0m \u001b[0mjoin\u001b[0m\u001b[0;34m(\u001b[0m\u001b[0mself\u001b[0m\u001b[0;34m)\u001b[0m\u001b[0;34m:\u001b[0m\u001b[0;34m\u001b[0m\u001b[0m\n",
      "\u001b[0;32m~/anaconda3/envs/tensorflow/lib/python3.6/multiprocessing/util.py\u001b[0m in \u001b[0;36m__call__\u001b[0;34m(self, wr, _finalizer_registry, sub_debug, getpid)\u001b[0m\n\u001b[1;32m    184\u001b[0m                 sub_debug('finalizer calling %s with args %s and kwargs %s',\n\u001b[1;32m    185\u001b[0m                           self._callback, self._args, self._kwargs)\n\u001b[0;32m--> 186\u001b[0;31m                 \u001b[0mres\u001b[0m \u001b[0;34m=\u001b[0m \u001b[0mself\u001b[0m\u001b[0;34m.\u001b[0m\u001b[0m_callback\u001b[0m\u001b[0;34m(\u001b[0m\u001b[0;34m*\u001b[0m\u001b[0mself\u001b[0m\u001b[0;34m.\u001b[0m\u001b[0m_args\u001b[0m\u001b[0;34m,\u001b[0m \u001b[0;34m**\u001b[0m\u001b[0mself\u001b[0m\u001b[0;34m.\u001b[0m\u001b[0m_kwargs\u001b[0m\u001b[0;34m)\u001b[0m\u001b[0;34m\u001b[0m\u001b[0m\n\u001b[0m\u001b[1;32m    187\u001b[0m             \u001b[0mself\u001b[0m\u001b[0;34m.\u001b[0m\u001b[0m_weakref\u001b[0m \u001b[0;34m=\u001b[0m \u001b[0mself\u001b[0m\u001b[0;34m.\u001b[0m\u001b[0m_callback\u001b[0m \u001b[0;34m=\u001b[0m \u001b[0mself\u001b[0m\u001b[0;34m.\u001b[0m\u001b[0m_args\u001b[0m \u001b[0;34m=\u001b[0m\u001b[0;31m \u001b[0m\u001b[0;31m\\\u001b[0m\u001b[0;34m\u001b[0m\u001b[0m\n\u001b[1;32m    188\u001b[0m                             \u001b[0mself\u001b[0m\u001b[0;34m.\u001b[0m\u001b[0m_kwargs\u001b[0m \u001b[0;34m=\u001b[0m \u001b[0mself\u001b[0m\u001b[0;34m.\u001b[0m\u001b[0m_key\u001b[0m \u001b[0;34m=\u001b[0m \u001b[0;32mNone\u001b[0m\u001b[0;34m\u001b[0m\u001b[0m\n",
      "\u001b[0;32m~/anaconda3/envs/tensorflow/lib/python3.6/multiprocessing/pool.py\u001b[0m in \u001b[0;36m_terminate_pool\u001b[0;34m(cls, taskqueue, inqueue, outqueue, pool, worker_handler, task_handler, result_handler, cache)\u001b[0m\n\u001b[1;32m    591\u001b[0m         \u001b[0mutil\u001b[0m\u001b[0;34m.\u001b[0m\u001b[0mdebug\u001b[0m\u001b[0;34m(\u001b[0m\u001b[0;34m'joining task handler'\u001b[0m\u001b[0;34m)\u001b[0m\u001b[0;34m\u001b[0m\u001b[0m\n\u001b[1;32m    592\u001b[0m         \u001b[0;32mif\u001b[0m \u001b[0mthreading\u001b[0m\u001b[0;34m.\u001b[0m\u001b[0mcurrent_thread\u001b[0m\u001b[0;34m(\u001b[0m\u001b[0;34m)\u001b[0m \u001b[0;32mis\u001b[0m \u001b[0;32mnot\u001b[0m \u001b[0mtask_handler\u001b[0m\u001b[0;34m:\u001b[0m\u001b[0;34m\u001b[0m\u001b[0m\n\u001b[0;32m--> 593\u001b[0;31m             \u001b[0mtask_handler\u001b[0m\u001b[0;34m.\u001b[0m\u001b[0mjoin\u001b[0m\u001b[0;34m(\u001b[0m\u001b[0;34m)\u001b[0m\u001b[0;34m\u001b[0m\u001b[0m\n\u001b[0m\u001b[1;32m    594\u001b[0m \u001b[0;34m\u001b[0m\u001b[0m\n\u001b[1;32m    595\u001b[0m         \u001b[0mutil\u001b[0m\u001b[0;34m.\u001b[0m\u001b[0mdebug\u001b[0m\u001b[0;34m(\u001b[0m\u001b[0;34m'joining result handler'\u001b[0m\u001b[0;34m)\u001b[0m\u001b[0;34m\u001b[0m\u001b[0m\n",
      "\u001b[0;32m~/anaconda3/envs/tensorflow/lib/python3.6/threading.py\u001b[0m in \u001b[0;36mjoin\u001b[0;34m(self, timeout)\u001b[0m\n\u001b[1;32m   1054\u001b[0m \u001b[0;34m\u001b[0m\u001b[0m\n\u001b[1;32m   1055\u001b[0m         \u001b[0;32mif\u001b[0m \u001b[0mtimeout\u001b[0m \u001b[0;32mis\u001b[0m \u001b[0;32mNone\u001b[0m\u001b[0;34m:\u001b[0m\u001b[0;34m\u001b[0m\u001b[0m\n\u001b[0;32m-> 1056\u001b[0;31m             \u001b[0mself\u001b[0m\u001b[0;34m.\u001b[0m\u001b[0m_wait_for_tstate_lock\u001b[0m\u001b[0;34m(\u001b[0m\u001b[0;34m)\u001b[0m\u001b[0;34m\u001b[0m\u001b[0m\n\u001b[0m\u001b[1;32m   1057\u001b[0m         \u001b[0;32melse\u001b[0m\u001b[0;34m:\u001b[0m\u001b[0;34m\u001b[0m\u001b[0m\n\u001b[1;32m   1058\u001b[0m             \u001b[0;31m# the behavior of a negative timeout isn't documented, but\u001b[0m\u001b[0;34m\u001b[0m\u001b[0;34m\u001b[0m\u001b[0m\n",
      "\u001b[0;32m~/anaconda3/envs/tensorflow/lib/python3.6/threading.py\u001b[0m in \u001b[0;36m_wait_for_tstate_lock\u001b[0;34m(self, block, timeout)\u001b[0m\n\u001b[1;32m   1070\u001b[0m         \u001b[0;32mif\u001b[0m \u001b[0mlock\u001b[0m \u001b[0;32mis\u001b[0m \u001b[0;32mNone\u001b[0m\u001b[0;34m:\u001b[0m  \u001b[0;31m# already determined that the C code is done\u001b[0m\u001b[0;34m\u001b[0m\u001b[0m\n\u001b[1;32m   1071\u001b[0m             \u001b[0;32massert\u001b[0m \u001b[0mself\u001b[0m\u001b[0;34m.\u001b[0m\u001b[0m_is_stopped\u001b[0m\u001b[0;34m\u001b[0m\u001b[0m\n\u001b[0;32m-> 1072\u001b[0;31m         \u001b[0;32melif\u001b[0m \u001b[0mlock\u001b[0m\u001b[0;34m.\u001b[0m\u001b[0macquire\u001b[0m\u001b[0;34m(\u001b[0m\u001b[0mblock\u001b[0m\u001b[0;34m,\u001b[0m \u001b[0mtimeout\u001b[0m\u001b[0;34m)\u001b[0m\u001b[0;34m:\u001b[0m\u001b[0;34m\u001b[0m\u001b[0m\n\u001b[0m\u001b[1;32m   1073\u001b[0m             \u001b[0mlock\u001b[0m\u001b[0;34m.\u001b[0m\u001b[0mrelease\u001b[0m\u001b[0;34m(\u001b[0m\u001b[0;34m)\u001b[0m\u001b[0;34m\u001b[0m\u001b[0m\n\u001b[1;32m   1074\u001b[0m             \u001b[0mself\u001b[0m\u001b[0;34m.\u001b[0m\u001b[0m_stop\u001b[0m\u001b[0;34m(\u001b[0m\u001b[0;34m)\u001b[0m\u001b[0;34m\u001b[0m\u001b[0m\n",
      "\u001b[0;31mKeyboardInterrupt\u001b[0m: "
     ]
    }
   ],
   "source": [
    "grid.fit(X_train_sc, y_train)"
   ]
  },
  {
   "cell_type": "code",
   "execution_count": null,
   "metadata": {},
   "outputs": [],
   "source": [
    "grid.score(X_train_sc, y_train)"
   ]
  },
  {
   "cell_type": "code",
   "execution_count": null,
   "metadata": {},
   "outputs": [],
   "source": []
  }
 ],
 "metadata": {
  "kernelspec": {
   "display_name": "Python 3",
   "language": "python",
   "name": "python3"
  },
  "language_info": {
   "codemirror_mode": {
    "name": "ipython",
    "version": 3
   },
   "file_extension": ".py",
   "mimetype": "text/x-python",
   "name": "python",
   "nbconvert_exporter": "python",
   "pygments_lexer": "ipython3",
   "version": "3.6.5"
  }
 },
 "nbformat": 4,
 "nbformat_minor": 2
}
