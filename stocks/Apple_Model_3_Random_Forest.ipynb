{
 "cells": [
  {
   "cell_type": "markdown",
   "metadata": {},
   "source": [
    "# Apple, Inc. (AAPL) - Random Forest Regressor:\n",
    "\n",
    "---------\n",
    "\n",
    "\n",
    "###  Overview: \n",
    "- 1) Importing the data.\n",
    "- 2) Data Preprocessing.\n",
    "- 3) Normalizing the data.\n",
    "- 4) Modeling.\n",
    "\n",
    "---------\n",
    "\n",
    "## Importing Libraries:"
   ]
  },
  {
   "cell_type": "code",
   "execution_count": 1,
   "metadata": {},
   "outputs": [],
   "source": [
    "import pandas as pd\n",
    "import numpy as np\n",
    "import matplotlib.pyplot as plt \n",
    "import seaborn as sns\n",
    "\n",
    "from datetime import datetime\n",
    "\n",
    "from sklearn.ensemble import RandomForestRegressor\n",
    "from sklearn.preprocessing import MinMaxScaler\n",
    "from sklearn.decomposition import PCA\n",
    "from sklearn.pipeline import Pipeline\n",
    "\n",
    "%matplotlib inline\n",
    "%config InlineBackend.figure_format = 'retina'\n",
    "\n",
    "import sys\n",
    "\n",
    "sys.path.append('..')"
   ]
  },
  {
   "cell_type": "markdown",
   "metadata": {},
   "source": [
    "-----\n",
    "\n",
    "## Company Name"
   ]
  },
  {
   "cell_type": "code",
   "execution_count": 2,
   "metadata": {},
   "outputs": [],
   "source": [
    "company_name = 'Apple'"
   ]
  },
  {
   "cell_type": "markdown",
   "metadata": {},
   "source": [
    "---\n",
    "\n",
    "## Importing the Data:"
   ]
  },
  {
   "cell_type": "code",
   "execution_count": 3,
   "metadata": {},
   "outputs": [],
   "source": [
    "from lib.helper import data_importer"
   ]
  },
  {
   "cell_type": "code",
   "execution_count": 4,
   "metadata": {},
   "outputs": [],
   "source": [
    "df = data_importer(company_name)"
   ]
  },
  {
   "cell_type": "code",
   "execution_count": 5,
   "metadata": {
    "scrolled": true
   },
   "outputs": [
    {
     "data": {
      "text/html": [
       "<div>\n",
       "<style scoped>\n",
       "    .dataframe tbody tr th:only-of-type {\n",
       "        vertical-align: middle;\n",
       "    }\n",
       "\n",
       "    .dataframe tbody tr th {\n",
       "        vertical-align: top;\n",
       "    }\n",
       "\n",
       "    .dataframe thead th {\n",
       "        text-align: right;\n",
       "    }\n",
       "</style>\n",
       "<table border=\"1\" class=\"dataframe\">\n",
       "  <thead>\n",
       "    <tr style=\"text-align: right;\">\n",
       "      <th></th>\n",
       "      <th>Open</th>\n",
       "      <th>High</th>\n",
       "      <th>Low</th>\n",
       "      <th>Close</th>\n",
       "      <th>Volume</th>\n",
       "      <th>Ex_Dividend</th>\n",
       "      <th>Split_Ratio</th>\n",
       "      <th>Adj_Open</th>\n",
       "      <th>Adj_High</th>\n",
       "      <th>Adj_Low</th>\n",
       "      <th>Adj_Close</th>\n",
       "      <th>Adj_Volume</th>\n",
       "    </tr>\n",
       "    <tr>\n",
       "      <th>Date</th>\n",
       "      <th></th>\n",
       "      <th></th>\n",
       "      <th></th>\n",
       "      <th></th>\n",
       "      <th></th>\n",
       "      <th></th>\n",
       "      <th></th>\n",
       "      <th></th>\n",
       "      <th></th>\n",
       "      <th></th>\n",
       "      <th></th>\n",
       "      <th></th>\n",
       "    </tr>\n",
       "  </thead>\n",
       "  <tbody>\n",
       "    <tr>\n",
       "      <th>1980-12-12</th>\n",
       "      <td>28.75</td>\n",
       "      <td>28.87</td>\n",
       "      <td>28.75</td>\n",
       "      <td>28.75</td>\n",
       "      <td>2093900.0</td>\n",
       "      <td>0.0</td>\n",
       "      <td>1.0</td>\n",
       "      <td>0.422706</td>\n",
       "      <td>0.424470</td>\n",
       "      <td>0.422706</td>\n",
       "      <td>0.422706</td>\n",
       "      <td>117258400.0</td>\n",
       "    </tr>\n",
       "    <tr>\n",
       "      <th>1980-12-15</th>\n",
       "      <td>27.38</td>\n",
       "      <td>27.38</td>\n",
       "      <td>27.25</td>\n",
       "      <td>27.25</td>\n",
       "      <td>785200.0</td>\n",
       "      <td>0.0</td>\n",
       "      <td>1.0</td>\n",
       "      <td>0.402563</td>\n",
       "      <td>0.402563</td>\n",
       "      <td>0.400652</td>\n",
       "      <td>0.400652</td>\n",
       "      <td>43971200.0</td>\n",
       "    </tr>\n",
       "    <tr>\n",
       "      <th>1980-12-16</th>\n",
       "      <td>25.37</td>\n",
       "      <td>25.37</td>\n",
       "      <td>25.25</td>\n",
       "      <td>25.25</td>\n",
       "      <td>472000.0</td>\n",
       "      <td>0.0</td>\n",
       "      <td>1.0</td>\n",
       "      <td>0.373010</td>\n",
       "      <td>0.373010</td>\n",
       "      <td>0.371246</td>\n",
       "      <td>0.371246</td>\n",
       "      <td>26432000.0</td>\n",
       "    </tr>\n",
       "  </tbody>\n",
       "</table>\n",
       "</div>"
      ],
      "text/plain": [
       "             Open   High    Low  Close     Volume  Ex_Dividend  Split_Ratio  \\\n",
       "Date                                                                          \n",
       "1980-12-12  28.75  28.87  28.75  28.75  2093900.0          0.0          1.0   \n",
       "1980-12-15  27.38  27.38  27.25  27.25   785200.0          0.0          1.0   \n",
       "1980-12-16  25.37  25.37  25.25  25.25   472000.0          0.0          1.0   \n",
       "\n",
       "            Adj_Open  Adj_High   Adj_Low  Adj_Close   Adj_Volume  \n",
       "Date                                                              \n",
       "1980-12-12  0.422706  0.424470  0.422706   0.422706  117258400.0  \n",
       "1980-12-15  0.402563  0.402563  0.400652   0.400652   43971200.0  \n",
       "1980-12-16  0.373010  0.373010  0.371246   0.371246   26432000.0  "
      ]
     },
     "execution_count": 5,
     "metadata": {},
     "output_type": "execute_result"
    }
   ],
   "source": [
    "df.head(3)"
   ]
  },
  {
   "cell_type": "markdown",
   "metadata": {},
   "source": [
    "-------\n",
    "\n",
    "## Importing the Shifted Data Set:"
   ]
  },
  {
   "cell_type": "code",
   "execution_count": 6,
   "metadata": {},
   "outputs": [],
   "source": [
    "from lib.helper import df_shift_importer"
   ]
  },
  {
   "cell_type": "code",
   "execution_count": 7,
   "metadata": {
    "scrolled": false
   },
   "outputs": [],
   "source": [
    "df_shift = df_shift_importer(company_name)"
   ]
  },
  {
   "cell_type": "code",
   "execution_count": 8,
   "metadata": {},
   "outputs": [
    {
     "data": {
      "text/html": [
       "<div>\n",
       "<style scoped>\n",
       "    .dataframe tbody tr th:only-of-type {\n",
       "        vertical-align: middle;\n",
       "    }\n",
       "\n",
       "    .dataframe tbody tr th {\n",
       "        vertical-align: top;\n",
       "    }\n",
       "\n",
       "    .dataframe thead th {\n",
       "        text-align: right;\n",
       "    }\n",
       "</style>\n",
       "<table border=\"1\" class=\"dataframe\">\n",
       "  <thead>\n",
       "    <tr style=\"text-align: right;\">\n",
       "      <th></th>\n",
       "      <th>Open</th>\n",
       "      <th>High</th>\n",
       "      <th>Low</th>\n",
       "      <th>Close</th>\n",
       "      <th>Volume</th>\n",
       "      <th>Ex_Dividend</th>\n",
       "      <th>Split_Ratio</th>\n",
       "      <th>Adj_Open</th>\n",
       "      <th>Adj_High</th>\n",
       "      <th>Adj_Low</th>\n",
       "      <th>...</th>\n",
       "      <th>Low_Long_EMA</th>\n",
       "      <th>Close_Long_EMA</th>\n",
       "      <th>Volume_Long_EMA</th>\n",
       "      <th>Ex_Dividend_Long_EMA</th>\n",
       "      <th>Split_Ratio_Long_EMA</th>\n",
       "      <th>Adj_Open_Long_EMA</th>\n",
       "      <th>Adj_High_Long_EMA</th>\n",
       "      <th>Adj_Low_Long_EMA</th>\n",
       "      <th>Adj_Close_Long_EMA</th>\n",
       "      <th>Adj_Volume_Long_EMA</th>\n",
       "    </tr>\n",
       "    <tr>\n",
       "      <th>Date</th>\n",
       "      <th></th>\n",
       "      <th></th>\n",
       "      <th></th>\n",
       "      <th></th>\n",
       "      <th></th>\n",
       "      <th></th>\n",
       "      <th></th>\n",
       "      <th></th>\n",
       "      <th></th>\n",
       "      <th></th>\n",
       "      <th></th>\n",
       "      <th></th>\n",
       "      <th></th>\n",
       "      <th></th>\n",
       "      <th></th>\n",
       "      <th></th>\n",
       "      <th></th>\n",
       "      <th></th>\n",
       "      <th></th>\n",
       "      <th></th>\n",
       "      <th></th>\n",
       "    </tr>\n",
       "  </thead>\n",
       "  <tbody>\n",
       "    <tr>\n",
       "      <th>1981-04-15</th>\n",
       "      <td>27.88</td>\n",
       "      <td>28.00</td>\n",
       "      <td>27.88</td>\n",
       "      <td>27.88</td>\n",
       "      <td>29700.0</td>\n",
       "      <td>0.0</td>\n",
       "      <td>1.0</td>\n",
       "      <td>0.409914</td>\n",
       "      <td>0.411679</td>\n",
       "      <td>0.409914</td>\n",
       "      <td>...</td>\n",
       "      <td>27.100545</td>\n",
       "      <td>27.100545</td>\n",
       "      <td>395955.964908</td>\n",
       "      <td>0.0</td>\n",
       "      <td>1.0</td>\n",
       "      <td>0.399428</td>\n",
       "      <td>0.400780</td>\n",
       "      <td>0.398454</td>\n",
       "      <td>0.398454</td>\n",
       "      <td>2.217353e+07</td>\n",
       "    </tr>\n",
       "    <tr>\n",
       "      <th>1981-04-16</th>\n",
       "      <td>26.63</td>\n",
       "      <td>26.63</td>\n",
       "      <td>26.50</td>\n",
       "      <td>26.50</td>\n",
       "      <td>152000.0</td>\n",
       "      <td>0.0</td>\n",
       "      <td>1.0</td>\n",
       "      <td>0.391536</td>\n",
       "      <td>0.391536</td>\n",
       "      <td>0.389625</td>\n",
       "      <td>...</td>\n",
       "      <td>27.086579</td>\n",
       "      <td>27.086579</td>\n",
       "      <td>390282.570375</td>\n",
       "      <td>0.0</td>\n",
       "      <td>1.0</td>\n",
       "      <td>0.399245</td>\n",
       "      <td>0.400565</td>\n",
       "      <td>0.398249</td>\n",
       "      <td>0.398249</td>\n",
       "      <td>2.185582e+07</td>\n",
       "    </tr>\n",
       "    <tr>\n",
       "      <th>1981-04-20</th>\n",
       "      <td>25.12</td>\n",
       "      <td>25.12</td>\n",
       "      <td>25.00</td>\n",
       "      <td>25.00</td>\n",
       "      <td>106600.0</td>\n",
       "      <td>0.0</td>\n",
       "      <td>1.0</td>\n",
       "      <td>0.369335</td>\n",
       "      <td>0.369335</td>\n",
       "      <td>0.367570</td>\n",
       "      <td>...</td>\n",
       "      <td>27.038054</td>\n",
       "      <td>27.038054</td>\n",
       "      <td>383685.301297</td>\n",
       "      <td>0.0</td>\n",
       "      <td>1.0</td>\n",
       "      <td>0.398549</td>\n",
       "      <td>0.399838</td>\n",
       "      <td>0.397535</td>\n",
       "      <td>0.397535</td>\n",
       "      <td>2.148638e+07</td>\n",
       "    </tr>\n",
       "    <tr>\n",
       "      <th>1981-04-21</th>\n",
       "      <td>25.75</td>\n",
       "      <td>25.87</td>\n",
       "      <td>25.75</td>\n",
       "      <td>25.75</td>\n",
       "      <td>157800.0</td>\n",
       "      <td>0.0</td>\n",
       "      <td>1.0</td>\n",
       "      <td>0.378597</td>\n",
       "      <td>0.380362</td>\n",
       "      <td>0.378597</td>\n",
       "      <td>...</td>\n",
       "      <td>27.008099</td>\n",
       "      <td>27.008099</td>\n",
       "      <td>378432.154755</td>\n",
       "      <td>0.0</td>\n",
       "      <td>1.0</td>\n",
       "      <td>0.398085</td>\n",
       "      <td>0.399385</td>\n",
       "      <td>0.397095</td>\n",
       "      <td>0.397095</td>\n",
       "      <td>2.119220e+07</td>\n",
       "    </tr>\n",
       "    <tr>\n",
       "      <th>1981-04-22</th>\n",
       "      <td>27.50</td>\n",
       "      <td>27.62</td>\n",
       "      <td>27.50</td>\n",
       "      <td>27.50</td>\n",
       "      <td>127400.0</td>\n",
       "      <td>0.0</td>\n",
       "      <td>1.0</td>\n",
       "      <td>0.404327</td>\n",
       "      <td>0.406092</td>\n",
       "      <td>0.404327</td>\n",
       "      <td>...</td>\n",
       "      <td>27.019539</td>\n",
       "      <td>27.019539</td>\n",
       "      <td>372594.197668</td>\n",
       "      <td>0.0</td>\n",
       "      <td>1.0</td>\n",
       "      <td>0.398231</td>\n",
       "      <td>0.399541</td>\n",
       "      <td>0.397263</td>\n",
       "      <td>0.397263</td>\n",
       "      <td>2.086528e+07</td>\n",
       "    </tr>\n",
       "  </tbody>\n",
       "</table>\n",
       "<p>5 rows × 84 columns</p>\n",
       "</div>"
      ],
      "text/plain": [
       "             Open   High    Low  Close    Volume  Ex_Dividend  Split_Ratio  \\\n",
       "Date                                                                         \n",
       "1981-04-15  27.88  28.00  27.88  27.88   29700.0          0.0          1.0   \n",
       "1981-04-16  26.63  26.63  26.50  26.50  152000.0          0.0          1.0   \n",
       "1981-04-20  25.12  25.12  25.00  25.00  106600.0          0.0          1.0   \n",
       "1981-04-21  25.75  25.87  25.75  25.75  157800.0          0.0          1.0   \n",
       "1981-04-22  27.50  27.62  27.50  27.50  127400.0          0.0          1.0   \n",
       "\n",
       "            Adj_Open  Adj_High   Adj_Low         ...           Low_Long_EMA  \\\n",
       "Date                                             ...                          \n",
       "1981-04-15  0.409914  0.411679  0.409914         ...              27.100545   \n",
       "1981-04-16  0.391536  0.391536  0.389625         ...              27.086579   \n",
       "1981-04-20  0.369335  0.369335  0.367570         ...              27.038054   \n",
       "1981-04-21  0.378597  0.380362  0.378597         ...              27.008099   \n",
       "1981-04-22  0.404327  0.406092  0.404327         ...              27.019539   \n",
       "\n",
       "            Close_Long_EMA  Volume_Long_EMA  Ex_Dividend_Long_EMA  \\\n",
       "Date                                                                \n",
       "1981-04-15       27.100545    395955.964908                   0.0   \n",
       "1981-04-16       27.086579    390282.570375                   0.0   \n",
       "1981-04-20       27.038054    383685.301297                   0.0   \n",
       "1981-04-21       27.008099    378432.154755                   0.0   \n",
       "1981-04-22       27.019539    372594.197668                   0.0   \n",
       "\n",
       "            Split_Ratio_Long_EMA  Adj_Open_Long_EMA  Adj_High_Long_EMA  \\\n",
       "Date                                                                     \n",
       "1981-04-15                   1.0           0.399428           0.400780   \n",
       "1981-04-16                   1.0           0.399245           0.400565   \n",
       "1981-04-20                   1.0           0.398549           0.399838   \n",
       "1981-04-21                   1.0           0.398085           0.399385   \n",
       "1981-04-22                   1.0           0.398231           0.399541   \n",
       "\n",
       "            Adj_Low_Long_EMA  Adj_Close_Long_EMA  Adj_Volume_Long_EMA  \n",
       "Date                                                                   \n",
       "1981-04-15          0.398454            0.398454         2.217353e+07  \n",
       "1981-04-16          0.398249            0.398249         2.185582e+07  \n",
       "1981-04-20          0.397535            0.397535         2.148638e+07  \n",
       "1981-04-21          0.397095            0.397095         2.119220e+07  \n",
       "1981-04-22          0.397263            0.397263         2.086528e+07  \n",
       "\n",
       "[5 rows x 84 columns]"
      ]
     },
     "execution_count": 8,
     "metadata": {},
     "output_type": "execute_result"
    }
   ],
   "source": [
    "df_shift.head()"
   ]
  },
  {
   "cell_type": "markdown",
   "metadata": {},
   "source": [
    "### Taking a Look at the Time-Shifted Data Set:"
   ]
  },
  {
   "cell_type": "code",
   "execution_count": 9,
   "metadata": {},
   "outputs": [
    {
     "data": {
      "text/html": [
       "<div>\n",
       "<style scoped>\n",
       "    .dataframe tbody tr th:only-of-type {\n",
       "        vertical-align: middle;\n",
       "    }\n",
       "\n",
       "    .dataframe tbody tr th {\n",
       "        vertical-align: top;\n",
       "    }\n",
       "\n",
       "    .dataframe thead th {\n",
       "        text-align: right;\n",
       "    }\n",
       "</style>\n",
       "<table border=\"1\" class=\"dataframe\">\n",
       "  <thead>\n",
       "    <tr style=\"text-align: right;\">\n",
       "      <th></th>\n",
       "      <th>Open</th>\n",
       "      <th>High</th>\n",
       "      <th>Low</th>\n",
       "      <th>Close</th>\n",
       "      <th>Volume</th>\n",
       "      <th>Ex_Dividend</th>\n",
       "      <th>Split_Ratio</th>\n",
       "      <th>Adj_Open</th>\n",
       "      <th>Adj_High</th>\n",
       "      <th>Adj_Low</th>\n",
       "      <th>...</th>\n",
       "      <th>Low_Long_EMA</th>\n",
       "      <th>Close_Long_EMA</th>\n",
       "      <th>Volume_Long_EMA</th>\n",
       "      <th>Ex_Dividend_Long_EMA</th>\n",
       "      <th>Split_Ratio_Long_EMA</th>\n",
       "      <th>Adj_Open_Long_EMA</th>\n",
       "      <th>Adj_High_Long_EMA</th>\n",
       "      <th>Adj_Low_Long_EMA</th>\n",
       "      <th>Adj_Close_Long_EMA</th>\n",
       "      <th>Adj_Volume_Long_EMA</th>\n",
       "    </tr>\n",
       "    <tr>\n",
       "      <th>Date</th>\n",
       "      <th></th>\n",
       "      <th></th>\n",
       "      <th></th>\n",
       "      <th></th>\n",
       "      <th></th>\n",
       "      <th></th>\n",
       "      <th></th>\n",
       "      <th></th>\n",
       "      <th></th>\n",
       "      <th></th>\n",
       "      <th></th>\n",
       "      <th></th>\n",
       "      <th></th>\n",
       "      <th></th>\n",
       "      <th></th>\n",
       "      <th></th>\n",
       "      <th></th>\n",
       "      <th></th>\n",
       "      <th></th>\n",
       "      <th></th>\n",
       "      <th></th>\n",
       "    </tr>\n",
       "  </thead>\n",
       "  <tbody>\n",
       "    <tr>\n",
       "      <th>2018-03-23</th>\n",
       "      <td>170.00</td>\n",
       "      <td>172.68</td>\n",
       "      <td>168.60</td>\n",
       "      <td>168.845</td>\n",
       "      <td>41051076.0</td>\n",
       "      <td>0.0</td>\n",
       "      <td>1.0</td>\n",
       "      <td>170.00</td>\n",
       "      <td>172.68</td>\n",
       "      <td>168.60</td>\n",
       "      <td>...</td>\n",
       "      <td>169.691723</td>\n",
       "      <td>171.097703</td>\n",
       "      <td>3.358258e+07</td>\n",
       "      <td>0.000518</td>\n",
       "      <td>1.0</td>\n",
       "      <td>171.126419</td>\n",
       "      <td>172.657153</td>\n",
       "      <td>169.671634</td>\n",
       "      <td>171.077463</td>\n",
       "      <td>3.358258e+07</td>\n",
       "    </tr>\n",
       "    <tr>\n",
       "      <th>2018-03-26</th>\n",
       "      <td>168.39</td>\n",
       "      <td>169.92</td>\n",
       "      <td>164.94</td>\n",
       "      <td>164.940</td>\n",
       "      <td>40248954.0</td>\n",
       "      <td>0.0</td>\n",
       "      <td>1.0</td>\n",
       "      <td>168.39</td>\n",
       "      <td>169.92</td>\n",
       "      <td>164.94</td>\n",
       "      <td>...</td>\n",
       "      <td>169.581218</td>\n",
       "      <td>170.954500</td>\n",
       "      <td>3.373761e+07</td>\n",
       "      <td>0.000506</td>\n",
       "      <td>1.0</td>\n",
       "      <td>171.062781</td>\n",
       "      <td>172.593499</td>\n",
       "      <td>169.561596</td>\n",
       "      <td>170.934731</td>\n",
       "      <td>3.373761e+07</td>\n",
       "    </tr>\n",
       "    <tr>\n",
       "      <th>2018-03-27</th>\n",
       "      <td>168.07</td>\n",
       "      <td>173.10</td>\n",
       "      <td>166.44</td>\n",
       "      <td>172.770</td>\n",
       "      <td>36272617.0</td>\n",
       "      <td>0.0</td>\n",
       "      <td>1.0</td>\n",
       "      <td>168.07</td>\n",
       "      <td>173.10</td>\n",
       "      <td>166.44</td>\n",
       "      <td>...</td>\n",
       "      <td>169.508167</td>\n",
       "      <td>170.996721</td>\n",
       "      <td>3.379657e+07</td>\n",
       "      <td>0.000494</td>\n",
       "      <td>1.0</td>\n",
       "      <td>170.993182</td>\n",
       "      <td>172.605278</td>\n",
       "      <td>169.489000</td>\n",
       "      <td>170.977412</td>\n",
       "      <td>3.379657e+07</td>\n",
       "    </tr>\n",
       "  </tbody>\n",
       "</table>\n",
       "<p>3 rows × 84 columns</p>\n",
       "</div>"
      ],
      "text/plain": [
       "              Open    High     Low    Close      Volume  Ex_Dividend  \\\n",
       "Date                                                                   \n",
       "2018-03-23  170.00  172.68  168.60  168.845  41051076.0          0.0   \n",
       "2018-03-26  168.39  169.92  164.94  164.940  40248954.0          0.0   \n",
       "2018-03-27  168.07  173.10  166.44  172.770  36272617.0          0.0   \n",
       "\n",
       "            Split_Ratio  Adj_Open  Adj_High  Adj_Low         ...           \\\n",
       "Date                                                         ...            \n",
       "2018-03-23          1.0    170.00    172.68   168.60         ...            \n",
       "2018-03-26          1.0    168.39    169.92   164.94         ...            \n",
       "2018-03-27          1.0    168.07    173.10   166.44         ...            \n",
       "\n",
       "            Low_Long_EMA  Close_Long_EMA  Volume_Long_EMA  \\\n",
       "Date                                                        \n",
       "2018-03-23    169.691723      171.097703     3.358258e+07   \n",
       "2018-03-26    169.581218      170.954500     3.373761e+07   \n",
       "2018-03-27    169.508167      170.996721     3.379657e+07   \n",
       "\n",
       "            Ex_Dividend_Long_EMA  Split_Ratio_Long_EMA  Adj_Open_Long_EMA  \\\n",
       "Date                                                                        \n",
       "2018-03-23              0.000518                   1.0         171.126419   \n",
       "2018-03-26              0.000506                   1.0         171.062781   \n",
       "2018-03-27              0.000494                   1.0         170.993182   \n",
       "\n",
       "            Adj_High_Long_EMA  Adj_Low_Long_EMA  Adj_Close_Long_EMA  \\\n",
       "Date                                                                  \n",
       "2018-03-23         172.657153        169.671634          171.077463   \n",
       "2018-03-26         172.593499        169.561596          170.934731   \n",
       "2018-03-27         172.605278        169.489000          170.977412   \n",
       "\n",
       "            Adj_Volume_Long_EMA  \n",
       "Date                             \n",
       "2018-03-23         3.358258e+07  \n",
       "2018-03-26         3.373761e+07  \n",
       "2018-03-27         3.379657e+07  \n",
       "\n",
       "[3 rows x 84 columns]"
      ]
     },
     "execution_count": 9,
     "metadata": {},
     "output_type": "execute_result"
    }
   ],
   "source": [
    "df_shift.tail(3)"
   ]
  },
  {
   "cell_type": "markdown",
   "metadata": {},
   "source": [
    "-------\n",
    "\n",
    "# Splitting the Data into a Training and Testing Set"
   ]
  },
  {
   "cell_type": "code",
   "execution_count": 10,
   "metadata": {},
   "outputs": [],
   "source": [
    "from lib.helper import import_split_data"
   ]
  },
  {
   "cell_type": "markdown",
   "metadata": {},
   "source": [
    "### Splitting the Data into a Train and Test Set:"
   ]
  },
  {
   "cell_type": "code",
   "execution_count": 11,
   "metadata": {},
   "outputs": [],
   "source": [
    "X_train, X_test = import_split_data(company_name)"
   ]
  },
  {
   "cell_type": "markdown",
   "metadata": {},
   "source": [
    "### Taking a Look at the Train Set:"
   ]
  },
  {
   "cell_type": "code",
   "execution_count": 12,
   "metadata": {},
   "outputs": [
    {
     "data": {
      "text/html": [
       "<div>\n",
       "<style scoped>\n",
       "    .dataframe tbody tr th:only-of-type {\n",
       "        vertical-align: middle;\n",
       "    }\n",
       "\n",
       "    .dataframe tbody tr th {\n",
       "        vertical-align: top;\n",
       "    }\n",
       "\n",
       "    .dataframe thead th {\n",
       "        text-align: right;\n",
       "    }\n",
       "</style>\n",
       "<table border=\"1\" class=\"dataframe\">\n",
       "  <thead>\n",
       "    <tr style=\"text-align: right;\">\n",
       "      <th></th>\n",
       "      <th>Open</th>\n",
       "      <th>High</th>\n",
       "      <th>Low</th>\n",
       "      <th>Close</th>\n",
       "      <th>Volume</th>\n",
       "      <th>Ex_Dividend</th>\n",
       "      <th>Split_Ratio</th>\n",
       "      <th>Adj_Open</th>\n",
       "      <th>Adj_High</th>\n",
       "      <th>Adj_Low</th>\n",
       "      <th>...</th>\n",
       "      <th>Low_Long_EMA</th>\n",
       "      <th>Close_Long_EMA</th>\n",
       "      <th>Volume_Long_EMA</th>\n",
       "      <th>Ex_Dividend_Long_EMA</th>\n",
       "      <th>Split_Ratio_Long_EMA</th>\n",
       "      <th>Adj_Open_Long_EMA</th>\n",
       "      <th>Adj_High_Long_EMA</th>\n",
       "      <th>Adj_Low_Long_EMA</th>\n",
       "      <th>Adj_Close_Long_EMA</th>\n",
       "      <th>Adj_Volume_Long_EMA</th>\n",
       "    </tr>\n",
       "    <tr>\n",
       "      <th>Date</th>\n",
       "      <th></th>\n",
       "      <th></th>\n",
       "      <th></th>\n",
       "      <th></th>\n",
       "      <th></th>\n",
       "      <th></th>\n",
       "      <th></th>\n",
       "      <th></th>\n",
       "      <th></th>\n",
       "      <th></th>\n",
       "      <th></th>\n",
       "      <th></th>\n",
       "      <th></th>\n",
       "      <th></th>\n",
       "      <th></th>\n",
       "      <th></th>\n",
       "      <th></th>\n",
       "      <th></th>\n",
       "      <th></th>\n",
       "      <th></th>\n",
       "      <th></th>\n",
       "    </tr>\n",
       "  </thead>\n",
       "  <tbody>\n",
       "    <tr>\n",
       "      <th>1981-04-15</th>\n",
       "      <td>27.88</td>\n",
       "      <td>28.00</td>\n",
       "      <td>27.88</td>\n",
       "      <td>27.88</td>\n",
       "      <td>29700.0</td>\n",
       "      <td>0.0</td>\n",
       "      <td>1.0</td>\n",
       "      <td>0.409914</td>\n",
       "      <td>0.411679</td>\n",
       "      <td>0.409914</td>\n",
       "      <td>...</td>\n",
       "      <td>27.100545</td>\n",
       "      <td>27.100545</td>\n",
       "      <td>395955.964908</td>\n",
       "      <td>0.0</td>\n",
       "      <td>1.0</td>\n",
       "      <td>0.399428</td>\n",
       "      <td>0.400780</td>\n",
       "      <td>0.398454</td>\n",
       "      <td>0.398454</td>\n",
       "      <td>2.217353e+07</td>\n",
       "    </tr>\n",
       "    <tr>\n",
       "      <th>1981-04-16</th>\n",
       "      <td>26.63</td>\n",
       "      <td>26.63</td>\n",
       "      <td>26.50</td>\n",
       "      <td>26.50</td>\n",
       "      <td>152000.0</td>\n",
       "      <td>0.0</td>\n",
       "      <td>1.0</td>\n",
       "      <td>0.391536</td>\n",
       "      <td>0.391536</td>\n",
       "      <td>0.389625</td>\n",
       "      <td>...</td>\n",
       "      <td>27.086579</td>\n",
       "      <td>27.086579</td>\n",
       "      <td>390282.570375</td>\n",
       "      <td>0.0</td>\n",
       "      <td>1.0</td>\n",
       "      <td>0.399245</td>\n",
       "      <td>0.400565</td>\n",
       "      <td>0.398249</td>\n",
       "      <td>0.398249</td>\n",
       "      <td>2.185582e+07</td>\n",
       "    </tr>\n",
       "  </tbody>\n",
       "</table>\n",
       "<p>2 rows × 84 columns</p>\n",
       "</div>"
      ],
      "text/plain": [
       "             Open   High    Low  Close    Volume  Ex_Dividend  Split_Ratio  \\\n",
       "Date                                                                         \n",
       "1981-04-15  27.88  28.00  27.88  27.88   29700.0          0.0          1.0   \n",
       "1981-04-16  26.63  26.63  26.50  26.50  152000.0          0.0          1.0   \n",
       "\n",
       "            Adj_Open  Adj_High   Adj_Low         ...           Low_Long_EMA  \\\n",
       "Date                                             ...                          \n",
       "1981-04-15  0.409914  0.411679  0.409914         ...              27.100545   \n",
       "1981-04-16  0.391536  0.391536  0.389625         ...              27.086579   \n",
       "\n",
       "            Close_Long_EMA  Volume_Long_EMA  Ex_Dividend_Long_EMA  \\\n",
       "Date                                                                \n",
       "1981-04-15       27.100545    395955.964908                   0.0   \n",
       "1981-04-16       27.086579    390282.570375                   0.0   \n",
       "\n",
       "            Split_Ratio_Long_EMA  Adj_Open_Long_EMA  Adj_High_Long_EMA  \\\n",
       "Date                                                                     \n",
       "1981-04-15                   1.0           0.399428           0.400780   \n",
       "1981-04-16                   1.0           0.399245           0.400565   \n",
       "\n",
       "            Adj_Low_Long_EMA  Adj_Close_Long_EMA  Adj_Volume_Long_EMA  \n",
       "Date                                                                   \n",
       "1981-04-15          0.398454            0.398454         2.217353e+07  \n",
       "1981-04-16          0.398249            0.398249         2.185582e+07  \n",
       "\n",
       "[2 rows x 84 columns]"
      ]
     },
     "execution_count": 12,
     "metadata": {},
     "output_type": "execute_result"
    }
   ],
   "source": [
    "X_train.head(2)"
   ]
  },
  {
   "cell_type": "markdown",
   "metadata": {},
   "source": [
    "### Taking a Look at the Test Set:"
   ]
  },
  {
   "cell_type": "code",
   "execution_count": 13,
   "metadata": {},
   "outputs": [
    {
     "data": {
      "text/html": [
       "<div>\n",
       "<style scoped>\n",
       "    .dataframe tbody tr th:only-of-type {\n",
       "        vertical-align: middle;\n",
       "    }\n",
       "\n",
       "    .dataframe tbody tr th {\n",
       "        vertical-align: top;\n",
       "    }\n",
       "\n",
       "    .dataframe thead th {\n",
       "        text-align: right;\n",
       "    }\n",
       "</style>\n",
       "<table border=\"1\" class=\"dataframe\">\n",
       "  <thead>\n",
       "    <tr style=\"text-align: right;\">\n",
       "      <th></th>\n",
       "      <th>Open</th>\n",
       "      <th>High</th>\n",
       "      <th>Low</th>\n",
       "      <th>Close</th>\n",
       "      <th>Volume</th>\n",
       "      <th>Ex_Dividend</th>\n",
       "      <th>Split_Ratio</th>\n",
       "      <th>Adj_Open</th>\n",
       "      <th>Adj_High</th>\n",
       "      <th>Adj_Low</th>\n",
       "      <th>...</th>\n",
       "      <th>Low_Long_EMA</th>\n",
       "      <th>Close_Long_EMA</th>\n",
       "      <th>Volume_Long_EMA</th>\n",
       "      <th>Ex_Dividend_Long_EMA</th>\n",
       "      <th>Split_Ratio_Long_EMA</th>\n",
       "      <th>Adj_Open_Long_EMA</th>\n",
       "      <th>Adj_High_Long_EMA</th>\n",
       "      <th>Adj_Low_Long_EMA</th>\n",
       "      <th>Adj_Close_Long_EMA</th>\n",
       "      <th>Adj_Volume_Long_EMA</th>\n",
       "    </tr>\n",
       "    <tr>\n",
       "      <th>Date</th>\n",
       "      <th></th>\n",
       "      <th></th>\n",
       "      <th></th>\n",
       "      <th></th>\n",
       "      <th></th>\n",
       "      <th></th>\n",
       "      <th></th>\n",
       "      <th></th>\n",
       "      <th></th>\n",
       "      <th></th>\n",
       "      <th></th>\n",
       "      <th></th>\n",
       "      <th></th>\n",
       "      <th></th>\n",
       "      <th></th>\n",
       "      <th></th>\n",
       "      <th></th>\n",
       "      <th></th>\n",
       "      <th></th>\n",
       "      <th></th>\n",
       "      <th></th>\n",
       "    </tr>\n",
       "  </thead>\n",
       "  <tbody>\n",
       "    <tr>\n",
       "      <th>2017-01-03</th>\n",
       "      <td>116.65</td>\n",
       "      <td>117.20</td>\n",
       "      <td>115.43</td>\n",
       "      <td>115.82</td>\n",
       "      <td>30586265.0</td>\n",
       "      <td>0.0</td>\n",
       "      <td>1.0</td>\n",
       "      <td>115.209202</td>\n",
       "      <td>115.752409</td>\n",
       "      <td>114.004271</td>\n",
       "      <td>...</td>\n",
       "      <td>110.936682</td>\n",
       "      <td>111.809549</td>\n",
       "      <td>3.262264e+07</td>\n",
       "      <td>0.006808</td>\n",
       "      <td>1.0</td>\n",
       "      <td>109.969134</td>\n",
       "      <td>110.881942</td>\n",
       "      <td>109.289159</td>\n",
       "      <td>110.149132</td>\n",
       "      <td>3.262266e+07</td>\n",
       "    </tr>\n",
       "    <tr>\n",
       "      <th>2017-01-04</th>\n",
       "      <td>115.80</td>\n",
       "      <td>116.33</td>\n",
       "      <td>114.76</td>\n",
       "      <td>116.15</td>\n",
       "      <td>28781865.0</td>\n",
       "      <td>0.0</td>\n",
       "      <td>1.0</td>\n",
       "      <td>114.369701</td>\n",
       "      <td>114.893155</td>\n",
       "      <td>113.342546</td>\n",
       "      <td>...</td>\n",
       "      <td>111.025596</td>\n",
       "      <td>111.910490</td>\n",
       "      <td>3.253332e+07</td>\n",
       "      <td>0.006650</td>\n",
       "      <td>1.0</td>\n",
       "      <td>110.071473</td>\n",
       "      <td>110.975226</td>\n",
       "      <td>109.383424</td>\n",
       "      <td>110.255324</td>\n",
       "      <td>3.253334e+07</td>\n",
       "    </tr>\n",
       "  </tbody>\n",
       "</table>\n",
       "<p>2 rows × 84 columns</p>\n",
       "</div>"
      ],
      "text/plain": [
       "              Open    High     Low   Close      Volume  Ex_Dividend  \\\n",
       "Date                                                                  \n",
       "2017-01-03  116.65  117.20  115.43  115.82  30586265.0          0.0   \n",
       "2017-01-04  115.80  116.33  114.76  116.15  28781865.0          0.0   \n",
       "\n",
       "            Split_Ratio    Adj_Open    Adj_High     Adj_Low  \\\n",
       "Date                                                          \n",
       "2017-01-03          1.0  115.209202  115.752409  114.004271   \n",
       "2017-01-04          1.0  114.369701  114.893155  113.342546   \n",
       "\n",
       "                   ...           Low_Long_EMA  Close_Long_EMA  \\\n",
       "Date               ...                                          \n",
       "2017-01-03         ...             110.936682      111.809549   \n",
       "2017-01-04         ...             111.025596      111.910490   \n",
       "\n",
       "            Volume_Long_EMA  Ex_Dividend_Long_EMA  Split_Ratio_Long_EMA  \\\n",
       "Date                                                                      \n",
       "2017-01-03     3.262264e+07              0.006808                   1.0   \n",
       "2017-01-04     3.253332e+07              0.006650                   1.0   \n",
       "\n",
       "            Adj_Open_Long_EMA  Adj_High_Long_EMA  Adj_Low_Long_EMA  \\\n",
       "Date                                                                 \n",
       "2017-01-03         109.969134         110.881942        109.289159   \n",
       "2017-01-04         110.071473         110.975226        109.383424   \n",
       "\n",
       "            Adj_Close_Long_EMA  Adj_Volume_Long_EMA  \n",
       "Date                                                 \n",
       "2017-01-03          110.149132         3.262266e+07  \n",
       "2017-01-04          110.255324         3.253334e+07  \n",
       "\n",
       "[2 rows x 84 columns]"
      ]
     },
     "execution_count": 13,
     "metadata": {},
     "output_type": "execute_result"
    }
   ],
   "source": [
    "X_test.head(2)"
   ]
  },
  {
   "cell_type": "markdown",
   "metadata": {},
   "source": [
    "-----\n",
    "\n",
    "# Normalizing the Data with a MinMaxScaler"
   ]
  },
  {
   "cell_type": "code",
   "execution_count": 14,
   "metadata": {},
   "outputs": [],
   "source": [
    "from lib.helper import mm_scaler"
   ]
  },
  {
   "cell_type": "code",
   "execution_count": 15,
   "metadata": {},
   "outputs": [],
   "source": [
    "X_train_sc, X_test_sc, y_train, y_test = mm_scaler(X_train, X_test, df)"
   ]
  },
  {
   "cell_type": "markdown",
   "metadata": {},
   "source": [
    "-----\n",
    "\n",
    "# Random Forest Regression Model\n",
    "\n",
    "## Setting up the Random Forest (RF) Regressor:"
   ]
  },
  {
   "cell_type": "code",
   "execution_count": 16,
   "metadata": {},
   "outputs": [],
   "source": [
    "def rf_model(X_train, y_train, X_test, y_test, n_estimators, max_depth, min_samples_leaf, bootstrap):\n",
    "    \"\"\"\n",
    "    Returns the fitted model using the Random Forest Regressor Model from SK-Learn.\n",
    "    Prints the Training Score, Testing score, & the average price predicted.\n",
    "    Renders a visualization of the Predicted and Actual Prices.\n",
    "    \n",
    "    Parameters\n",
    "    -------------------------------------------------------------------------------------------------------------\n",
    "    X_train : var\n",
    "        Passes the variable assigned to the X variable of your training set, whether scaled or not. \n",
    "   \n",
    "    y_train : var\n",
    "        Passes the variable assigned to the y variable of your training set, whether scaled or not. \n",
    "    \n",
    "    X_test : var\n",
    "        Passes the variable assigned to the X variable of your testing set, whether scaled or not. \n",
    "    \n",
    "    y_test : var\n",
    "        Passes the variable assigned to the y variable of your testing set, whether scaled or not. \n",
    "    \n",
    "    Bagging Regressor Parameters\n",
    "    -------------------------------------------------------------------------------------------------------------\n",
    "    \n",
    "    n_estimators : int\n",
    "        Passes the number of estimators to be used in the Bagging Regressor Model.  \n",
    "    \n",
    "    max_depth : int\n",
    "    \n",
    "    min_leaf_samples : int\n",
    "        Passes the maximum number of samples to be used in the Bagging Regressor Model.    \n",
    "    \n",
    "    bootstrap : boolean\n",
    "        Passes boolean condition be used in the Bagging Regressor Model. >> True or False     \n",
    "    \"\"\"\n",
    "    \n",
    "    # Instatiating the Random Forest Regresssor.\n",
    "    rf = RandomForestRegressor(n_estimators=n_estimators, max_depth=max_depth, \n",
    "                           min_samples_leaf=min_samples_leaf, bootstrap=bootstrap, \n",
    "                           n_jobs=3, random_state=42)\n",
    "    \n",
    "    # Fitting the Training and Holdout using the Random Forest Regressor.\n",
    "    rf.fit(X_train, y_train)\n",
    "    # Scoring the Training Sets.\n",
    "    train_score = rf.score(X_train, y_train)\n",
    "    # Scoring the Test Sets.\n",
    "    test_score = rf.score(X_test, y_test)\n",
    "    # Getting the Average Predictions.\n",
    "    prediction = rf.predict(X_test).mean()\n",
    "    # Plotting the Actual and Predicted Prices.\n",
    "    plt.scatter(y_test, rf.predict(X_test))\n",
    "    plt.xlabel('Actual')\n",
    "    plt.ylabel('Predicted')\n",
    "    \n",
    "    print(f'Train Score: {train_score}\\nTest Score: {test_score}\\nPredictive Mean: {prediction}') \n",
    "    return rf"
   ]
  },
  {
   "cell_type": "markdown",
   "metadata": {},
   "source": [
    "### Random Forest Regression Model:"
   ]
  },
  {
   "cell_type": "code",
   "execution_count": 33,
   "metadata": {},
   "outputs": [
    {
     "name": "stdout",
     "output_type": "stream",
     "text": [
      "Train Score: 0.9980309556999277\n",
      "Test Score: -2.825346518777106\n",
      "Predictive Mean: 179.61515994246955\n"
     ]
    },
    {
     "data": {
      "text/plain": [
       "RandomForestRegressor(bootstrap=False, criterion='mse', max_depth=15,\n",
       "           max_features='auto', max_leaf_nodes=None,\n",
       "           min_impurity_decrease=0.0, min_impurity_split=None,\n",
       "           min_samples_leaf=15, min_samples_split=2,\n",
       "           min_weight_fraction_leaf=0.0, n_estimators=100, n_jobs=3,\n",
       "           oob_score=False, random_state=42, verbose=0, warm_start=False)"
      ]
     },
     "execution_count": 33,
     "metadata": {},
     "output_type": "execute_result"
    },
    {
     "data": {
      "image/png": "[encoded data removed]",
      "text/plain": [
       "<Figure size 432x288 with 1 Axes>"
      ]
     },
     "metadata": {
      "image/png": {
       "height": 263,
       "width": 390
      }
     },
     "output_type": "display_data"
    }
   ],
   "source": [
    "rf_model(X_train_sc, y_train, X_test_sc, y_test, \n",
    "         n_estimators=100, max_depth=15, \n",
    "         min_samples_leaf= 15, bootstrap=False)"
   ]
  },
  {
   "cell_type": "markdown",
   "metadata": {},
   "source": [
    "-----\n",
    "\n",
    "## Decomposing Signal Components with Principal Component Analysis (PCA):"
   ]
  },
  {
   "cell_type": "code",
   "execution_count": 34,
   "metadata": {},
   "outputs": [],
   "source": [
    "from lib.helper import pca_decomposition"
   ]
  },
  {
   "cell_type": "code",
   "execution_count": 29,
   "metadata": {},
   "outputs": [],
   "source": [
    "X_train_pca, X_test_pca = pca_decomposition(X_train_sc, X_test_sc, 2)"
   ]
  },
  {
   "cell_type": "code",
   "execution_count": 35,
   "metadata": {
    "scrolled": false
   },
   "outputs": [
    {
     "name": "stdout",
     "output_type": "stream",
     "text": [
      "Train Score: 0.9938805667742192\n",
      "Test Score: -2.3242951922466637\n",
      "Predictive Mean: 128.95814929703522\n"
     ]
    },
    {
     "data": {
      "text/plain": [
       "RandomForestRegressor(bootstrap=False, criterion='mse', max_depth=10,\n",
       "           max_features='auto', max_leaf_nodes=None,\n",
       "           min_impurity_decrease=0.0, min_impurity_split=None,\n",
       "           min_samples_leaf=8, min_samples_split=2,\n",
       "           min_weight_fraction_leaf=0.0, n_estimators=100, n_jobs=3,\n",
       "           oob_score=False, random_state=42, verbose=0, warm_start=False)"
      ]
     },
     "execution_count": 35,
     "metadata": {},
     "output_type": "execute_result"
    },
    {
     "data": {
      "image/png": "[encoded data removed]",
      "text/plain": [
       "<Figure size 432x288 with 1 Axes>"
      ]
     },
     "metadata": {
      "image/png": {
       "height": 263,
       "width": 390
      }
     },
     "output_type": "display_data"
    }
   ],
   "source": [
    "rf_model(X_train_pca, y_train, X_test_pca, y_test, \n",
    "         n_estimators=100, max_depth=10, \n",
    "         min_samples_leaf= 8, bootstrap=False)"
   ]
  },
  {
   "cell_type": "markdown",
   "metadata": {},
   "source": [
    "-----\n",
    "\n",
    "# Grid Searching a Random Forest Regression Model:"
   ]
  },
  {
   "cell_type": "code",
   "execution_count": 21,
   "metadata": {},
   "outputs": [],
   "source": [
    "from sklearn.model_selection import GridSearchCV"
   ]
  },
  {
   "cell_type": "markdown",
   "metadata": {},
   "source": [
    "### Creating a Pipeline"
   ]
  },
  {
   "cell_type": "code",
   "execution_count": 22,
   "metadata": {},
   "outputs": [],
   "source": [
    "pipe = Pipeline([\n",
    "    ('rf', RandomForestRegressor())\n",
    "])"
   ]
  },
  {
   "cell_type": "markdown",
   "metadata": {},
   "source": [
    "### Setting up the Parameters:"
   ]
  },
  {
   "cell_type": "code",
   "execution_count": 3,
   "metadata": {},
   "outputs": [],
   "source": [
    "# Number of trees to consider in random forest\n",
    "n_estimators = [x for x in range(8, 14, 2)]\n",
    "\n",
    "# Number of features to consider at every split\n",
    "max_features = ['auto', 'log2']\n",
    "\n",
    "# Maximum number of levels in tree to consider\n",
    "max_depth = [x for x in range(1, 3)]\n",
    "max_depth.append(None)\n",
    "\n",
    "# Minimum number of samples required to split a node\n",
    "min_samples_split = [x for x in range(1, 3)]\n",
    "\n",
    "# Minimum number of samples required at each leaf node\n",
    "min_samples_leaf = [1, 2]\n",
    "\n",
    "# Method of selecting samples for training each tree\n",
    "bootstrap = [True, False]"
   ]
  },
  {
   "cell_type": "code",
   "execution_count": 4,
   "metadata": {},
   "outputs": [
    {
     "name": "stdout",
     "output_type": "stream",
     "text": [
      "{'rf__n_estimators': [8, 10, 12], 'rf__max_features': ['auto', 'log2'], 'rf__max_depth': [1, 2, None], 'rf__min_samples_split': [1, 2], 'rf__min_samples_leaf': [1, 2], 'rf__bootstrap': [True, False]}\n"
     ]
    }
   ],
   "source": [
    "params = {'rf__n_estimators': n_estimators,\n",
    "           'rf__max_features': max_features,\n",
    "           'rf__max_depth': max_depth,\n",
    "           'rf__min_samples_split': min_samples_split,\n",
    "           'rf__min_samples_leaf': min_samples_leaf,\n",
    "           'rf__bootstrap': bootstrap}\n",
    "print(params)"
   ]
  },
  {
   "cell_type": "markdown",
   "metadata": {},
   "source": [
    "### Gridsearching the Parameters:"
   ]
  },
  {
   "cell_type": "code",
   "execution_count": 25,
   "metadata": {},
   "outputs": [],
   "source": [
    "rf_search = GridSearchCV(pipe, params, n_jobs=3)"
   ]
  },
  {
   "cell_type": "markdown",
   "metadata": {},
   "source": [
    "### Fitting the Scaled Data with the Model:"
   ]
  },
  {
   "cell_type": "code",
   "execution_count": 31,
   "metadata": {},
   "outputs": [],
   "source": [
    "# rf_search.fit(X_train_sc, y_train)"
   ]
  },
  {
   "cell_type": "markdown",
   "metadata": {},
   "source": [
    "### Scoring the Training Data:"
   ]
  },
  {
   "cell_type": "code",
   "execution_count": null,
   "metadata": {},
   "outputs": [],
   "source": [
    "rf_search.score(X_train_sc, y_train)"
   ]
  },
  {
   "cell_type": "markdown",
   "metadata": {},
   "source": [
    "### Scoring the Test Data"
   ]
  },
  {
   "cell_type": "code",
   "execution_count": null,
   "metadata": {},
   "outputs": [],
   "source": [
    "rf_search.score(X_test_sc, y_test)"
   ]
  },
  {
   "cell_type": "code",
   "execution_count": null,
   "metadata": {},
   "outputs": [],
   "source": [
    "plt.scatter(y_test, rf_search.predict(X_test_sc))\n",
    "plt.xlabel('Actual')\n",
    "plt.ylabel('Predicted')"
   ]
  },
  {
   "cell_type": "code",
   "execution_count": null,
   "metadata": {},
   "outputs": [],
   "source": [
    "coef_weights = pd.DataFrame(rf_search.coef_, index=X_train.columns, columns=['weight'])\n",
    "coef_weights.sort_values('weight').tail()"
   ]
  },
  {
   "cell_type": "markdown",
   "metadata": {},
   "source": [
    "-  => `n_estimators=10, `\n",
    "\n",
    "\n",
    "-  => `max_features='auto',`\n",
    "\n",
    "\n",
    "-  => `max_depth=None,`\n",
    "\n",
    "\n",
    "-  => `min_samples_split=2,`\n",
    "\n",
    "\n",
    "-  => `min_samples_leaf=1,`\n",
    "\n",
    "\n",
    "-  => `bootstrap=True,`"
   ]
  },
  {
   "cell_type": "markdown",
   "metadata": {},
   "source": [
    "--------\n",
    "\n",
    "## GridSearching a Random Forest with PCA Decomposition:"
   ]
  },
  {
   "cell_type": "code",
   "execution_count": null,
   "metadata": {},
   "outputs": [],
   "source": [
    "pipe_w = Pipeline([\n",
    "    ('pca', PCA()),\n",
    "    ('rf', RandomForestRegressor())\n",
    "])"
   ]
  },
  {
   "cell_type": "markdown",
   "metadata": {},
   "source": [
    "### Setting the Params"
   ]
  },
  {
   "cell_type": "code",
   "execution_count": 1,
   "metadata": {},
   "outputs": [],
   "source": [
    "# Number of trees in random forest\n",
    "n_estimators_w = [x for x in range(8, 14, 2)]\n",
    "\n",
    "# Number of features to consider at every split\n",
    "max_features_w = ['auto', 'log2']\n",
    "\n",
    "# Maximum number of levels in tree\n",
    "max_depth_w = [x for x in range(1, 3)]\n",
    "max_depth_w.append(None)\n",
    "\n",
    "# Minimum number of samples required to split a node\n",
    "min_samples_split_w = [x for x in range(1, 5)]\n",
    "\n",
    "# Minimum number of samples required at each leaf node\n",
    "min_samples_leaf_w = [x for x in range(1, 3)]\n",
    "\n",
    "# Method of selecting samples for training each tree\n",
    "bootstrap_w = [True, False]\n",
    "\n",
    "# pca_n_components= [x for x in range(2, 24, 4)]\n",
    "\n",
    "# pca_svd_solver = ['auto', 'full', 'arpack', 'randomized']"
   ]
  },
  {
   "cell_type": "markdown",
   "metadata": {},
   "source": [
    "### Setting up the Parameters with PCA Weights:"
   ]
  },
  {
   "cell_type": "code",
   "execution_count": 2,
   "metadata": {},
   "outputs": [
    {
     "name": "stdout",
     "output_type": "stream",
     "text": [
      "{'rf__n_estimators': [8, 10, 12], 'rf__max_features': ['auto', 'log2'], 'rf__max_depth': [1, 2, None], 'rf__min_samples_split': [1, 2, 3, 4], 'rf__min_samples_leaf': [1, 2], 'rf__bootstrap': [True, False]}\n"
     ]
    }
   ],
   "source": [
    "params_w = {'rf__n_estimators': n_estimators_w,\n",
    "          'rf__max_features': max_features_w,\n",
    "          'rf__max_depth': max_depth_w,\n",
    "          'rf__min_samples_split': min_samples_split_w,\n",
    "          'rf__min_samples_leaf': min_samples_leaf_w,\n",
    "          'rf__bootstrap': bootstrap_w}\n",
    "print(params_w)"
   ]
  },
  {
   "cell_type": "markdown",
   "metadata": {},
   "source": [
    "### Gridsearching the Parameters with PCA:"
   ]
  },
  {
   "cell_type": "code",
   "execution_count": null,
   "metadata": {},
   "outputs": [],
   "source": [
    "grid = GridSearchCV(pipe_w, params_w, n_jobs=3)"
   ]
  },
  {
   "cell_type": "markdown",
   "metadata": {},
   "source": [
    "### Fitting the Scaled Data with a Weighted Model:"
   ]
  },
  {
   "cell_type": "code",
   "execution_count": null,
   "metadata": {},
   "outputs": [],
   "source": [
    "grid.fit(X_train_sc, y_train)"
   ]
  },
  {
   "cell_type": "markdown",
   "metadata": {},
   "source": [
    "### Scoring the Training Data:"
   ]
  },
  {
   "cell_type": "code",
   "execution_count": null,
   "metadata": {},
   "outputs": [],
   "source": [
    "grid.score(X_train_sc, y_train)"
   ]
  },
  {
   "cell_type": "markdown",
   "metadata": {},
   "source": [
    "### Scoring the Test Data:"
   ]
  },
  {
   "cell_type": "code",
   "execution_count": null,
   "metadata": {},
   "outputs": [],
   "source": [
    "grid.score(X_test_sc, y_test)"
   ]
  },
  {
   "cell_type": "code",
   "execution_count": null,
   "metadata": {},
   "outputs": [],
   "source": [
    "plt.scatter(y_test, grid.predict(X_test_sc))\n",
    "plt.xlabel('Actual')\n",
    "plt.ylabel('Predicted')"
   ]
  }
 ],
 "metadata": {
  "kernelspec": {
   "display_name": "Python 3",
   "language": "python",
   "name": "python3"
  },
  "language_info": {
   "codemirror_mode": {
    "name": "ipython",
    "version": 3
   },
   "file_extension": ".py",
   "mimetype": "text/x-python",
   "name": "python",
   "nbconvert_exporter": "python",
   "pygments_lexer": "ipython3",
   "version": "3.6.5"
  }
 },
 "nbformat": 4,
 "nbformat_minor": 2
}
