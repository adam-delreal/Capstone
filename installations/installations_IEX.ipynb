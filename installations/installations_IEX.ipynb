{
 "cells": [
  {
   "cell_type": "markdown",
   "metadata": {},
   "source": [
    "# IEX Installs\n",
    "\n",
    "https://github.com/addisonlynch/iexfinance\n",
    "\n",
    "https://iextrading.com/developer/docs/\n",
    "\n",
    "https://pypi.org/project/iexfinance/\n",
    "\n",
    "https://libraries.io/pypi/iex-api-python\n",
    "\n",
    "https://github.com/timkpaine/pyEX\n",
    "\n",
    "https://pypi.org/project/iex/#description\n",
    "\n",
    "https://github.com/pydata/pandas-datareader"
   ]
  },
  {
   "cell_type": "code",
   "execution_count": 3,
   "metadata": {
    "scrolled": true
   },
   "outputs": [
    {
     "name": "stdout",
     "output_type": "stream",
     "text": [
      "Collecting iexfinance\n",
      "  Downloading https://files.pythonhosted.org/packages/f0/d1/865dcc2efb7183fd0a9072f17214c39030ebda720e93d99ba76214c2f389/iexfinance-0.3.3.tar.gz\n",
      "Collecting pandas==0.21.0 (from iexfinance)\n",
      "\u001b[?25l  Downloading https://files.pythonhosted.org/packages/35/3c/9a109bcf0ba88014a704bbf6f0f426bfad2aca9e951499bc25bea629f680/pandas-0.21.0-cp36-cp36m-macosx_10_6_intel.macosx_10_9_intel.macosx_10_9_x86_64.macosx_10_10_intel.macosx_10_10_x86_64.whl (15.8MB)\n",
      "\u001b[K    100% |████████████████████████████████| 15.8MB 614kB/s ta 0:00:011\n",
      "\u001b[?25hCollecting requests==2.18.4 (from iexfinance)\n",
      "\u001b[?25l  Downloading https://files.pythonhosted.org/packages/49/df/50aa1999ab9bde74656c2919d9c0c085fd2b3775fd3eca826012bef76d8c/requests-2.18.4-py2.py3-none-any.whl (88kB)\n",
      "\u001b[K    100% |████████████████████████████████| 92kB 567kB/s ta 0:00:01\n",
      "\u001b[?25hRequirement already satisfied: python-dateutil>=2 in /Users/adamdelreal/anaconda3/envs/tensorflow/lib/python3.6/site-packages (from pandas==0.21.0->iexfinance) (2.7.3)\n",
      "Requirement already satisfied: numpy>=1.9.0 in /Users/adamdelreal/anaconda3/envs/tensorflow/lib/python3.6/site-packages (from pandas==0.21.0->iexfinance) (1.14.3)\n",
      "Requirement already satisfied: pytz>=2011k in /Users/adamdelreal/anaconda3/envs/tensorflow/lib/python3.6/site-packages (from pandas==0.21.0->iexfinance) (2018.4)\n",
      "Collecting idna<2.7,>=2.5 (from requests==2.18.4->iexfinance)\n",
      "\u001b[?25l  Downloading https://files.pythonhosted.org/packages/27/cc/6dd9a3869f15c2edfab863b992838277279ce92663d334df9ecf5106f5c6/idna-2.6-py2.py3-none-any.whl (56kB)\n",
      "\u001b[K    100% |████████████████████████████████| 61kB 560kB/s ta 0:00:01\n",
      "\u001b[?25hCollecting urllib3<1.23,>=1.21.1 (from requests==2.18.4->iexfinance)\n",
      "\u001b[?25l  Downloading https://files.pythonhosted.org/packages/63/cb/6965947c13a94236f6d4b8223e21beb4d576dc72e8130bd7880f600839b8/urllib3-1.22-py2.py3-none-any.whl (132kB)\n",
      "\u001b[K    100% |████████████████████████████████| 133kB 492kB/s ta 0:00:01\n",
      "\u001b[?25hRequirement already satisfied: certifi>=2017.4.17 in /Users/adamdelreal/anaconda3/envs/tensorflow/lib/python3.6/site-packages (from requests==2.18.4->iexfinance) (2018.4.16)\n",
      "Requirement already satisfied: chardet<3.1.0,>=3.0.2 in /Users/adamdelreal/anaconda3/envs/tensorflow/lib/python3.6/site-packages (from requests==2.18.4->iexfinance) (3.0.4)\n",
      "Requirement already satisfied: six>=1.5 in /Users/adamdelreal/anaconda3/envs/tensorflow/lib/python3.6/site-packages (from python-dateutil>=2->pandas==0.21.0->iexfinance) (1.11.0)\n",
      "Building wheels for collected packages: iexfinance\n",
      "  Running setup.py bdist_wheel for iexfinance ... \u001b[?25ldone\n",
      "\u001b[?25h  Stored in directory: /Users/adamdelreal/Library/Caches/pip/wheels/4a/db/46/67004f2b5fccd8a81edfc2f7a3ade2d568385cd0165b50739a\n",
      "Successfully built iexfinance\n",
      "\u001b[31mtensorboard 1.8.0 has requirement bleach==1.5.0, but you'll have bleach 2.1.3 which is incompatible.\u001b[0m\n",
      "\u001b[31mtensorboard 1.8.0 has requirement html5lib==0.9999999, but you'll have html5lib 1.0.1 which is incompatible.\u001b[0m\n",
      "Installing collected packages: pandas, idna, urllib3, requests, iexfinance\n",
      "  Found existing installation: pandas 0.23.0\n",
      "    Uninstalling pandas-0.23.0:\n",
      "      Successfully uninstalled pandas-0.23.0\n",
      "  Found existing installation: idna 2.7\n",
      "    Uninstalling idna-2.7:\n",
      "      Successfully uninstalled idna-2.7\n",
      "  Found existing installation: urllib3 1.23\n",
      "    Uninstalling urllib3-1.23:\n",
      "      Successfully uninstalled urllib3-1.23\n",
      "  Found existing installation: requests 2.19.1\n",
      "    Uninstalling requests-2.19.1:\n",
      "      Successfully uninstalled requests-2.19.1\n",
      "Successfully installed idna-2.6 iexfinance-0.3.3 pandas-0.21.0 requests-2.18.4 urllib3-1.22\n"
     ]
    }
   ],
   "source": [
    "!pip install iexfinance "
   ]
  },
  {
   "cell_type": "code",
   "execution_count": 4,
   "metadata": {},
   "outputs": [
    {
     "name": "stdout",
     "output_type": "stream",
     "text": [
      "Collecting iex-api-python==0.0.3\n",
      "  Downloading https://files.pythonhosted.org/packages/92/aa/a921cbfdb025ace05ff76aec9680751ee2625ffe52c3ae5d864a3eb1cfec/iex-api-python-0.0.3.tar.gz\n",
      "Requirement already satisfied: requests in /Users/adamdelreal/anaconda3/envs/tensorflow/lib/python3.6/site-packages (from iex-api-python==0.0.3) (2.18.4)\n",
      "Requirement already satisfied: pandas in /Users/adamdelreal/anaconda3/envs/tensorflow/lib/python3.6/site-packages (from iex-api-python==0.0.3) (0.21.0)\n",
      "Collecting arrow (from iex-api-python==0.0.3)\n",
      "\u001b[?25l  Downloading https://files.pythonhosted.org/packages/e0/86/4eb5228a43042e9a80fe8c84093a8a36f5db34a3767ebd5e1e7729864e7b/arrow-0.12.1.tar.gz (65kB)\n",
      "\u001b[K    100% |████████████████████████████████| 71kB 336kB/s ta 0:00:01\n",
      "\u001b[?25hCollecting socketIO-client-nexus (from iex-api-python==0.0.3)\n",
      "  Downloading https://files.pythonhosted.org/packages/a0/fa/2bfd4b5f38530876a26678ed98e3f2233b33479d085cc01adf83af87c3f0/socketIO_client_nexus-0.7.6-py2.py3-none-any.whl\n",
      "Requirement already satisfied: chardet<3.1.0,>=3.0.2 in /Users/adamdelreal/anaconda3/envs/tensorflow/lib/python3.6/site-packages (from requests->iex-api-python==0.0.3) (3.0.4)\n",
      "Requirement already satisfied: idna<2.7,>=2.5 in /Users/adamdelreal/anaconda3/envs/tensorflow/lib/python3.6/site-packages (from requests->iex-api-python==0.0.3) (2.6)\n",
      "Requirement already satisfied: urllib3<1.23,>=1.21.1 in /Users/adamdelreal/anaconda3/envs/tensorflow/lib/python3.6/site-packages (from requests->iex-api-python==0.0.3) (1.22)\n",
      "Requirement already satisfied: certifi>=2017.4.17 in /Users/adamdelreal/anaconda3/envs/tensorflow/lib/python3.6/site-packages (from requests->iex-api-python==0.0.3) (2018.4.16)\n",
      "Requirement already satisfied: pytz>=2011k in /Users/adamdelreal/anaconda3/envs/tensorflow/lib/python3.6/site-packages (from pandas->iex-api-python==0.0.3) (2018.4)\n",
      "Requirement already satisfied: python-dateutil>=2 in /Users/adamdelreal/anaconda3/envs/tensorflow/lib/python3.6/site-packages (from pandas->iex-api-python==0.0.3) (2.7.3)\n",
      "Requirement already satisfied: numpy>=1.9.0 in /Users/adamdelreal/anaconda3/envs/tensorflow/lib/python3.6/site-packages (from pandas->iex-api-python==0.0.3) (1.14.3)\n",
      "Collecting websocket-client (from socketIO-client-nexus->iex-api-python==0.0.3)\n",
      "\u001b[?25l  Downloading https://files.pythonhosted.org/packages/8a/a1/72ef9aa26cfe1a75cee09fc1957e4723add9de098c15719416a1ee89386b/websocket_client-0.48.0-py2.py3-none-any.whl (198kB)\n",
      "\u001b[K    100% |████████████████████████████████| 204kB 428kB/s ta 0:00:01\n",
      "\u001b[?25hRequirement already satisfied: six in /Users/adamdelreal/anaconda3/envs/tensorflow/lib/python3.6/site-packages (from socketIO-client-nexus->iex-api-python==0.0.3) (1.11.0)\n",
      "Building wheels for collected packages: iex-api-python, arrow\n",
      "  Running setup.py bdist_wheel for iex-api-python ... \u001b[?25ldone\n",
      "\u001b[?25h  Stored in directory: /Users/adamdelreal/Library/Caches/pip/wheels/ba/ef/d7/0f6077ceb973ae3b4dc54261882b472edd1035de8b44581686\n",
      "  Running setup.py bdist_wheel for arrow ... \u001b[?25ldone\n",
      "\u001b[?25h  Stored in directory: /Users/adamdelreal/Library/Caches/pip/wheels/a3/dd/b2/d3b8d22e8136164c2e2c36ed42392531957cdf9c717065b28b\n",
      "Successfully built iex-api-python arrow\n",
      "\u001b[31mtensorboard 1.8.0 has requirement bleach==1.5.0, but you'll have bleach 2.1.3 which is incompatible.\u001b[0m\n",
      "\u001b[31mtensorboard 1.8.0 has requirement html5lib==0.9999999, but you'll have html5lib 1.0.1 which is incompatible.\u001b[0m\n",
      "Installing collected packages: arrow, websocket-client, socketIO-client-nexus, iex-api-python\n",
      "Successfully installed arrow-0.12.1 iex-api-python-0.0.3 socketIO-client-nexus-0.7.6 websocket-client-0.48.0\n"
     ]
    }
   ],
   "source": [
    "! pip install iex-api-python==0.0.3"
   ]
  },
  {
   "cell_type": "code",
   "execution_count": 5,
   "metadata": {},
   "outputs": [
    {
     "name": "stdout",
     "output_type": "stream",
     "text": [
      "Collecting iex\n",
      "  Downloading https://files.pythonhosted.org/packages/24/8d/ebc8c3286c606a6cc3fb0782b5c960101b35e17682597b28ec8ce444bab1/iex-0.0.1.tar.gz\n",
      "Requirement already satisfied: requests>=2.18.4 in /Users/adamdelreal/anaconda3/envs/tensorflow/lib/python3.6/site-packages (from iex) (2.18.4)\n",
      "Collecting pandas>=0.22.0 (from iex)\n",
      "\u001b[?25l  Downloading https://files.pythonhosted.org/packages/5d/45/4d62347c2ce66eb13f05f47b0337d4a5f70bb826e9937668e4593764f545/pandas-0.23.1-cp36-cp36m-macosx_10_6_intel.macosx_10_9_intel.macosx_10_9_x86_64.macosx_10_10_intel.macosx_10_10_x86_64.whl (16.8MB)\n",
      "\u001b[K    100% |████████████████████████████████| 16.8MB 823kB/s ta 0:00:011\n",
      "\u001b[?25hRequirement already satisfied: certifi>=2017.4.17 in /Users/adamdelreal/anaconda3/envs/tensorflow/lib/python3.6/site-packages (from requests>=2.18.4->iex) (2018.4.16)\n",
      "Requirement already satisfied: chardet<3.1.0,>=3.0.2 in /Users/adamdelreal/anaconda3/envs/tensorflow/lib/python3.6/site-packages (from requests>=2.18.4->iex) (3.0.4)\n",
      "Requirement already satisfied: urllib3<1.23,>=1.21.1 in /Users/adamdelreal/anaconda3/envs/tensorflow/lib/python3.6/site-packages (from requests>=2.18.4->iex) (1.22)\n",
      "Requirement already satisfied: idna<2.7,>=2.5 in /Users/adamdelreal/anaconda3/envs/tensorflow/lib/python3.6/site-packages (from requests>=2.18.4->iex) (2.6)\n",
      "Requirement already satisfied: python-dateutil>=2.5.0 in /Users/adamdelreal/anaconda3/envs/tensorflow/lib/python3.6/site-packages (from pandas>=0.22.0->iex) (2.7.3)\n",
      "Requirement already satisfied: numpy>=1.9.0 in /Users/adamdelreal/anaconda3/envs/tensorflow/lib/python3.6/site-packages (from pandas>=0.22.0->iex) (1.14.3)\n",
      "Requirement already satisfied: pytz>=2011k in /Users/adamdelreal/anaconda3/envs/tensorflow/lib/python3.6/site-packages (from pandas>=0.22.0->iex) (2018.4)\n",
      "Requirement already satisfied: six>=1.5 in /Users/adamdelreal/anaconda3/envs/tensorflow/lib/python3.6/site-packages (from python-dateutil>=2.5.0->pandas>=0.22.0->iex) (1.11.0)\n",
      "Building wheels for collected packages: iex\n",
      "  Running setup.py bdist_wheel for iex ... \u001b[?25ldone\n",
      "\u001b[?25h  Stored in directory: /Users/adamdelreal/Library/Caches/pip/wheels/5d/32/13/c67a4d87a9c2f2365af022e59a675b1dcd520d413485adea34\n",
      "Successfully built iex\n",
      "\u001b[31mtensorboard 1.8.0 has requirement bleach==1.5.0, but you'll have bleach 2.1.3 which is incompatible.\u001b[0m\n",
      "\u001b[31mtensorboard 1.8.0 has requirement html5lib==0.9999999, but you'll have html5lib 1.0.1 which is incompatible.\u001b[0m\n",
      "\u001b[31miexfinance 0.3.3 has requirement pandas==0.21.0, but you'll have pandas 0.23.1 which is incompatible.\u001b[0m\n",
      "Installing collected packages: pandas, iex\n",
      "  Found existing installation: pandas 0.21.0\n",
      "    Uninstalling pandas-0.21.0:\n",
      "      Successfully uninstalled pandas-0.21.0\n",
      "Successfully installed iex-0.0.1 pandas-0.23.1\n"
     ]
    }
   ],
   "source": [
    "! pip install iex"
   ]
  },
  {
   "cell_type": "code",
   "execution_count": 6,
   "metadata": {},
   "outputs": [
    {
     "name": "stdout",
     "output_type": "stream",
     "text": [
      "Collecting pandas-datareader\n",
      "\u001b[?25l  Downloading https://files.pythonhosted.org/packages/be/76/639c60ede26458dadf76bacaa9cbcc76f8cc5082fb2b2d90d0a90c699d36/pandas_datareader-0.6.0-py2.py3-none-any.whl (103kB)\n",
      "\u001b[K    100% |████████████████████████████████| 112kB 416kB/s ta 0:00:01\n",
      "\u001b[?25hRequirement already satisfied: requests>=2.3.0 in /Users/adamdelreal/anaconda3/envs/tensorflow/lib/python3.6/site-packages (from pandas-datareader) (2.18.4)\n",
      "Collecting requests-file (from pandas-datareader)\n",
      "  Downloading https://files.pythonhosted.org/packages/23/9c/6e63c23c39e53d3df41c77a3d05a49a42c4e1383a6d2a5e3233161b89dbf/requests_file-1.4.3-py2.py3-none-any.whl\n",
      "Collecting wrapt (from pandas-datareader)\n",
      "  Downloading https://files.pythonhosted.org/packages/a0/47/66897906448185fcb77fc3c2b1bc20ed0ecca81a0f2f88eda3fc5a34fc3d/wrapt-1.10.11.tar.gz\n",
      "Collecting requests-ftp (from pandas-datareader)\n",
      "  Downloading https://files.pythonhosted.org/packages/3d/ca/14b2ad1e93b5195eeaf56b86b7ecfd5ea2d5754a68d17aeb1e5b9f95b3cf/requests-ftp-0.3.1.tar.gz\n",
      "Requirement already satisfied: pandas>=0.19.2 in /Users/adamdelreal/anaconda3/envs/tensorflow/lib/python3.6/site-packages (from pandas-datareader) (0.23.1)\n",
      "Requirement already satisfied: lxml in /Users/adamdelreal/anaconda3/envs/tensorflow/lib/python3.6/site-packages (from pandas-datareader) (4.2.1)\n",
      "Requirement already satisfied: urllib3<1.23,>=1.21.1 in /Users/adamdelreal/anaconda3/envs/tensorflow/lib/python3.6/site-packages (from requests>=2.3.0->pandas-datareader) (1.22)\n",
      "Requirement already satisfied: chardet<3.1.0,>=3.0.2 in /Users/adamdelreal/anaconda3/envs/tensorflow/lib/python3.6/site-packages (from requests>=2.3.0->pandas-datareader) (3.0.4)\n",
      "Requirement already satisfied: idna<2.7,>=2.5 in /Users/adamdelreal/anaconda3/envs/tensorflow/lib/python3.6/site-packages (from requests>=2.3.0->pandas-datareader) (2.6)\n",
      "Requirement already satisfied: certifi>=2017.4.17 in /Users/adamdelreal/anaconda3/envs/tensorflow/lib/python3.6/site-packages (from requests>=2.3.0->pandas-datareader) (2018.4.16)\n",
      "Requirement already satisfied: six in /Users/adamdelreal/anaconda3/envs/tensorflow/lib/python3.6/site-packages (from requests-file->pandas-datareader) (1.11.0)\n",
      "Requirement already satisfied: numpy>=1.9.0 in /Users/adamdelreal/anaconda3/envs/tensorflow/lib/python3.6/site-packages (from pandas>=0.19.2->pandas-datareader) (1.14.3)\n",
      "Requirement already satisfied: python-dateutil>=2.5.0 in /Users/adamdelreal/anaconda3/envs/tensorflow/lib/python3.6/site-packages (from pandas>=0.19.2->pandas-datareader) (2.7.3)\n",
      "Requirement already satisfied: pytz>=2011k in /Users/adamdelreal/anaconda3/envs/tensorflow/lib/python3.6/site-packages (from pandas>=0.19.2->pandas-datareader) (2018.4)\n",
      "Building wheels for collected packages: wrapt, requests-ftp\n",
      "  Running setup.py bdist_wheel for wrapt ... \u001b[?25ldone\n",
      "\u001b[?25h  Stored in directory: /Users/adamdelreal/Library/Caches/pip/wheels/48/5d/04/22361a593e70d23b1f7746d932802efe1f0e523376a74f321e\n",
      "  Running setup.py bdist_wheel for requests-ftp ... \u001b[?25ldone\n",
      "\u001b[?25h  Stored in directory: /Users/adamdelreal/Library/Caches/pip/wheels/2a/98/32/37195e45a3392a73d9f65c488cbea30fe5bad76aaef4d6b020\n",
      "Successfully built wrapt requests-ftp\n",
      "\u001b[31mtensorboard 1.8.0 has requirement bleach==1.5.0, but you'll have bleach 2.1.3 which is incompatible.\u001b[0m\n",
      "\u001b[31mtensorboard 1.8.0 has requirement html5lib==0.9999999, but you'll have html5lib 1.0.1 which is incompatible.\u001b[0m\n",
      "\u001b[31miexfinance 0.3.3 has requirement pandas==0.21.0, but you'll have pandas 0.23.1 which is incompatible.\u001b[0m\n",
      "Installing collected packages: requests-file, wrapt, requests-ftp, pandas-datareader\n",
      "Successfully installed pandas-datareader-0.6.0 requests-file-1.4.3 requests-ftp-0.3.1 wrapt-1.10.11\n"
     ]
    }
   ],
   "source": [
    "! pip install pandas-datareader"
   ]
  },
  {
   "cell_type": "code",
   "execution_count": null,
   "metadata": {},
   "outputs": [],
   "source": []
  },
  {
   "cell_type": "code",
   "execution_count": null,
   "metadata": {},
   "outputs": [],
   "source": []
  },
  {
   "cell_type": "code",
   "execution_count": null,
   "metadata": {},
   "outputs": [],
   "source": []
  }
 ],
 "metadata": {
  "kernelspec": {
   "display_name": "Python 3",
   "language": "python",
   "name": "python3"
  },
  "language_info": {
   "codemirror_mode": {
    "name": "ipython",
    "version": 3
   },
   "file_extension": ".py",
   "mimetype": "text/x-python",
   "name": "python",
   "nbconvert_exporter": "python",
   "pygments_lexer": "ipython3",
   "version": "3.6.5"
  }
 },
 "nbformat": 4,
 "nbformat_minor": 2
}
