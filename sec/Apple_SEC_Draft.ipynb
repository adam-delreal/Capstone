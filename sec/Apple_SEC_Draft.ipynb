{
 "cells": [
  {
   "cell_type": "markdown",
   "metadata": {},
   "source": [
    "# Exploratory Data Analysis\n",
    "---------\n",
    "\n",
    "## Importing Libraries:"
   ]
  },
  {
   "cell_type": "code",
   "execution_count": 52,
   "metadata": {},
   "outputs": [],
   "source": [
    "import pandas as pd\n",
    "import numpy as np\n",
    "\n",
    "import matplotlib.pyplot as plt\n",
    "import seaborn as sns\n",
    "\n",
    "from datetime import datetime\n",
    "\n",
    "import re\n",
    "\n",
    "%matplotlib inline"
   ]
  },
  {
   "cell_type": "markdown",
   "metadata": {},
   "source": [
    "-------\n",
    "## Importing the SEC filings for Apple, Inc."
   ]
  },
  {
   "cell_type": "code",
   "execution_count": 53,
   "metadata": {},
   "outputs": [
    {
     "name": "stdout",
     "output_type": "stream",
     "text": [
      "apple_sec.csv   clean_apple.csv\r\n"
     ]
    }
   ],
   "source": [
    "! ls data"
   ]
  },
  {
   "cell_type": "code",
   "execution_count": 54,
   "metadata": {
    "scrolled": true
   },
   "outputs": [
    {
     "data": {
      "text/html": [
       "<div>\n",
       "<table border=\"1\" class=\"dataframe\">\n",
       "  <thead>\n",
       "    <tr style=\"text-align: right;\">\n",
       "      <th></th>\n",
       "      <th>date</th>\n",
       "      <th>document_type</th>\n",
       "      <th>description</th>\n",
       "      <th>file_number</th>\n",
       "    </tr>\n",
       "  </thead>\n",
       "  <tbody>\n",
       "    <tr>\n",
       "      <th>0</th>\n",
       "      <td>1994-01-26</td>\n",
       "      <td>424B5</td>\n",
       "      <td>Prospectus [Rule 424(b)(5)]Acc-no: 0000891618-...</td>\n",
       "      <td>033-6231094502696</td>\n",
       "    </tr>\n",
       "    <tr>\n",
       "      <th>1</th>\n",
       "      <td>1994-01-26</td>\n",
       "      <td>10-Q</td>\n",
       "      <td>Quarterly report [Sections 13 or 15(d)]Acc-no:...</td>\n",
       "      <td>000-1003094502732</td>\n",
       "    </tr>\n",
       "    <tr>\n",
       "      <th>2</th>\n",
       "      <td>1994-02-10</td>\n",
       "      <td>SC 13G/A</td>\n",
       "      <td>[Amend] Statement of acquisition of beneficial...</td>\n",
       "      <td>005-3363294505635</td>\n",
       "    </tr>\n",
       "    <tr>\n",
       "      <th>3</th>\n",
       "      <td>1994-02-17</td>\n",
       "      <td>SC 13G/A</td>\n",
       "      <td>[Amend] Statement of acquisition of beneficial...</td>\n",
       "      <td>005-3363294510471</td>\n",
       "    </tr>\n",
       "    <tr>\n",
       "      <th>4</th>\n",
       "      <td>1994-02-18</td>\n",
       "      <td>SC 13G</td>\n",
       "      <td>Statement of acquisition of beneficial ownersh...</td>\n",
       "      <td>005-3363200000000</td>\n",
       "    </tr>\n",
       "  </tbody>\n",
       "</table>\n",
       "</div>"
      ],
      "text/plain": [
       "         date document_type  \\\n",
       "0  1994-01-26         424B5   \n",
       "1  1994-01-26          10-Q   \n",
       "2  1994-02-10      SC 13G/A   \n",
       "3  1994-02-17      SC 13G/A   \n",
       "4  1994-02-18        SC 13G   \n",
       "\n",
       "                                         description        file_number  \n",
       "0  Prospectus [Rule 424(b)(5)]Acc-no: 0000891618-...  033-6231094502696  \n",
       "1  Quarterly report [Sections 13 or 15(d)]Acc-no:...  000-1003094502732  \n",
       "2  [Amend] Statement of acquisition of beneficial...  005-3363294505635  \n",
       "3  [Amend] Statement of acquisition of beneficial...  005-3363294510471  \n",
       "4  Statement of acquisition of beneficial ownersh...  005-3363200000000  "
      ]
     },
     "execution_count": 54,
     "metadata": {},
     "output_type": "execute_result"
    }
   ],
   "source": [
    "df = pd.read_csv('data/apple_sec.csv')\n",
    "df.head()"
   ]
  },
  {
   "cell_type": "code",
   "execution_count": 55,
   "metadata": {},
   "outputs": [
    {
     "data": {
      "text/plain": [
       "0    Prospectus [Rule 424(b)(5)]Acc-no: 0000891618-...\n",
       "1    Quarterly report [Sections 13 or 15(d)]Acc-no:...\n",
       "2    [Amend] Statement of acquisition of beneficial...\n",
       "3    [Amend] Statement of acquisition of beneficial...\n",
       "4    Statement of acquisition of beneficial ownersh...\n",
       "Name: description, dtype: object"
      ]
     },
     "execution_count": 55,
     "metadata": {},
     "output_type": "execute_result"
    }
   ],
   "source": [
    "df.description.head()"
   ]
  },
  {
   "cell_type": "code",
   "execution_count": null,
   "metadata": {},
   "outputs": [],
   "source": []
  },
  {
   "cell_type": "code",
   "execution_count": 56,
   "metadata": {},
   "outputs": [
    {
     "data": {
      "text/plain": [
       "48"
      ]
     },
     "execution_count": 56,
     "metadata": {},
     "output_type": "execute_result"
    }
   ],
   "source": [
    "sum(df.description.str.contains('Rule 424'))"
   ]
  },
  {
   "cell_type": "markdown",
   "metadata": {},
   "source": [
    "## Inspecting the Data:"
   ]
  },
  {
   "cell_type": "code",
   "execution_count": 57,
   "metadata": {},
   "outputs": [
    {
     "name": "stdout",
     "output_type": "stream",
     "text": [
      "<class 'pandas.core.frame.DataFrame'>\n",
      "RangeIndex: 585 entries, 0 to 584\n",
      "Data columns (total 4 columns):\n",
      "date             585 non-null object\n",
      "document_type    585 non-null object\n",
      "description      585 non-null object\n",
      "file_number      533 non-null object\n",
      "dtypes: object(4)\n",
      "memory usage: 18.4+ KB\n"
     ]
    }
   ],
   "source": [
    "df.info()"
   ]
  },
  {
   "cell_type": "code",
   "execution_count": 58,
   "metadata": {
    "scrolled": true
   },
   "outputs": [
    {
     "data": {
      "text/html": [
       "<div>\n",
       "<table border=\"1\" class=\"dataframe\">\n",
       "  <thead>\n",
       "    <tr style=\"text-align: right;\">\n",
       "      <th></th>\n",
       "      <th>date</th>\n",
       "      <th>document_type</th>\n",
       "      <th>description</th>\n",
       "      <th>file_number</th>\n",
       "    </tr>\n",
       "  </thead>\n",
       "  <tbody>\n",
       "    <tr>\n",
       "      <th>count</th>\n",
       "      <td>585</td>\n",
       "      <td>585</td>\n",
       "      <td>585</td>\n",
       "      <td>533</td>\n",
       "    </tr>\n",
       "    <tr>\n",
       "      <th>unique</th>\n",
       "      <td>509</td>\n",
       "      <td>37</td>\n",
       "      <td>585</td>\n",
       "      <td>533</td>\n",
       "    </tr>\n",
       "    <tr>\n",
       "      <th>top</th>\n",
       "      <td>2005-02-14</td>\n",
       "      <td>8-K</td>\n",
       "      <td>Current report, items 2.02 and 9.01\\nAcc-no: 0...</td>\n",
       "      <td>001-3674317664239</td>\n",
       "    </tr>\n",
       "    <tr>\n",
       "      <th>freq</th>\n",
       "      <td>4</td>\n",
       "      <td>164</td>\n",
       "      <td>1</td>\n",
       "      <td>1</td>\n",
       "    </tr>\n",
       "  </tbody>\n",
       "</table>\n",
       "</div>"
      ],
      "text/plain": [
       "              date document_type  \\\n",
       "count          585           585   \n",
       "unique         509            37   \n",
       "top     2005-02-14           8-K   \n",
       "freq             4           164   \n",
       "\n",
       "                                              description        file_number  \n",
       "count                                                 585                533  \n",
       "unique                                                585                533  \n",
       "top     Current report, items 2.02 and 9.01\\nAcc-no: 0...  001-3674317664239  \n",
       "freq                                                    1                  1  "
      ]
     },
     "execution_count": 58,
     "metadata": {},
     "output_type": "execute_result"
    }
   ],
   "source": [
    "df.describe()"
   ]
  },
  {
   "cell_type": "markdown",
   "metadata": {},
   "source": [
    "-------\n",
    "\n",
    "## Converting the Date Type into Date Time:"
   ]
  },
  {
   "cell_type": "code",
   "execution_count": 59,
   "metadata": {},
   "outputs": [
    {
     "data": {
      "text/html": [
       "<div>\n",
       "<table border=\"1\" class=\"dataframe\">\n",
       "  <thead>\n",
       "    <tr style=\"text-align: right;\">\n",
       "      <th></th>\n",
       "      <th>date</th>\n",
       "      <th>document_type</th>\n",
       "      <th>description</th>\n",
       "      <th>file_number</th>\n",
       "    </tr>\n",
       "  </thead>\n",
       "  <tbody>\n",
       "    <tr>\n",
       "      <th>0</th>\n",
       "      <td>1994-01-26</td>\n",
       "      <td>424B5</td>\n",
       "      <td>Prospectus [Rule 424(b)(5)]Acc-no: 0000891618-...</td>\n",
       "      <td>033-6231094502696</td>\n",
       "    </tr>\n",
       "    <tr>\n",
       "      <th>1</th>\n",
       "      <td>1994-01-26</td>\n",
       "      <td>10-Q</td>\n",
       "      <td>Quarterly report [Sections 13 or 15(d)]Acc-no:...</td>\n",
       "      <td>000-1003094502732</td>\n",
       "    </tr>\n",
       "  </tbody>\n",
       "</table>\n",
       "</div>"
      ],
      "text/plain": [
       "        date document_type                                        description  \\\n",
       "0 1994-01-26         424B5  Prospectus [Rule 424(b)(5)]Acc-no: 0000891618-...   \n",
       "1 1994-01-26          10-Q  Quarterly report [Sections 13 or 15(d)]Acc-no:...   \n",
       "\n",
       "         file_number  \n",
       "0  033-6231094502696  \n",
       "1  000-1003094502732  "
      ]
     },
     "execution_count": 59,
     "metadata": {},
     "output_type": "execute_result"
    }
   ],
   "source": [
    "df['date'] = pd.to_datetime(df.date, dayfirst=True)\n",
    "# df.set_index('Date', inplace=True)\n",
    "# df.sort_index(inplace=True, ascending=True)\n",
    "df.head(2)"
   ]
  },
  {
   "cell_type": "markdown",
   "metadata": {},
   "source": [
    "-------\n",
    "\n",
    "## Inspecting Missing Values:\n",
    "\n",
    "- File Serial-Number Missing: 52"
   ]
  },
  {
   "cell_type": "code",
   "execution_count": 60,
   "metadata": {},
   "outputs": [
    {
     "data": {
      "text/plain": [
       "date              0\n",
       "document_type     0\n",
       "description       0\n",
       "file_number      52\n",
       "dtype: int64"
      ]
     },
     "execution_count": 60,
     "metadata": {},
     "output_type": "execute_result"
    }
   ],
   "source": [
    "df.isnull().sum()"
   ]
  },
  {
   "cell_type": "markdown",
   "metadata": {},
   "source": [
    "## Displaying the Missing Values:"
   ]
  },
  {
   "cell_type": "code",
   "execution_count": 61,
   "metadata": {},
   "outputs": [
    {
     "name": "stderr",
     "output_type": "stream",
     "text": [
      "/Users/adamdelreal/anaconda3/envs/tensorflow/lib/python3.6/site-packages/ipykernel_launcher.py:1: UserWarning: Boolean Series key will be reindexed to match DataFrame index.\n",
      "  \"\"\"Entry point for launching an IPython kernel.\n"
     ]
    },
    {
     "data": {
      "text/html": [
       "<div>\n",
       "<table border=\"1\" class=\"dataframe\">\n",
       "  <thead>\n",
       "    <tr style=\"text-align: right;\">\n",
       "      <th></th>\n",
       "      <th>date</th>\n",
       "      <th>document_type</th>\n",
       "      <th>description</th>\n",
       "      <th>file_number</th>\n",
       "    </tr>\n",
       "  </thead>\n",
       "  <tbody>\n",
       "    <tr>\n",
       "      <th>11</th>\n",
       "      <td>1995-01-10</td>\n",
       "      <td>SC 13D/A</td>\n",
       "      <td>[Amend] General statement of acquisition of be...</td>\n",
       "      <td>NaN</td>\n",
       "    </tr>\n",
       "    <tr>\n",
       "      <th>13</th>\n",
       "      <td>1995-02-07</td>\n",
       "      <td>SC 13D/A</td>\n",
       "      <td>[Amend] General statement of acquisition of be...</td>\n",
       "      <td>NaN</td>\n",
       "    </tr>\n",
       "    <tr>\n",
       "      <th>23</th>\n",
       "      <td>1995-11-13</td>\n",
       "      <td>SC 13D/A</td>\n",
       "      <td>[Amend] General statement of acquisition of be...</td>\n",
       "      <td>NaN</td>\n",
       "    </tr>\n",
       "    <tr>\n",
       "      <th>24</th>\n",
       "      <td>1995-12-14</td>\n",
       "      <td>SC 13D/A</td>\n",
       "      <td>[Amend] General statement of acquisition of be...</td>\n",
       "      <td>NaN</td>\n",
       "    </tr>\n",
       "    <tr>\n",
       "      <th>25</th>\n",
       "      <td>1995-12-14</td>\n",
       "      <td>SC 13D/A</td>\n",
       "      <td>[Amend] General statement of acquisition of be...</td>\n",
       "      <td>NaN</td>\n",
       "    </tr>\n",
       "    <tr>\n",
       "      <th>29</th>\n",
       "      <td>1996-02-13</td>\n",
       "      <td>SC 13G</td>\n",
       "      <td>Statement of acquisition of beneficial ownersh...</td>\n",
       "      <td>NaN</td>\n",
       "    </tr>\n",
       "    <tr>\n",
       "      <th>31</th>\n",
       "      <td>1996-04-17</td>\n",
       "      <td>SC 13D/A</td>\n",
       "      <td>[Amend] General statement of acquisition of be...</td>\n",
       "      <td>NaN</td>\n",
       "    </tr>\n",
       "    <tr>\n",
       "      <th>203</th>\n",
       "      <td>2006-08-17</td>\n",
       "      <td>CORRESP</td>\n",
       "      <td>[Cover]CorrespondenceAcc-no: 0001104659-06-055...</td>\n",
       "      <td>NaN</td>\n",
       "    </tr>\n",
       "    <tr>\n",
       "      <th>204</th>\n",
       "      <td>2006-08-28</td>\n",
       "      <td>UPLOAD</td>\n",
       "      <td>[Cover]SEC-generated letterAcc-no: 0000000000-...</td>\n",
       "      <td>NaN</td>\n",
       "    </tr>\n",
       "    <tr>\n",
       "      <th>207</th>\n",
       "      <td>2006-10-06</td>\n",
       "      <td>UPLOAD</td>\n",
       "      <td>[Cover]SEC-generated letterAcc-no: 0000000000-...</td>\n",
       "      <td>NaN</td>\n",
       "    </tr>\n",
       "    <tr>\n",
       "      <th>219</th>\n",
       "      <td>2007-02-28</td>\n",
       "      <td>UPLOAD</td>\n",
       "      <td>[Cover]SEC-generated letterAcc-no: 0000000000-...</td>\n",
       "      <td>NaN</td>\n",
       "    </tr>\n",
       "    <tr>\n",
       "      <th>220</th>\n",
       "      <td>2007-03-13</td>\n",
       "      <td>CORRESP</td>\n",
       "      <td>[Cover]CorrespondenceAcc-no: 0001104659-07-018...</td>\n",
       "      <td>NaN</td>\n",
       "    </tr>\n",
       "    <tr>\n",
       "      <th>223</th>\n",
       "      <td>2007-04-12</td>\n",
       "      <td>UPLOAD</td>\n",
       "      <td>[Cover]SEC-generated letterAcc-no: 0000000000-...</td>\n",
       "      <td>NaN</td>\n",
       "    </tr>\n",
       "    <tr>\n",
       "      <th>227</th>\n",
       "      <td>2007-04-24</td>\n",
       "      <td>CORRESP</td>\n",
       "      <td>[Cover]CorrespondenceAcc-no: 0001104659-07-031...</td>\n",
       "      <td>NaN</td>\n",
       "    </tr>\n",
       "    <tr>\n",
       "      <th>230</th>\n",
       "      <td>2007-05-08</td>\n",
       "      <td>UPLOAD</td>\n",
       "      <td>[Cover]SEC-generated letterAcc-no: 0000000000-...</td>\n",
       "      <td>NaN</td>\n",
       "    </tr>\n",
       "    <tr>\n",
       "      <th>233</th>\n",
       "      <td>2007-05-21</td>\n",
       "      <td>CORRESP</td>\n",
       "      <td>[Cover]CorrespondenceAcc-no: 0001104659-07-041...</td>\n",
       "      <td>NaN</td>\n",
       "    </tr>\n",
       "    <tr>\n",
       "      <th>234</th>\n",
       "      <td>2007-06-15</td>\n",
       "      <td>UPLOAD</td>\n",
       "      <td>[Cover]SEC-generated letterAcc-no: 0000000000-...</td>\n",
       "      <td>NaN</td>\n",
       "    </tr>\n",
       "    <tr>\n",
       "      <th>245</th>\n",
       "      <td>2008-01-29</td>\n",
       "      <td>UPLOAD</td>\n",
       "      <td>[Cover]SEC-generated letterAcc-no: 0000000000-...</td>\n",
       "      <td>NaN</td>\n",
       "    </tr>\n",
       "    <tr>\n",
       "      <th>247</th>\n",
       "      <td>2008-02-11</td>\n",
       "      <td>CORRESP</td>\n",
       "      <td>[Cover]CorrespondenceAcc-no: 0001193125-08-026...</td>\n",
       "      <td>NaN</td>\n",
       "    </tr>\n",
       "    <tr>\n",
       "      <th>249</th>\n",
       "      <td>2008-03-03</td>\n",
       "      <td>UPLOAD</td>\n",
       "      <td>[Cover]SEC-generated letterAcc-no: 0000000000-...</td>\n",
       "      <td>NaN</td>\n",
       "    </tr>\n",
       "    <tr>\n",
       "      <th>250</th>\n",
       "      <td>2008-03-17</td>\n",
       "      <td>CORRESP</td>\n",
       "      <td>[Cover]CorrespondenceAcc-no: 0001193125-08-058...</td>\n",
       "      <td>NaN</td>\n",
       "    </tr>\n",
       "    <tr>\n",
       "      <th>251</th>\n",
       "      <td>2008-03-26</td>\n",
       "      <td>UPLOAD</td>\n",
       "      <td>[Cover]SEC-generated letterAcc-no: 0000000000-...</td>\n",
       "      <td>NaN</td>\n",
       "    </tr>\n",
       "    <tr>\n",
       "      <th>261</th>\n",
       "      <td>2008-12-22</td>\n",
       "      <td>UPLOAD</td>\n",
       "      <td>[Cover]SEC-generated letterAcc-no: 0000000000-...</td>\n",
       "      <td>NaN</td>\n",
       "    </tr>\n",
       "    <tr>\n",
       "      <th>262</th>\n",
       "      <td>2009-01-05</td>\n",
       "      <td>CORRESP</td>\n",
       "      <td>[Cover]CorrespondenceAcc-no: 0001193125-09-001...</td>\n",
       "      <td>NaN</td>\n",
       "    </tr>\n",
       "    <tr>\n",
       "      <th>268</th>\n",
       "      <td>2009-01-24</td>\n",
       "      <td>UPLOAD</td>\n",
       "      <td>[Cover]SEC-generated letterAcc-no: 0000000000-...</td>\n",
       "      <td>NaN</td>\n",
       "    </tr>\n",
       "    <tr>\n",
       "      <th>269</th>\n",
       "      <td>2009-02-09</td>\n",
       "      <td>CORRESP</td>\n",
       "      <td>[Cover]CorrespondenceAcc-no: 0001193125-09-022...</td>\n",
       "      <td>NaN</td>\n",
       "    </tr>\n",
       "    <tr>\n",
       "      <th>272</th>\n",
       "      <td>2009-02-27</td>\n",
       "      <td>UPLOAD</td>\n",
       "      <td>[Cover]SEC-generated letterAcc-no: 0000000000-...</td>\n",
       "      <td>NaN</td>\n",
       "    </tr>\n",
       "    <tr>\n",
       "      <th>290</th>\n",
       "      <td>2010-02-18</td>\n",
       "      <td>UPLOAD</td>\n",
       "      <td>[Cover]SEC-generated letterAcc-no: 0000000000-...</td>\n",
       "      <td>NaN</td>\n",
       "    </tr>\n",
       "    <tr>\n",
       "      <th>292</th>\n",
       "      <td>2010-03-04</td>\n",
       "      <td>CORRESP</td>\n",
       "      <td>[Cover]CorrespondenceAcc-no: 0001193125-10-047...</td>\n",
       "      <td>NaN</td>\n",
       "    </tr>\n",
       "    <tr>\n",
       "      <th>295</th>\n",
       "      <td>2010-03-19</td>\n",
       "      <td>UPLOAD</td>\n",
       "      <td>[Cover]SEC-generated letterAcc-no: 0000000000-...</td>\n",
       "      <td>NaN</td>\n",
       "    </tr>\n",
       "    <tr>\n",
       "      <th>296</th>\n",
       "      <td>2010-04-01</td>\n",
       "      <td>CORRESP</td>\n",
       "      <td>[Cover]CorrespondenceAcc-no: 0001193125-10-075...</td>\n",
       "      <td>NaN</td>\n",
       "    </tr>\n",
       "    <tr>\n",
       "      <th>297</th>\n",
       "      <td>2010-04-14</td>\n",
       "      <td>UPLOAD</td>\n",
       "      <td>[Cover]SEC-generated letterAcc-no: 0000000000-...</td>\n",
       "      <td>NaN</td>\n",
       "    </tr>\n",
       "    <tr>\n",
       "      <th>311</th>\n",
       "      <td>2011-01-28</td>\n",
       "      <td>UPLOAD</td>\n",
       "      <td>[Cover]SEC-generated letterAcc-no: 0000000000-...</td>\n",
       "      <td>NaN</td>\n",
       "    </tr>\n",
       "    <tr>\n",
       "      <th>314</th>\n",
       "      <td>2011-02-08</td>\n",
       "      <td>CORRESP</td>\n",
       "      <td>[Cover]CorrespondenceAcc-no: 0001193125-11-027...</td>\n",
       "      <td>NaN</td>\n",
       "    </tr>\n",
       "    <tr>\n",
       "      <th>317</th>\n",
       "      <td>2011-03-23</td>\n",
       "      <td>UPLOAD</td>\n",
       "      <td>[Cover]SEC-generated letterAcc-no: 0000000000-...</td>\n",
       "      <td>NaN</td>\n",
       "    </tr>\n",
       "    <tr>\n",
       "      <th>318</th>\n",
       "      <td>2011-03-28</td>\n",
       "      <td>CORRESP</td>\n",
       "      <td>[Cover]CorrespondenceAcc-no: 0001193125-11-079...</td>\n",
       "      <td>NaN</td>\n",
       "    </tr>\n",
       "    <tr>\n",
       "      <th>321</th>\n",
       "      <td>2011-04-25</td>\n",
       "      <td>UPLOAD</td>\n",
       "      <td>[Cover]SEC-generated letterAcc-no: 0000000000-...</td>\n",
       "      <td>NaN</td>\n",
       "    </tr>\n",
       "    <tr>\n",
       "      <th>323</th>\n",
       "      <td>2011-06-29</td>\n",
       "      <td>UPLOAD</td>\n",
       "      <td>[Cover]SEC-generated letterAcc-no: 0000000000-...</td>\n",
       "      <td>NaN</td>\n",
       "    </tr>\n",
       "    <tr>\n",
       "      <th>324</th>\n",
       "      <td>2011-07-12</td>\n",
       "      <td>CORRESP</td>\n",
       "      <td>[Cover]CorrespondenceAcc-no: 0001193125-11-186...</td>\n",
       "      <td>NaN</td>\n",
       "    </tr>\n",
       "    <tr>\n",
       "      <th>326</th>\n",
       "      <td>2011-07-19</td>\n",
       "      <td>UPLOAD</td>\n",
       "      <td>[Cover]SEC-generated letterAcc-no: 0000000000-...</td>\n",
       "      <td>NaN</td>\n",
       "    </tr>\n",
       "    <tr>\n",
       "      <th>328</th>\n",
       "      <td>2011-08-01</td>\n",
       "      <td>CORRESP</td>\n",
       "      <td>[Cover]CorrespondenceAcc-no: 0001193125-11-204...</td>\n",
       "      <td>NaN</td>\n",
       "    </tr>\n",
       "    <tr>\n",
       "      <th>329</th>\n",
       "      <td>2011-08-17</td>\n",
       "      <td>UPLOAD</td>\n",
       "      <td>[Cover]SEC-generated letterAcc-no: 0000000000-...</td>\n",
       "      <td>NaN</td>\n",
       "    </tr>\n",
       "    <tr>\n",
       "      <th>378</th>\n",
       "      <td>2013-06-13</td>\n",
       "      <td>UPLOAD</td>\n",
       "      <td>[Cover]SEC-generated letterAcc-no: 0000000000-...</td>\n",
       "      <td>NaN</td>\n",
       "    </tr>\n",
       "    <tr>\n",
       "      <th>380</th>\n",
       "      <td>2013-06-24</td>\n",
       "      <td>CORRESP</td>\n",
       "      <td>[Cover]CorrespondenceAcc-no: 0001193125-13-269...</td>\n",
       "      <td>NaN</td>\n",
       "    </tr>\n",
       "    <tr>\n",
       "      <th>381</th>\n",
       "      <td>2013-07-09</td>\n",
       "      <td>UPLOAD</td>\n",
       "      <td>[Cover]SEC-generated letterAcc-no: 0000000000-...</td>\n",
       "      <td>NaN</td>\n",
       "    </tr>\n",
       "    <tr>\n",
       "      <th>382</th>\n",
       "      <td>2013-07-22</td>\n",
       "      <td>CORRESP</td>\n",
       "      <td>[Cover]CorrespondenceAcc-no: 0001193125-13-297...</td>\n",
       "      <td>NaN</td>\n",
       "    </tr>\n",
       "    <tr>\n",
       "      <th>386</th>\n",
       "      <td>2013-09-06</td>\n",
       "      <td>UPLOAD</td>\n",
       "      <td>[Cover]SEC-generated letterAcc-no: 0000000000-...</td>\n",
       "      <td>NaN</td>\n",
       "    </tr>\n",
       "    <tr>\n",
       "      <th>446</th>\n",
       "      <td>2015-03-04</td>\n",
       "      <td>UPLOAD</td>\n",
       "      <td>[Cover]SEC-generated letterAcc-no: 0000000000-...</td>\n",
       "      <td>NaN</td>\n",
       "    </tr>\n",
       "    <tr>\n",
       "      <th>448</th>\n",
       "      <td>2015-04-01</td>\n",
       "      <td>CORRESP</td>\n",
       "      <td>[Cover]CorrespondenceAcc-no: 0001193125-15-115...</td>\n",
       "      <td>NaN</td>\n",
       "    </tr>\n",
       "    <tr>\n",
       "      <th>457</th>\n",
       "      <td>2015-05-19</td>\n",
       "      <td>UPLOAD</td>\n",
       "      <td>[Cover]SEC-generated letterAcc-no: 0000000000-...</td>\n",
       "      <td>NaN</td>\n",
       "    </tr>\n",
       "    <tr>\n",
       "      <th>470</th>\n",
       "      <td>2015-08-31</td>\n",
       "      <td>CORRESP</td>\n",
       "      <td>[Cover]CorrespondenceAcc-no: 0001193125-15-307...</td>\n",
       "      <td>NaN</td>\n",
       "    </tr>\n",
       "    <tr>\n",
       "      <th>471</th>\n",
       "      <td>2015-09-09</td>\n",
       "      <td>UPLOAD</td>\n",
       "      <td>[Cover]SEC-generated letterAcc-no: 0000000000-...</td>\n",
       "      <td>NaN</td>\n",
       "    </tr>\n",
       "  </tbody>\n",
       "</table>\n",
       "</div>"
      ],
      "text/plain": [
       "          date document_type  \\\n",
       "11  1995-01-10      SC 13D/A   \n",
       "13  1995-02-07      SC 13D/A   \n",
       "23  1995-11-13      SC 13D/A   \n",
       "24  1995-12-14      SC 13D/A   \n",
       "25  1995-12-14      SC 13D/A   \n",
       "29  1996-02-13        SC 13G   \n",
       "31  1996-04-17      SC 13D/A   \n",
       "203 2006-08-17       CORRESP   \n",
       "204 2006-08-28        UPLOAD   \n",
       "207 2006-10-06        UPLOAD   \n",
       "219 2007-02-28        UPLOAD   \n",
       "220 2007-03-13       CORRESP   \n",
       "223 2007-04-12        UPLOAD   \n",
       "227 2007-04-24       CORRESP   \n",
       "230 2007-05-08        UPLOAD   \n",
       "233 2007-05-21       CORRESP   \n",
       "234 2007-06-15        UPLOAD   \n",
       "245 2008-01-29        UPLOAD   \n",
       "247 2008-02-11       CORRESP   \n",
       "249 2008-03-03        UPLOAD   \n",
       "250 2008-03-17       CORRESP   \n",
       "251 2008-03-26        UPLOAD   \n",
       "261 2008-12-22        UPLOAD   \n",
       "262 2009-01-05       CORRESP   \n",
       "268 2009-01-24        UPLOAD   \n",
       "269 2009-02-09       CORRESP   \n",
       "272 2009-02-27        UPLOAD   \n",
       "290 2010-02-18        UPLOAD   \n",
       "292 2010-03-04       CORRESP   \n",
       "295 2010-03-19        UPLOAD   \n",
       "296 2010-04-01       CORRESP   \n",
       "297 2010-04-14        UPLOAD   \n",
       "311 2011-01-28        UPLOAD   \n",
       "314 2011-02-08       CORRESP   \n",
       "317 2011-03-23        UPLOAD   \n",
       "318 2011-03-28       CORRESP   \n",
       "321 2011-04-25        UPLOAD   \n",
       "323 2011-06-29        UPLOAD   \n",
       "324 2011-07-12       CORRESP   \n",
       "326 2011-07-19        UPLOAD   \n",
       "328 2011-08-01       CORRESP   \n",
       "329 2011-08-17        UPLOAD   \n",
       "378 2013-06-13        UPLOAD   \n",
       "380 2013-06-24       CORRESP   \n",
       "381 2013-07-09        UPLOAD   \n",
       "382 2013-07-22       CORRESP   \n",
       "386 2013-09-06        UPLOAD   \n",
       "446 2015-03-04        UPLOAD   \n",
       "448 2015-04-01       CORRESP   \n",
       "457 2015-05-19        UPLOAD   \n",
       "470 2015-08-31       CORRESP   \n",
       "471 2015-09-09        UPLOAD   \n",
       "\n",
       "                                           description file_number  \n",
       "11   [Amend] General statement of acquisition of be...         NaN  \n",
       "13   [Amend] General statement of acquisition of be...         NaN  \n",
       "23   [Amend] General statement of acquisition of be...         NaN  \n",
       "24   [Amend] General statement of acquisition of be...         NaN  \n",
       "25   [Amend] General statement of acquisition of be...         NaN  \n",
       "29   Statement of acquisition of beneficial ownersh...         NaN  \n",
       "31   [Amend] General statement of acquisition of be...         NaN  \n",
       "203  [Cover]CorrespondenceAcc-no: 0001104659-06-055...         NaN  \n",
       "204  [Cover]SEC-generated letterAcc-no: 0000000000-...         NaN  \n",
       "207  [Cover]SEC-generated letterAcc-no: 0000000000-...         NaN  \n",
       "219  [Cover]SEC-generated letterAcc-no: 0000000000-...         NaN  \n",
       "220  [Cover]CorrespondenceAcc-no: 0001104659-07-018...         NaN  \n",
       "223  [Cover]SEC-generated letterAcc-no: 0000000000-...         NaN  \n",
       "227  [Cover]CorrespondenceAcc-no: 0001104659-07-031...         NaN  \n",
       "230  [Cover]SEC-generated letterAcc-no: 0000000000-...         NaN  \n",
       "233  [Cover]CorrespondenceAcc-no: 0001104659-07-041...         NaN  \n",
       "234  [Cover]SEC-generated letterAcc-no: 0000000000-...         NaN  \n",
       "245  [Cover]SEC-generated letterAcc-no: 0000000000-...         NaN  \n",
       "247  [Cover]CorrespondenceAcc-no: 0001193125-08-026...         NaN  \n",
       "249  [Cover]SEC-generated letterAcc-no: 0000000000-...         NaN  \n",
       "250  [Cover]CorrespondenceAcc-no: 0001193125-08-058...         NaN  \n",
       "251  [Cover]SEC-generated letterAcc-no: 0000000000-...         NaN  \n",
       "261  [Cover]SEC-generated letterAcc-no: 0000000000-...         NaN  \n",
       "262  [Cover]CorrespondenceAcc-no: 0001193125-09-001...         NaN  \n",
       "268  [Cover]SEC-generated letterAcc-no: 0000000000-...         NaN  \n",
       "269  [Cover]CorrespondenceAcc-no: 0001193125-09-022...         NaN  \n",
       "272  [Cover]SEC-generated letterAcc-no: 0000000000-...         NaN  \n",
       "290  [Cover]SEC-generated letterAcc-no: 0000000000-...         NaN  \n",
       "292  [Cover]CorrespondenceAcc-no: 0001193125-10-047...         NaN  \n",
       "295  [Cover]SEC-generated letterAcc-no: 0000000000-...         NaN  \n",
       "296  [Cover]CorrespondenceAcc-no: 0001193125-10-075...         NaN  \n",
       "297  [Cover]SEC-generated letterAcc-no: 0000000000-...         NaN  \n",
       "311  [Cover]SEC-generated letterAcc-no: 0000000000-...         NaN  \n",
       "314  [Cover]CorrespondenceAcc-no: 0001193125-11-027...         NaN  \n",
       "317  [Cover]SEC-generated letterAcc-no: 0000000000-...         NaN  \n",
       "318  [Cover]CorrespondenceAcc-no: 0001193125-11-079...         NaN  \n",
       "321  [Cover]SEC-generated letterAcc-no: 0000000000-...         NaN  \n",
       "323  [Cover]SEC-generated letterAcc-no: 0000000000-...         NaN  \n",
       "324  [Cover]CorrespondenceAcc-no: 0001193125-11-186...         NaN  \n",
       "326  [Cover]SEC-generated letterAcc-no: 0000000000-...         NaN  \n",
       "328  [Cover]CorrespondenceAcc-no: 0001193125-11-204...         NaN  \n",
       "329  [Cover]SEC-generated letterAcc-no: 0000000000-...         NaN  \n",
       "378  [Cover]SEC-generated letterAcc-no: 0000000000-...         NaN  \n",
       "380  [Cover]CorrespondenceAcc-no: 0001193125-13-269...         NaN  \n",
       "381  [Cover]SEC-generated letterAcc-no: 0000000000-...         NaN  \n",
       "382  [Cover]CorrespondenceAcc-no: 0001193125-13-297...         NaN  \n",
       "386  [Cover]SEC-generated letterAcc-no: 0000000000-...         NaN  \n",
       "446  [Cover]SEC-generated letterAcc-no: 0000000000-...         NaN  \n",
       "448  [Cover]CorrespondenceAcc-no: 0001193125-15-115...         NaN  \n",
       "457  [Cover]SEC-generated letterAcc-no: 0000000000-...         NaN  \n",
       "470  [Cover]CorrespondenceAcc-no: 0001193125-15-307...         NaN  \n",
       "471  [Cover]SEC-generated letterAcc-no: 0000000000-...         NaN  "
      ]
     },
     "execution_count": 61,
     "metadata": {},
     "output_type": "execute_result"
    }
   ],
   "source": [
    "df[df['file_number'].isnull().sort_values(ascending=False)]"
   ]
  },
  {
   "cell_type": "markdown",
   "metadata": {},
   "source": [
    "## Dropping File Number:"
   ]
  },
  {
   "cell_type": "code",
   "execution_count": 62,
   "metadata": {},
   "outputs": [],
   "source": [
    "df.drop('file_number', axis=1, inplace=True)"
   ]
  },
  {
   "cell_type": "code",
   "execution_count": 63,
   "metadata": {},
   "outputs": [
    {
     "data": {
      "text/html": [
       "<div>\n",
       "<table border=\"1\" class=\"dataframe\">\n",
       "  <thead>\n",
       "    <tr style=\"text-align: right;\">\n",
       "      <th></th>\n",
       "      <th>date</th>\n",
       "      <th>document_type</th>\n",
       "      <th>description</th>\n",
       "    </tr>\n",
       "  </thead>\n",
       "  <tbody>\n",
       "    <tr>\n",
       "      <th>0</th>\n",
       "      <td>1994-01-26</td>\n",
       "      <td>424B5</td>\n",
       "      <td>Prospectus [Rule 424(b)(5)]Acc-no: 0000891618-...</td>\n",
       "    </tr>\n",
       "    <tr>\n",
       "      <th>1</th>\n",
       "      <td>1994-01-26</td>\n",
       "      <td>10-Q</td>\n",
       "      <td>Quarterly report [Sections 13 or 15(d)]Acc-no:...</td>\n",
       "    </tr>\n",
       "  </tbody>\n",
       "</table>\n",
       "</div>"
      ],
      "text/plain": [
       "        date document_type                                        description\n",
       "0 1994-01-26         424B5  Prospectus [Rule 424(b)(5)]Acc-no: 0000891618-...\n",
       "1 1994-01-26          10-Q  Quarterly report [Sections 13 or 15(d)]Acc-no:..."
      ]
     },
     "execution_count": 63,
     "metadata": {},
     "output_type": "execute_result"
    }
   ],
   "source": [
    "df.head(2)"
   ]
  },
  {
   "cell_type": "markdown",
   "metadata": {},
   "source": [
    "-----\n",
    "\n",
    "## Converting All Descriptions into Lower Case:"
   ]
  },
  {
   "cell_type": "code",
   "execution_count": 64,
   "metadata": {},
   "outputs": [
    {
     "data": {
      "text/html": [
       "<div>\n",
       "<table border=\"1\" class=\"dataframe\">\n",
       "  <thead>\n",
       "    <tr style=\"text-align: right;\">\n",
       "      <th></th>\n",
       "      <th>date</th>\n",
       "      <th>document_type</th>\n",
       "      <th>description</th>\n",
       "    </tr>\n",
       "  </thead>\n",
       "  <tbody>\n",
       "    <tr>\n",
       "      <th>0</th>\n",
       "      <td>1994-01-26</td>\n",
       "      <td>424B5</td>\n",
       "      <td>prospectus [rule 424(b)(5)]acc-no: 0000891618-...</td>\n",
       "    </tr>\n",
       "    <tr>\n",
       "      <th>1</th>\n",
       "      <td>1994-01-26</td>\n",
       "      <td>10-Q</td>\n",
       "      <td>quarterly report [sections 13 or 15(d)]acc-no:...</td>\n",
       "    </tr>\n",
       "    <tr>\n",
       "      <th>2</th>\n",
       "      <td>1994-02-10</td>\n",
       "      <td>SC 13G/A</td>\n",
       "      <td>[amend] statement of acquisition of beneficial...</td>\n",
       "    </tr>\n",
       "    <tr>\n",
       "      <th>3</th>\n",
       "      <td>1994-02-17</td>\n",
       "      <td>SC 13G/A</td>\n",
       "      <td>[amend] statement of acquisition of beneficial...</td>\n",
       "    </tr>\n",
       "    <tr>\n",
       "      <th>4</th>\n",
       "      <td>1994-02-18</td>\n",
       "      <td>SC 13G</td>\n",
       "      <td>statement of acquisition of beneficial ownersh...</td>\n",
       "    </tr>\n",
       "  </tbody>\n",
       "</table>\n",
       "</div>"
      ],
      "text/plain": [
       "        date document_type                                        description\n",
       "0 1994-01-26         424B5  prospectus [rule 424(b)(5)]acc-no: 0000891618-...\n",
       "1 1994-01-26          10-Q  quarterly report [sections 13 or 15(d)]acc-no:...\n",
       "2 1994-02-10      SC 13G/A  [amend] statement of acquisition of beneficial...\n",
       "3 1994-02-17      SC 13G/A  [amend] statement of acquisition of beneficial...\n",
       "4 1994-02-18        SC 13G  statement of acquisition of beneficial ownersh..."
      ]
     },
     "execution_count": 64,
     "metadata": {},
     "output_type": "execute_result"
    }
   ],
   "source": [
    "df['description'] = df['description'].apply(lambda x: x.lower())\n",
    "df.head()"
   ]
  },
  {
   "cell_type": "markdown",
   "metadata": {},
   "source": [
    "--- \n",
    "\n",
    "## Cleaning the Descriptions:"
   ]
  },
  {
   "cell_type": "code",
   "execution_count": 65,
   "metadata": {},
   "outputs": [
    {
     "data": {
      "text/html": [
       "<div>\n",
       "<table border=\"1\" class=\"dataframe\">\n",
       "  <thead>\n",
       "    <tr style=\"text-align: right;\">\n",
       "      <th></th>\n",
       "      <th>description</th>\n",
       "    </tr>\n",
       "  </thead>\n",
       "  <tbody>\n",
       "    <tr>\n",
       "      <th>0</th>\n",
       "      <td>prospectus  rule     b     acc no             ...</td>\n",
       "    </tr>\n",
       "    <tr>\n",
       "      <th>1</th>\n",
       "      <td>quarterly report  sections    or    d  acc no ...</td>\n",
       "    </tr>\n",
       "    <tr>\n",
       "      <th>2</th>\n",
       "      <td>amend  statement of acquisition of beneficial...</td>\n",
       "    </tr>\n",
       "    <tr>\n",
       "      <th>3</th>\n",
       "      <td>amend  statement of acquisition of beneficial...</td>\n",
       "    </tr>\n",
       "    <tr>\n",
       "      <th>4</th>\n",
       "      <td>statement of acquisition of beneficial ownersh...</td>\n",
       "    </tr>\n",
       "  </tbody>\n",
       "</table>\n",
       "</div>"
      ],
      "text/plain": [
       "                                         description\n",
       "0  prospectus  rule     b     acc no             ...\n",
       "1  quarterly report  sections    or    d  acc no ...\n",
       "2   amend  statement of acquisition of beneficial...\n",
       "3   amend  statement of acquisition of beneficial...\n",
       "4  statement of acquisition of beneficial ownersh..."
      ]
     },
     "execution_count": 65,
     "metadata": {},
     "output_type": "execute_result"
    }
   ],
   "source": [
    "df['description'] = df.description.str.replace('[^a-z]', ' ')\n",
    "df[['description']].head()"
   ]
  },
  {
   "cell_type": "markdown",
   "metadata": {},
   "source": [
    "------\n",
    "\n",
    "## Taking a Look at the Amount of Words per Description:"
   ]
  },
  {
   "cell_type": "code",
   "execution_count": 66,
   "metadata": {},
   "outputs": [],
   "source": [
    "description_len = [len(x.split()) for x in df.description]"
   ]
  },
  {
   "cell_type": "code",
   "execution_count": 67,
   "metadata": {},
   "outputs": [],
   "source": [
    "description_len_df = pd.DataFrame(description_len)"
   ]
  },
  {
   "cell_type": "code",
   "execution_count": 68,
   "metadata": {},
   "outputs": [],
   "source": [
    "description_len_df.rename(columns={0: 'words_in_description'}, inplace=True)"
   ]
  },
  {
   "cell_type": "code",
   "execution_count": 69,
   "metadata": {},
   "outputs": [
    {
     "name": "stdout",
     "output_type": "stream",
     "text": [
      "Total Number of Words: words_in_description    5604\n",
      "dtype: int64\n"
     ]
    }
   ],
   "source": [
    "print('Total Number of Words:', description_len_df.sum())"
   ]
  },
  {
   "cell_type": "code",
   "execution_count": 70,
   "metadata": {},
   "outputs": [
    {
     "data": {
      "text/html": [
       "<div>\n",
       "<table border=\"1\" class=\"dataframe\">\n",
       "  <thead>\n",
       "    <tr style=\"text-align: right;\">\n",
       "      <th></th>\n",
       "      <th>words_in_description</th>\n",
       "    </tr>\n",
       "  </thead>\n",
       "  <tbody>\n",
       "    <tr>\n",
       "      <th>0</th>\n",
       "      <td>7</td>\n",
       "    </tr>\n",
       "    <tr>\n",
       "      <th>1</th>\n",
       "      <td>9</td>\n",
       "    </tr>\n",
       "    <tr>\n",
       "      <th>2</th>\n",
       "      <td>12</td>\n",
       "    </tr>\n",
       "    <tr>\n",
       "      <th>3</th>\n",
       "      <td>12</td>\n",
       "    </tr>\n",
       "    <tr>\n",
       "      <th>4</th>\n",
       "      <td>11</td>\n",
       "    </tr>\n",
       "    <tr>\n",
       "      <th>5</th>\n",
       "      <td>12</td>\n",
       "    </tr>\n",
       "    <tr>\n",
       "      <th>6</th>\n",
       "      <td>13</td>\n",
       "    </tr>\n",
       "    <tr>\n",
       "      <th>7</th>\n",
       "      <td>13</td>\n",
       "    </tr>\n",
       "    <tr>\n",
       "      <th>8</th>\n",
       "      <td>9</td>\n",
       "    </tr>\n",
       "    <tr>\n",
       "      <th>9</th>\n",
       "      <td>7</td>\n",
       "    </tr>\n",
       "  </tbody>\n",
       "</table>\n",
       "</div>"
      ],
      "text/plain": [
       "   words_in_description\n",
       "0                     7\n",
       "1                     9\n",
       "2                    12\n",
       "3                    12\n",
       "4                    11\n",
       "5                    12\n",
       "6                    13\n",
       "7                    13\n",
       "8                     9\n",
       "9                     7"
      ]
     },
     "execution_count": 70,
     "metadata": {},
     "output_type": "execute_result"
    }
   ],
   "source": [
    "description_len_df.head(10)"
   ]
  },
  {
   "cell_type": "markdown",
   "metadata": {},
   "source": [
    "-------\n",
    "# Visualization:\n",
    "\n",
    "## Plotting the Number of Words per Description:"
   ]
  },
  {
   "cell_type": "code",
   "execution_count": 17,
   "metadata": {},
   "outputs": [],
   "source": [
    "def dist_plot(column):\n",
    "    plt.figure(figsize=(14,7))\n",
    "    sns.distplot(column, bins = 14)\n",
    "    plt.ylabel('Frequency', fontsize=14)\n",
    "    plt.xlabel('Number of Words', fontsize=14)\n",
    "    plt.xticks(rotation=45, ha='right')\n",
    "    plt.title('SEC Document Descriptions', fontsize=18)"
   ]
  },
  {
   "cell_type": "code",
   "execution_count": 18,
   "metadata": {},
   "outputs": [
    {
     "name": "stderr",
     "output_type": "stream",
     "text": [
      "/Users/adamdelreal/anaconda3/envs/tensorflow/lib/python3.6/site-packages/matplotlib/axes/_axes.py:6462: UserWarning: The 'normed' kwarg is deprecated, and has been replaced by the 'density' kwarg.\n",
      "  warnings.warn(\"The 'normed' kwarg is deprecated, and has been \"\n"
     ]
    },
    {
     "data": {
      "image/png": "[encoded data removed]",
      "text/plain": [
       "<Figure size 1008x504 with 1 Axes>"
      ]
     },
     "metadata": {},
     "output_type": "display_data"
    }
   ],
   "source": [
    "dist_plot(description_len_df);"
   ]
  },
  {
   "cell_type": "markdown",
   "metadata": {},
   "source": [
    "------\n",
    "# Visualization:\n",
    "\n",
    "## Plotting Document Types:"
   ]
  },
  {
   "cell_type": "code",
   "execution_count": 19,
   "metadata": {},
   "outputs": [],
   "source": [
    "def count_plot(column):\n",
    "    plt.figure(figsize=(14,7))\n",
    "    sns.countplot(x=column, data=df)\n",
    "    plt.ylabel('Frequency', fontsize=14)\n",
    "    plt.xlabel('Document Type', fontsize=14)\n",
    "    plt.xticks(rotation=45, ha='right')\n",
    "    plt.title('SEC Document Filings', fontsize=18)"
   ]
  },
  {
   "cell_type": "code",
   "execution_count": 20,
   "metadata": {},
   "outputs": [
    {
     "data": {
      "image/png": "[encoded data removed]",
      "text/plain": [
       "<Figure size 1008x504 with 1 Axes>"
      ]
     },
     "metadata": {},
     "output_type": "display_data"
    }
   ],
   "source": [
    "count_plot('document_type')"
   ]
  },
  {
   "cell_type": "markdown",
   "metadata": {},
   "source": [
    "-------\n",
    "# Feature Engineering:\n",
    "\n",
    "## Creating Dummy Variables from the Document Types:"
   ]
  },
  {
   "cell_type": "code",
   "execution_count": 21,
   "metadata": {},
   "outputs": [
    {
     "data": {
      "text/html": [
       "<div>\n",
       "<table border=\"1\" class=\"dataframe\">\n",
       "  <thead>\n",
       "    <tr style=\"text-align: right;\">\n",
       "      <th></th>\n",
       "      <th>date</th>\n",
       "      <th>document_type</th>\n",
       "      <th>description</th>\n",
       "      <th>10-K</th>\n",
       "      <th>10-K/A</th>\n",
       "      <th>10-K405</th>\n",
       "      <th>10-Q</th>\n",
       "      <th>10-Q/A</th>\n",
       "      <th>424B2</th>\n",
       "      <th>424B3</th>\n",
       "      <th>...</th>\n",
       "      <th>S-4/A</th>\n",
       "      <th>S-8</th>\n",
       "      <th>SC 13D</th>\n",
       "      <th>SC 13D/A</th>\n",
       "      <th>SC 13G</th>\n",
       "      <th>SC 13G/A</th>\n",
       "      <th>SC TO-I</th>\n",
       "      <th>SC TO-I/A</th>\n",
       "      <th>SD</th>\n",
       "      <th>UPLOAD</th>\n",
       "    </tr>\n",
       "  </thead>\n",
       "  <tbody>\n",
       "    <tr>\n",
       "      <th>0</th>\n",
       "      <td>1994-01-26</td>\n",
       "      <td>424B5</td>\n",
       "      <td>prospectus rule baccno  size  kb</td>\n",
       "      <td>0.0</td>\n",
       "      <td>0.0</td>\n",
       "      <td>0.0</td>\n",
       "      <td>0.0</td>\n",
       "      <td>0.0</td>\n",
       "      <td>0.0</td>\n",
       "      <td>0.0</td>\n",
       "      <td>...</td>\n",
       "      <td>0.0</td>\n",
       "      <td>0.0</td>\n",
       "      <td>0.0</td>\n",
       "      <td>0.0</td>\n",
       "      <td>0.0</td>\n",
       "      <td>0.0</td>\n",
       "      <td>0.0</td>\n",
       "      <td>0.0</td>\n",
       "      <td>0.0</td>\n",
       "      <td>0.0</td>\n",
       "    </tr>\n",
       "    <tr>\n",
       "      <th>1</th>\n",
       "      <td>1994-01-26</td>\n",
       "      <td>10-Q</td>\n",
       "      <td>quarterly report sections  or daccno  size  kb</td>\n",
       "      <td>0.0</td>\n",
       "      <td>0.0</td>\n",
       "      <td>0.0</td>\n",
       "      <td>1.0</td>\n",
       "      <td>0.0</td>\n",
       "      <td>0.0</td>\n",
       "      <td>0.0</td>\n",
       "      <td>...</td>\n",
       "      <td>0.0</td>\n",
       "      <td>0.0</td>\n",
       "      <td>0.0</td>\n",
       "      <td>0.0</td>\n",
       "      <td>0.0</td>\n",
       "      <td>0.0</td>\n",
       "      <td>0.0</td>\n",
       "      <td>0.0</td>\n",
       "      <td>0.0</td>\n",
       "      <td>0.0</td>\n",
       "    </tr>\n",
       "    <tr>\n",
       "      <th>2</th>\n",
       "      <td>1994-02-10</td>\n",
       "      <td>SC 13G/A</td>\n",
       "      <td>amend statement of acquisition of beneficial o...</td>\n",
       "      <td>0.0</td>\n",
       "      <td>0.0</td>\n",
       "      <td>0.0</td>\n",
       "      <td>0.0</td>\n",
       "      <td>0.0</td>\n",
       "      <td>0.0</td>\n",
       "      <td>0.0</td>\n",
       "      <td>...</td>\n",
       "      <td>0.0</td>\n",
       "      <td>0.0</td>\n",
       "      <td>0.0</td>\n",
       "      <td>0.0</td>\n",
       "      <td>0.0</td>\n",
       "      <td>1.0</td>\n",
       "      <td>0.0</td>\n",
       "      <td>0.0</td>\n",
       "      <td>0.0</td>\n",
       "      <td>0.0</td>\n",
       "    </tr>\n",
       "    <tr>\n",
       "      <th>3</th>\n",
       "      <td>1994-02-17</td>\n",
       "      <td>SC 13G/A</td>\n",
       "      <td>amend statement of acquisition of beneficial o...</td>\n",
       "      <td>0.0</td>\n",
       "      <td>0.0</td>\n",
       "      <td>0.0</td>\n",
       "      <td>0.0</td>\n",
       "      <td>0.0</td>\n",
       "      <td>0.0</td>\n",
       "      <td>0.0</td>\n",
       "      <td>...</td>\n",
       "      <td>0.0</td>\n",
       "      <td>0.0</td>\n",
       "      <td>0.0</td>\n",
       "      <td>0.0</td>\n",
       "      <td>0.0</td>\n",
       "      <td>1.0</td>\n",
       "      <td>0.0</td>\n",
       "      <td>0.0</td>\n",
       "      <td>0.0</td>\n",
       "      <td>0.0</td>\n",
       "    </tr>\n",
       "    <tr>\n",
       "      <th>4</th>\n",
       "      <td>1994-02-18</td>\n",
       "      <td>SC 13G</td>\n",
       "      <td>statement of acquisition of beneficial ownersh...</td>\n",
       "      <td>0.0</td>\n",
       "      <td>0.0</td>\n",
       "      <td>0.0</td>\n",
       "      <td>0.0</td>\n",
       "      <td>0.0</td>\n",
       "      <td>0.0</td>\n",
       "      <td>0.0</td>\n",
       "      <td>...</td>\n",
       "      <td>0.0</td>\n",
       "      <td>0.0</td>\n",
       "      <td>0.0</td>\n",
       "      <td>0.0</td>\n",
       "      <td>1.0</td>\n",
       "      <td>0.0</td>\n",
       "      <td>0.0</td>\n",
       "      <td>0.0</td>\n",
       "      <td>0.0</td>\n",
       "      <td>0.0</td>\n",
       "    </tr>\n",
       "  </tbody>\n",
       "</table>\n",
       "<p>5 rows × 40 columns</p>\n",
       "</div>"
      ],
      "text/plain": [
       "        date document_type                                        description  \\\n",
       "0 1994-01-26         424B5                   prospectus rule baccno  size  kb   \n",
       "1 1994-01-26          10-Q     quarterly report sections  or daccno  size  kb   \n",
       "2 1994-02-10      SC 13G/A  amend statement of acquisition of beneficial o...   \n",
       "3 1994-02-17      SC 13G/A  amend statement of acquisition of beneficial o...   \n",
       "4 1994-02-18        SC 13G  statement of acquisition of beneficial ownersh...   \n",
       "\n",
       "   10-K  10-K/A  10-K405  10-Q  10-Q/A  424B2  424B3   ...    S-4/A  S-8  \\\n",
       "0   0.0     0.0      0.0   0.0     0.0    0.0    0.0   ...      0.0  0.0   \n",
       "1   0.0     0.0      0.0   1.0     0.0    0.0    0.0   ...      0.0  0.0   \n",
       "2   0.0     0.0      0.0   0.0     0.0    0.0    0.0   ...      0.0  0.0   \n",
       "3   0.0     0.0      0.0   0.0     0.0    0.0    0.0   ...      0.0  0.0   \n",
       "4   0.0     0.0      0.0   0.0     0.0    0.0    0.0   ...      0.0  0.0   \n",
       "\n",
       "   SC 13D  SC 13D/A  SC 13G  SC 13G/A  SC TO-I  SC TO-I/A   SD  UPLOAD  \n",
       "0     0.0       0.0     0.0       0.0      0.0        0.0  0.0     0.0  \n",
       "1     0.0       0.0     0.0       0.0      0.0        0.0  0.0     0.0  \n",
       "2     0.0       0.0     0.0       1.0      0.0        0.0  0.0     0.0  \n",
       "3     0.0       0.0     0.0       1.0      0.0        0.0  0.0     0.0  \n",
       "4     0.0       0.0     1.0       0.0      0.0        0.0  0.0     0.0  \n",
       "\n",
       "[5 rows x 40 columns]"
      ]
     },
     "execution_count": 21,
     "metadata": {},
     "output_type": "execute_result"
    }
   ],
   "source": [
    "dummy = pd.get_dummies(df.document_type)\n",
    "df = pd.concat([df, dummy], axis=1)\n",
    "\n",
    "df.head()"
   ]
  },
  {
   "cell_type": "markdown",
   "metadata": {},
   "source": [
    "-------\n",
    "\n"
   ]
  },
  {
   "cell_type": "markdown",
   "metadata": {},
   "source": [
    "---------\n",
    "\n",
    "## Saving onto a CSV:"
   ]
  },
  {
   "cell_type": "code",
   "execution_count": 22,
   "metadata": {},
   "outputs": [],
   "source": [
    "# df.to_csv('data/clean_apple.csv', index=False)"
   ]
  }
 ],
 "metadata": {
  "kernelspec": {
   "display_name": "Python 3",
   "language": "python",
   "name": "python3"
  },
  "language_info": {
   "codemirror_mode": {
    "name": "ipython",
    "version": 3
   },
   "file_extension": ".py",
   "mimetype": "text/x-python",
   "name": "python",
   "nbconvert_exporter": "python",
   "pygments_lexer": "ipython3",
   "version": "3.6.5"
  }
 },
 "nbformat": 4,
 "nbformat_minor": 2
}
