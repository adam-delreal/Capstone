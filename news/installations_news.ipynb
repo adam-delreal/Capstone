{
 "cells": [
  {
   "cell_type": "markdown",
   "metadata": {},
   "source": [
    "http://pandas-datareader.readthedocs.io/en/latest/remote_data.html\n",
    "\n",
    "http://pandas-datareader.readthedocs.io/en/latest/index.html"
   ]
  },
  {
   "cell_type": "code",
   "execution_count": 4,
   "metadata": {},
   "outputs": [
    {
     "name": "stdout",
     "output_type": "stream",
     "text": [
      "Collecting morningstar-descriptors\n",
      "\u001b[31m  Could not find a version that satisfies the requirement morningstar-descriptors (from versions: )\u001b[0m\n",
      "\u001b[31mNo matching distribution found for morningstar-descriptors\u001b[0m\n"
     ]
    }
   ],
   "source": [
    "! pip install morningstar-descriptors"
   ]
  },
  {
   "cell_type": "code",
   "execution_count": null,
   "metadata": {},
   "outputs": [],
   "source": [
    "! git clone git@github.com:gykovacs/morningstar_descriptors.git"
   ]
  },
  {
   "cell_type": "code",
   "execution_count": null,
   "metadata": {},
   "outputs": [],
   "source": []
  },
  {
   "cell_type": "code",
   "execution_count": 1,
   "metadata": {},
   "outputs": [
    {
     "name": "stdout",
     "output_type": "stream",
     "text": [
      "Collecting scrapy\n",
      "\u001b[?25l  Downloading https://files.pythonhosted.org/packages/db/9c/cb15b2dc6003a805afd21b9b396e0e965800765b51da72fe17cf340b9be2/Scrapy-1.5.0-py2.py3-none-any.whl (251kB)\n",
      "\u001b[K    100% |████████████████████████████████| 256kB 668kB/s ta 0:00:01\n",
      "\u001b[?25hCollecting cssselect>=0.9 (from scrapy)\n",
      "  Downloading https://files.pythonhosted.org/packages/7b/44/25b7283e50585f0b4156960691d951b05d061abf4a714078393e51929b30/cssselect-1.0.3-py2.py3-none-any.whl\n",
      "Collecting PyDispatcher>=2.0.5 (from scrapy)\n",
      "  Downloading https://files.pythonhosted.org/packages/cd/37/39aca520918ce1935bea9c356bcbb7ed7e52ad4e31bff9b943dfc8e7115b/PyDispatcher-2.0.5.tar.gz\n",
      "Collecting service-identity (from scrapy)\n",
      "  Downloading https://files.pythonhosted.org/packages/29/fa/995e364220979e577e7ca232440961db0bf996b6edaf586a7d1bd14d81f1/service_identity-17.0.0-py2.py3-none-any.whl\n",
      "Collecting queuelib (from scrapy)\n",
      "  Downloading https://files.pythonhosted.org/packages/4c/85/ae64e9145f39dd6d14f8af3fa809a270ef3729f3b90b3c0cf5aa242ab0d4/queuelib-1.5.0-py2.py3-none-any.whl\n",
      "Collecting w3lib>=1.17.0 (from scrapy)\n",
      "  Downloading https://files.pythonhosted.org/packages/37/94/40c93ad0cadac0f8cb729e1668823c71532fd4a7361b141aec535acb68e3/w3lib-1.19.0-py2.py3-none-any.whl\n",
      "Requirement already satisfied: lxml in /Users/adamdelreal/anaconda3/envs/tensorflow/lib/python3.6/site-packages (from scrapy) (4.2.1)\n",
      "Requirement already satisfied: six>=1.5.2 in /Users/adamdelreal/anaconda3/envs/tensorflow/lib/python3.6/site-packages (from scrapy) (1.11.0)\n",
      "Requirement already satisfied: pyOpenSSL in /Users/adamdelreal/anaconda3/envs/tensorflow/lib/python3.6/site-packages (from scrapy) (18.0.0)\n",
      "Collecting Twisted>=13.1.0 (from scrapy)\n",
      "\u001b[?25l  Downloading https://files.pythonhosted.org/packages/12/2a/e9e4fb2e6b2f7a75577e0614926819a472934b0b85f205ba5d5d2add54d0/Twisted-18.4.0.tar.bz2 (3.0MB)\n",
      "\u001b[K    100% |████████████████████████████████| 3.0MB 247kB/s ta 0:00:01\n",
      "\u001b[?25hCollecting parsel>=1.1 (from scrapy)\n",
      "  Downloading https://files.pythonhosted.org/packages/bc/b4/2fd37d6f6a7e35cbc4c2613a789221ef1109708d5d4fb9fd5f6f721a43c9/parsel-1.4.0-py2.py3-none-any.whl\n",
      "Collecting pyasn1-modules (from service-identity->scrapy)\n",
      "  Using cached https://files.pythonhosted.org/packages/e9/51/bcd96bf6231d4b2cc5e023c511bee86637ba375c44a6f9d1b4b7ad1ce4b9/pyasn1_modules-0.2.1-py2.py3-none-any.whl\n",
      "Requirement already satisfied: pyasn1 in /Users/adamdelreal/anaconda3/envs/tensorflow/lib/python3.6/site-packages (from service-identity->scrapy) (0.4.3)\n",
      "Requirement already satisfied: attrs in /Users/adamdelreal/anaconda3/envs/tensorflow/lib/python3.6/site-packages (from service-identity->scrapy) (18.1.0)\n",
      "Requirement already satisfied: cryptography>=2.2.1 in /Users/adamdelreal/anaconda3/envs/tensorflow/lib/python3.6/site-packages (from pyOpenSSL->scrapy) (2.2.2)\n",
      "Collecting zope.interface>=4.4.2 (from Twisted>=13.1.0->scrapy)\n",
      "\u001b[?25l  Downloading https://files.pythonhosted.org/packages/ac/8a/657532df378c2cd2a1fe6b12be3b4097521570769d4852ec02c24bd3594e/zope.interface-4.5.0.tar.gz (151kB)\n",
      "\u001b[K    100% |████████████████████████████████| 153kB 481kB/s ta 0:00:01\n",
      "\u001b[?25hCollecting constantly>=15.1 (from Twisted>=13.1.0->scrapy)\n",
      "  Downloading https://files.pythonhosted.org/packages/b9/65/48c1909d0c0aeae6c10213340ce682db01b48ea900a7d9fce7a7910ff318/constantly-15.1.0-py2.py3-none-any.whl\n",
      "Collecting incremental>=16.10.1 (from Twisted>=13.1.0->scrapy)\n",
      "  Downloading https://files.pythonhosted.org/packages/f5/1d/c98a587dc06e107115cf4a58b49de20b19222c83d75335a192052af4c4b7/incremental-17.5.0-py2.py3-none-any.whl\n",
      "Collecting Automat>=0.3.0 (from Twisted>=13.1.0->scrapy)\n",
      "  Downloading https://files.pythonhosted.org/packages/a3/86/14c16bb98a5a3542ed8fed5d74fb064a902de3bdd98d6584b34553353c45/Automat-0.7.0-py2.py3-none-any.whl\n",
      "Collecting hyperlink>=17.1.1 (from Twisted>=13.1.0->scrapy)\n",
      "  Downloading https://files.pythonhosted.org/packages/a7/b6/84d0c863ff81e8e7de87cff3bd8fd8f1054c227ce09af1b679a8b17a9274/hyperlink-18.0.0-py2.py3-none-any.whl\n",
      "Requirement already satisfied: idna>=2.1 in /Users/adamdelreal/anaconda3/envs/tensorflow/lib/python3.6/site-packages (from cryptography>=2.2.1->pyOpenSSL->scrapy) (2.6)\n",
      "Requirement already satisfied: cffi>=1.7; platform_python_implementation != \"PyPy\" in /Users/adamdelreal/anaconda3/envs/tensorflow/lib/python3.6/site-packages (from cryptography>=2.2.1->pyOpenSSL->scrapy) (1.11.5)\n",
      "Requirement already satisfied: asn1crypto>=0.21.0 in /Users/adamdelreal/anaconda3/envs/tensorflow/lib/python3.6/site-packages (from cryptography>=2.2.1->pyOpenSSL->scrapy) (0.24.0)\n",
      "Requirement already satisfied: setuptools in /Users/adamdelreal/anaconda3/envs/tensorflow/lib/python3.6/site-packages (from zope.interface>=4.4.2->Twisted>=13.1.0->scrapy) (39.2.0)\n",
      "Requirement already satisfied: pycparser in /Users/adamdelreal/anaconda3/envs/tensorflow/lib/python3.6/site-packages (from cffi>=1.7; platform_python_implementation != \"PyPy\"->cryptography>=2.2.1->pyOpenSSL->scrapy) (2.18)\n",
      "Building wheels for collected packages: PyDispatcher, Twisted, zope.interface\n",
      "  Running setup.py bdist_wheel for PyDispatcher ... \u001b[?25ldone\n",
      "\u001b[?25h  Stored in directory: /Users/adamdelreal/Library/Caches/pip/wheels/88/99/96/cfef6665f9cb1522ee6757ae5955feedf2fe25f1737f91fa7f\n",
      "  Running setup.py bdist_wheel for Twisted ... \u001b[?25ldone\n",
      "\u001b[?25h  Stored in directory: /Users/adamdelreal/Library/Caches/pip/wheels/b3/76/f7/85353c829c0881e74b5366ce0ed59042b098bb4903e2da8828\n",
      "  Running setup.py bdist_wheel for zope.interface ... \u001b[?25ldone\n",
      "\u001b[?25h  Stored in directory: /Users/adamdelreal/Library/Caches/pip/wheels/c6/b2/d2/be6785a207eaa58d76debc10c9d5c66196b40a88abb61d6af7\n",
      "Successfully built PyDispatcher Twisted zope.interface\n",
      "\u001b[31mtensorboard 1.8.0 has requirement bleach==1.5.0, but you'll have bleach 2.1.3 which is incompatible.\u001b[0m\n",
      "\u001b[31mtensorboard 1.8.0 has requirement html5lib==0.9999999, but you'll have html5lib 1.0.1 which is incompatible.\u001b[0m\n",
      "\u001b[31miexfinance 0.3.3 has requirement pandas==0.21.0, but you'll have pandas 0.18.1 which is incompatible.\u001b[0m\n",
      "\u001b[31miex 0.0.1 has requirement pandas>=0.22.0, but you'll have pandas 0.18.1 which is incompatible.\u001b[0m\n",
      "Installing collected packages: cssselect, PyDispatcher, pyasn1-modules, service-identity, queuelib, w3lib, zope.interface, constantly, incremental, Automat, hyperlink, Twisted, parsel, scrapy\n",
      "Successfully installed Automat-0.7.0 PyDispatcher-2.0.5 Twisted-18.4.0 constantly-15.1.0 cssselect-1.0.3 hyperlink-18.0.0 incremental-17.5.0 parsel-1.4.0 pyasn1-modules-0.2.1 queuelib-1.5.0 scrapy-1.5.0 service-identity-17.0.0 w3lib-1.19.0 zope.interface-4.5.0\n"
     ]
    }
   ],
   "source": [
    "! pip install scrapy"
   ]
  },
  {
   "cell_type": "code",
   "execution_count": null,
   "metadata": {},
   "outputs": [],
   "source": []
  },
  {
   "cell_type": "code",
   "execution_count": 1,
   "metadata": {},
   "outputs": [
    {
     "name": "stdout",
     "output_type": "stream",
     "text": [
      "Collecting eventregistry\n",
      "  Downloading https://files.pythonhosted.org/packages/ee/4b/9b643aae17dcd5270eda66d152a04aca3fbcf760cf2145b251d87a2545a9/eventregistry-8.1.0.tar.gz\n",
      "Requirement already satisfied: requests in /Users/adamdelreal/anaconda3/envs/tensorflow/lib/python3.6/site-packages (from eventregistry) (2.18.4)\n",
      "Requirement already satisfied: six in /Users/adamdelreal/anaconda3/envs/tensorflow/lib/python3.6/site-packages (from eventregistry) (1.11.0)\n",
      "Requirement already satisfied: pytz in /Users/adamdelreal/anaconda3/envs/tensorflow/lib/python3.6/site-packages (from eventregistry) (2018.4)\n",
      "Requirement already satisfied: urllib3<1.23,>=1.21.1 in /Users/adamdelreal/anaconda3/envs/tensorflow/lib/python3.6/site-packages (from requests->eventregistry) (1.22)\n",
      "Requirement already satisfied: idna<2.7,>=2.5 in /Users/adamdelreal/anaconda3/envs/tensorflow/lib/python3.6/site-packages (from requests->eventregistry) (2.6)\n",
      "Requirement already satisfied: chardet<3.1.0,>=3.0.2 in /Users/adamdelreal/anaconda3/envs/tensorflow/lib/python3.6/site-packages (from requests->eventregistry) (3.0.4)\n",
      "Requirement already satisfied: certifi>=2017.4.17 in /Users/adamdelreal/anaconda3/envs/tensorflow/lib/python3.6/site-packages (from requests->eventregistry) (2018.4.16)\n",
      "Building wheels for collected packages: eventregistry\n",
      "  Running setup.py bdist_wheel for eventregistry ... \u001b[?25ldone\n",
      "\u001b[?25h  Stored in directory: /Users/adamdelreal/Library/Caches/pip/wheels/ec/a0/42/2ab4733aeb77c26ea432dfdc686f533d9011738a7f9ac8a90b\n",
      "Successfully built eventregistry\n",
      "\u001b[31mtensorboard 1.8.0 has requirement bleach==1.5.0, but you'll have bleach 2.1.3 which is incompatible.\u001b[0m\n",
      "\u001b[31mtensorboard 1.8.0 has requirement html5lib==0.9999999, but you'll have html5lib 1.0.1 which is incompatible.\u001b[0m\n",
      "\u001b[31miexfinance 0.3.3 has requirement pandas==0.21.0, but you'll have pandas 0.18.1 which is incompatible.\u001b[0m\n",
      "\u001b[31miex 0.0.1 has requirement pandas>=0.22.0, but you'll have pandas 0.18.1 which is incompatible.\u001b[0m\n",
      "Installing collected packages: eventregistry\n",
      "Successfully installed eventregistry-8.1.0\n"
     ]
    }
   ],
   "source": [
    "!pip install eventregistry"
   ]
  },
  {
   "cell_type": "code",
   "execution_count": null,
   "metadata": {},
   "outputs": [],
   "source": []
  },
  {
   "cell_type": "code",
   "execution_count": 2,
   "metadata": {},
   "outputs": [
    {
     "name": "stdout",
     "output_type": "stream",
     "text": [
      "Collecting selenium\n",
      "\u001b[?25l  Downloading https://files.pythonhosted.org/packages/57/bc/17164fd471ccdf0df3a992c710c0c3c47743462ff41ab72a02c6ede96e90/selenium-3.12.0-py2.py3-none-any.whl (946kB)\n",
      "\u001b[K    100% |████████████████████████████████| 952kB 4.3MB/s ta 0:00:01\n",
      "\u001b[31mtensorboard 1.8.0 has requirement bleach==1.5.0, but you'll have bleach 2.1.3 which is incompatible.\u001b[0m\n",
      "\u001b[31mtensorboard 1.8.0 has requirement html5lib==0.9999999, but you'll have html5lib 1.0.1 which is incompatible.\u001b[0m\n",
      "\u001b[31miexfinance 0.3.3 has requirement pandas==0.21.0, but you'll have pandas 0.18.1 which is incompatible.\u001b[0m\n",
      "\u001b[31miex 0.0.1 has requirement pandas>=0.22.0, but you'll have pandas 0.18.1 which is incompatible.\u001b[0m\n",
      "\u001b[?25hInstalling collected packages: selenium\n",
      "Successfully installed selenium-3.12.0\n"
     ]
    }
   ],
   "source": [
    "!pip install selenium"
   ]
  },
  {
   "cell_type": "code",
   "execution_count": null,
   "metadata": {},
   "outputs": [],
   "source": []
  }
 ],
 "metadata": {
  "kernelspec": {
   "display_name": "Python 3",
   "language": "python",
   "name": "python3"
  },
  "language_info": {
   "codemirror_mode": {
    "name": "ipython",
    "version": 3
   },
   "file_extension": ".py",
   "mimetype": "text/x-python",
   "name": "python",
   "nbconvert_exporter": "python",
   "pygments_lexer": "ipython3",
   "version": "3.6.5"
  }
 },
 "nbformat": 4,
 "nbformat_minor": 2
}
