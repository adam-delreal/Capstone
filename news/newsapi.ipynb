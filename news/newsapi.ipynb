{
 "cells": [
  {
   "cell_type": "markdown",
   "metadata": {},
   "source": [
    "News api: e88c941242a84530bdd01dcdb192e0a5\n",
    "\n",
    "https://newsapi.org/"
   ]
  },
  {
   "cell_type": "code",
   "execution_count": 1,
   "metadata": {},
   "outputs": [
    {
     "name": "stdout",
     "output_type": "stream",
     "text": [
      "Collecting newsapi\n",
      "  Downloading https://files.pythonhosted.org/packages/56/70/df0dd31067f03703d06f66b6c3f324915bd43bc8a597ee1a7eef27c9e622/newsapi-0.1.1-py2.py3-none-any.whl\n",
      "Requirement already satisfied: requests in /Users/adamdelreal/anaconda3/envs/tensorflow/lib/python3.6/site-packages (from newsapi) (2.18.4)\n",
      "Requirement already satisfied: certifi>=2017.4.17 in /Users/adamdelreal/anaconda3/envs/tensorflow/lib/python3.6/site-packages (from requests->newsapi) (2018.4.16)\n",
      "Requirement already satisfied: urllib3<1.23,>=1.21.1 in /Users/adamdelreal/anaconda3/envs/tensorflow/lib/python3.6/site-packages (from requests->newsapi) (1.22)\n",
      "Requirement already satisfied: idna<2.7,>=2.5 in /Users/adamdelreal/anaconda3/envs/tensorflow/lib/python3.6/site-packages (from requests->newsapi) (2.6)\n",
      "Requirement already satisfied: chardet<3.1.0,>=3.0.2 in /Users/adamdelreal/anaconda3/envs/tensorflow/lib/python3.6/site-packages (from requests->newsapi) (3.0.4)\n",
      "\u001b[31mtensorboard 1.8.0 has requirement bleach==1.5.0, but you'll have bleach 2.1.3 which is incompatible.\u001b[0m\n",
      "\u001b[31mtensorboard 1.8.0 has requirement html5lib==0.9999999, but you'll have html5lib 1.0.1 which is incompatible.\u001b[0m\n",
      "\u001b[31miexfinance 0.3.3 has requirement pandas==0.21.0, but you'll have pandas 0.18.1 which is incompatible.\u001b[0m\n",
      "\u001b[31miex 0.0.1 has requirement pandas>=0.22.0, but you'll have pandas 0.18.1 which is incompatible.\u001b[0m\n",
      "Installing collected packages: newsapi\n",
      "Successfully installed newsapi-0.1.1\n"
     ]
    }
   ],
   "source": [
    "!pip install newsapi"
   ]
  },
  {
   "cell_type": "code",
   "execution_count": 156,
   "metadata": {},
   "outputs": [
    {
     "name": "stdout",
     "output_type": "stream",
     "text": [
      "Collecting newsapi-python\n",
      "  Downloading https://files.pythonhosted.org/packages/7c/44/1bcbf1a73fb9fd17047869f1569f4a0d0650b0bc234ba783e497e8984bf3/newsapi-python-0.2.3.tar.gz\n",
      "Collecting requests==2.17.1 (from newsapi-python)\n",
      "\u001b[?25l  Downloading https://files.pythonhosted.org/packages/50/41/f6fdaf24a80c726a72f76b15869a20734b7a527081129a380ddce99ffae0/requests-2.17.1-py2.py3-none-any.whl (87kB)\n",
      "\u001b[K    100% |████████████████████████████████| 92kB 5.6MB/s ta 0:00:011\n",
      "\u001b[?25hRequirement already satisfied: chardet<3.1.0,>=3.0.2 in /Users/adamdelreal/anaconda3/envs/tensorflow/lib/python3.6/site-packages (from requests==2.17.1->newsapi-python) (3.0.4)\n",
      "Collecting idna<2.6,>=2.5 (from requests==2.17.1->newsapi-python)\n",
      "\u001b[?25l  Downloading https://files.pythonhosted.org/packages/11/7d/9bbbd7bb35f34b0169542487d2a8859e44306bb2e6a4455d491800a5621f/idna-2.5-py2.py3-none-any.whl (55kB)\n",
      "\u001b[K    100% |████████████████████████████████| 61kB 427kB/s ta 0:00:011\n",
      "\u001b[?25hRequirement already satisfied: certifi>=2017.4.17 in /Users/adamdelreal/anaconda3/envs/tensorflow/lib/python3.6/site-packages (from requests==2.17.1->newsapi-python) (2018.4.16)\n",
      "Collecting urllib3<1.22,>=1.21.1 (from requests==2.17.1->newsapi-python)\n",
      "\u001b[?25l  Downloading https://files.pythonhosted.org/packages/24/53/f397db567de0aa0e81b211d81c13c41a779f14893e42189cf5bdb97611b2/urllib3-1.21.1-py2.py3-none-any.whl (131kB)\n",
      "\u001b[K    100% |████████████████████████████████| 133kB 1.2MB/s ta 0:00:01\n",
      "\u001b[?25hBuilding wheels for collected packages: newsapi-python\n",
      "  Running setup.py bdist_wheel for newsapi-python ... \u001b[?25ldone\n",
      "\u001b[?25h  Stored in directory: /Users/adamdelreal/Library/Caches/pip/wheels/a0/58/f4/627d98e817f4c1819fc524ec3b3187534f8078e36c0d4048a1\n",
      "Successfully built newsapi-python\n",
      "\u001b[31mtensorboard 1.8.0 has requirement bleach==1.5.0, but you'll have bleach 2.1.3 which is incompatible.\u001b[0m\n",
      "\u001b[31mtensorboard 1.8.0 has requirement html5lib==0.9999999, but you'll have html5lib 1.0.1 which is incompatible.\u001b[0m\n",
      "\u001b[31miexfinance 0.3.3 has requirement pandas==0.21.0, but you'll have pandas 0.18.1 which is incompatible.\u001b[0m\n",
      "\u001b[31miexfinance 0.3.3 has requirement requests==2.18.4, but you'll have requests 2.17.1 which is incompatible.\u001b[0m\n",
      "\u001b[31miex 0.0.1 has requirement pandas>=0.22.0, but you'll have pandas 0.18.1 which is incompatible.\u001b[0m\n",
      "\u001b[31miex 0.0.1 has requirement requests>=2.18.4, but you'll have requests 2.17.1 which is incompatible.\u001b[0m\n",
      "Installing collected packages: idna, urllib3, requests, newsapi-python\n",
      "  Found existing installation: idna 2.6\n",
      "    Uninstalling idna-2.6:\n",
      "      Successfully uninstalled idna-2.6\n",
      "  Found existing installation: urllib3 1.22\n",
      "    Uninstalling urllib3-1.22:\n",
      "      Successfully uninstalled urllib3-1.22\n",
      "  Found existing installation: requests 2.18.4\n",
      "    Uninstalling requests-2.18.4:\n",
      "      Successfully uninstalled requests-2.18.4\n",
      "Successfully installed idna-2.5 newsapi-python-0.2.3 requests-2.17.1 urllib3-1.21.1\n"
     ]
    }
   ],
   "source": [
    "!pip install newsapi-python"
   ]
  },
  {
   "cell_type": "code",
   "execution_count": 162,
   "metadata": {
    "scrolled": false
   },
   "outputs": [
    {
     "name": "stdout",
     "output_type": "stream",
     "text": [
      "Uninstalling newsapi-python-0.2.3:\n",
      "  Successfully uninstalled newsapi-python-0.2.3\n"
     ]
    }
   ],
   "source": [
    "! pip uninstall newsapi-python -y"
   ]
  },
  {
   "cell_type": "code",
   "execution_count": 166,
   "metadata": {},
   "outputs": [
    {
     "name": "stdout",
     "output_type": "stream",
     "text": [
      "Solving environment: / ^C\n",
      "failed\n",
      "\n",
      "CondaError: KeyboardInterrupt\n",
      "\n"
     ]
    }
   ],
   "source": [
    "! conda update --all -y"
   ]
  },
  {
   "cell_type": "code",
   "execution_count": 141,
   "metadata": {},
   "outputs": [],
   "source": [
    "import newsapi\n",
    "import requests\n",
    "import pandas as pd\n",
    "import numpy as np\n",
    "from newsapi.articles import Articles\n",
    "from newsapi.sources import Sources"
   ]
  },
  {
   "cell_type": "code",
   "execution_count": 167,
   "metadata": {},
   "outputs": [],
   "source": [
    "news = Articles(API_KEY='e88c941242a84530bdd01dcdb192e0a5')"
   ]
  },
  {
   "cell_type": "code",
   "execution_count": 168,
   "metadata": {},
   "outputs": [],
   "source": [
    "wsj = news.get_by_popular(source='the-wall-street-journal')"
   ]
  },
  {
   "cell_type": "code",
   "execution_count": 169,
   "metadata": {},
   "outputs": [
    {
     "data": {
      "text/plain": [
       "dict_keys(['status', 'source', 'sortBy', 'articles'])"
      ]
     },
     "execution_count": 169,
     "metadata": {},
     "output_type": "execute_result"
    }
   ],
   "source": [
    "wsj.keys()"
   ]
  },
  {
   "cell_type": "code",
   "execution_count": 17,
   "metadata": {},
   "outputs": [
    {
     "data": {
      "text/plain": [
       "[{'author': 'Shen Hong',\n",
       "  'title': 'Markets Begin to Take Threat of Trade War Seriously',\n",
       "  'description': 'Chinese stocks logged their steepest declines since trade tensions between the U.S. and China began, a turning point in the reaction to an escalating trade war. Dow futures pointed to a more than 300-point decline.',\n",
       "  'url': 'https://www.wsj.com/articles/markets-begin-to-take-threat-of-trade-war-seriously-1529411543?mod=hp_lead_pos1',\n",
       "  'urlToImage': 'https://images.wsj.net/im-14829/social',\n",
       "  'publishedAt': '2018-06-19T12:32:00Z'},\n",
       " {'author': 'Lingling Wei',\n",
       "  'title': 'Trade Fight With U.S. Complicates China’s Campaign to Contain Debt',\n",
       "  'description': 'A bruising trade fight with the U.S. lands at a difficult time for China as its economy contends with rising headwinds, constraining Chinese President Xi Jinping’s options.',\n",
       "  'url': 'https://www.wsj.com/articles/trade-fight-with-u-s-complicates-chinas-campaign-to-contain-debt-1529420230?mod=hp_lead_pos2',\n",
       "  'urlToImage': 'https://images.wsj.net/im-14835/social',\n",
       "  'publishedAt': '2018-06-19T14:57:00Z'},\n",
       " {'author': 'Jessica Donati',\n",
       "  'title': 'U.S. Poised to Withdraw From U.N. Human Rights Council',\n",
       "  'description': 'The U.S. is expected to announce its withdrawal from the United Nations Human Rights Council and deliver on a long-running threat to leave the organization unless it adopted major reforms.',\n",
       "  'url': 'https://www.wsj.com/articles/u-s-poised-to-withdraw-from-u-n-human-rights-council-1529430908?mod=hp_lead_pos3',\n",
       "  'urlToImage': 'https://images.wsj.net/im-14869/social',\n",
       "  'publishedAt': '2018-06-19T17:55:00Z'},\n",
       " {'author': 'Vivian Salama',\n",
       "  'title': 'Trump Calls for Power to Detain Families Together',\n",
       "  'description': 'President Trump called on Congress to give him the power to detain and remove families as a unit, which he said was the “only solution to the border crisis” and separation issue that has rocked immigration talks and his administration.',\n",
       "  'url': 'https://www.wsj.com/articles/trump-fires-back-at-critics-of-family-separation-ahead-of-gop-meeting-1529424607?mod=hp_lead_pos4',\n",
       "  'urlToImage': 'https://images.wsj.net/im-14842/social',\n",
       "  'publishedAt': '2018-06-19T16:10:00Z'},\n",
       " {'author': 'Margherita Stancati',\n",
       "  'title': 'Saudi Arabia’s Economic Revamp Means More Jobs for Saudis—If Only They Wanted Them',\n",
       "  'description': 'Local companies that used to rely on expats are struggling to fill the government’s new quotas with qualified employees, given the large number of jobs Saudis refuse to do. Among the creative solutions: Saudi workers who are paid to stay home.',\n",
       "  'url': 'https://www.wsj.com/articles/saudi-arabias-economic-revamp-means-more-jobs-for-saudisif-only-they-wanted-them-1529420902?mod=hp_lead_pos5',\n",
       "  'urlToImage': 'https://si.wsj.net/public/resources/images/B3-AV719_SAUDIG_TOP_20180618150634.jpg',\n",
       "  'publishedAt': '2018-06-19T15:08:00Z'},\n",
       " {'author': 'Gretchen Morgenson',\n",
       "  'title': 'McKinsey Investments Weren’t Disclosed in Bankruptcy Cases',\n",
       "  'description': 'Its retirement fund invested in hedge funds with financial interests in six bankrupt companies the consulting firm was advising.',\n",
       "  'url': 'https://www.wsj.com/articles/mckinsey-investments-werent-disclosed-in-bankruptcy-cases-1529423138?mod=hp_lead_pos6',\n",
       "  'urlToImage': 'https://images.wsj.net/im-10072/social',\n",
       "  'publishedAt': '2018-06-19T15:45:00Z'},\n",
       " {'author': 'Jonathan Cheng',\n",
       "  'title': 'Capitalism for Dictators 101: North Koreans Study Business Basics',\n",
       "  'description': 'Kim Jong Un’s visit to Singapore gave the dictator a glimpse of a model for a more economically open North Korea, and a nonprofit has brought other North Korean elites to the city-state and trained some 2,000 in entrepreneurship and business skills in Pyongyang.',\n",
       "  'url': 'https://www.wsj.com/articles/capitalism-for-dictators-101-north-koreans-study-business-basics-1529400603?mod=hp_lead_pos7',\n",
       "  'urlToImage': 'https://si.wsj.net/public/resources/images/B3-AV740_0618nk_SOC_20180618154035.jpg',\n",
       "  'publishedAt': '2018-06-19T09:30:00Z'},\n",
       " {'author': 'Andrew Beaton',\n",
       "  'title': 'The Russian Soccer Team’s Biggest Trolls: Russians',\n",
       "  'description': 'Russia’s passion and emotions toward its own soccer team are usually expressed as unbridled pessimism.',\n",
       "  'url': 'https://www.wsj.com/articles/the-russian-soccer-teams-biggest-trolls-russians-1529420364?mod=hp_lead_pos8',\n",
       "  'urlToImage': 'https://images.wsj.net/im-14758/social',\n",
       "  'publishedAt': '2018-06-19T14:59:00Z'},\n",
       " {'author': 'Sarah Kent',\n",
       "  'title': 'Oil Industry Tries to Take the Fracking Boom Global',\n",
       "  'description': 'A BP project in Oman shows how oil companies are taking fracking techniques perfected in Texas to the global stage, where they had long struggled.',\n",
       "  'url': 'https://www.wsj.com/articles/taking-the-fracking-boom-global-1529409963?mod=hp_lead_pos9',\n",
       "  'urlToImage': 'https://images.wsj.net/im-14731/social',\n",
       "  'publishedAt': '2018-06-19T12:06:00Z'},\n",
       " {'author': 'Esther Fung',\n",
       "  'title': 'Florida Officials Approve Plan to Build Largest U.S. Mall',\n",
       "  'description': 'At a time when store closures are accelerating and struggling malls pockmark the country, county commissioners in Florida have approved a plan to build what would be the largest mall in the U.S.',\n",
       "  'url': 'https://www.wsj.com/articles/florida-officials-approve-plan-to-build-largest-u-s-mall-1529406001?mod=hp_lead_pos10',\n",
       "  'urlToImage': 'https://images.wsj.net/im-14742/social',\n",
       "  'publishedAt': '2018-06-19T11:00:00Z'}]"
      ]
     },
     "execution_count": 17,
     "metadata": {},
     "output_type": "execute_result"
    }
   ],
   "source": [
    "wsj['articles']"
   ]
  },
  {
   "cell_type": "code",
   "execution_count": 27,
   "metadata": {},
   "outputs": [],
   "source": [
    "# news.get(source='the-wall-street-journal', sort_by= )"
   ]
  },
  {
   "cell_type": "code",
   "execution_count": null,
   "metadata": {},
   "outputs": [],
   "source": []
  },
  {
   "cell_type": "code",
   "execution_count": null,
   "metadata": {},
   "outputs": [],
   "source": []
  },
  {
   "cell_type": "code",
   "execution_count": null,
   "metadata": {},
   "outputs": [],
   "source": []
  },
  {
   "cell_type": "code",
   "execution_count": null,
   "metadata": {},
   "outputs": [],
   "source": []
  },
  {
   "cell_type": "code",
   "execution_count": 22,
   "metadata": {},
   "outputs": [],
   "source": [
    "sources = Sources('e88c941242a84530bdd01dcdb192e0a5')"
   ]
  },
  {
   "cell_type": "code",
   "execution_count": 23,
   "metadata": {},
   "outputs": [
    {
     "data": {
      "text/plain": [
       "{'status': 'ok', 'sources': []}"
      ]
     },
     "execution_count": 23,
     "metadata": {},
     "output_type": "execute_result"
    }
   ],
   "source": [
    "sources.get_by_category('finance')"
   ]
  },
  {
   "cell_type": "code",
   "execution_count": 26,
   "metadata": {},
   "outputs": [
    {
     "data": {
      "text/plain": [
       "{'status': 'ok', 'sources': []}"
      ]
     },
     "execution_count": 26,
     "metadata": {},
     "output_type": "execute_result"
    }
   ],
   "source": [
    "sources.get(category='finance',\n",
    "            language='eng',\n",
    "            country='US',\n",
    "            attributes_format=True)\n"
   ]
  },
  {
   "cell_type": "code",
   "execution_count": null,
   "metadata": {},
   "outputs": [],
   "source": []
  },
  {
   "cell_type": "code",
   "execution_count": null,
   "metadata": {},
   "outputs": [],
   "source": []
  },
  {
   "cell_type": "code",
   "execution_count": null,
   "metadata": {},
   "outputs": [],
   "source": []
  },
  {
   "cell_type": "code",
   "execution_count": null,
   "metadata": {},
   "outputs": [],
   "source": []
  },
  {
   "cell_type": "code",
   "execution_count": null,
   "metadata": {},
   "outputs": [],
   "source": []
  },
  {
   "cell_type": "code",
   "execution_count": null,
   "metadata": {},
   "outputs": [],
   "source": []
  },
  {
   "cell_type": "code",
   "execution_count": 44,
   "metadata": {},
   "outputs": [
    {
     "name": "stdout",
     "output_type": "stream",
     "text": [
      "<bound method Response.json of <Response [200]>>\n"
     ]
    }
   ],
   "source": [
    "url = ('https://newsapi.org/v2/everything?'\n",
    "       'q=Apple&'\n",
    "       'from=2018-06-19&'\n",
    "       'sortBy=popularity&'\n",
    "       'apiKey=e88c941242a84530bdd01dcdb192e0a5')\n",
    "\n",
    "response = requests.get(url)\n",
    "\n",
    "print(response.json)"
   ]
  },
  {
   "cell_type": "code",
   "execution_count": 75,
   "metadata": {},
   "outputs": [
    {
     "data": {
      "text/html": [
       "<div>\n",
       "<table border=\"1\" class=\"dataframe\">\n",
       "  <thead>\n",
       "    <tr style=\"text-align: right;\">\n",
       "      <th></th>\n",
       "      <th>articles</th>\n",
       "      <th>status</th>\n",
       "      <th>totalResults</th>\n",
       "    </tr>\n",
       "  </thead>\n",
       "  <tbody>\n",
       "    <tr>\n",
       "      <th>0</th>\n",
       "      <td>{'source': {'id': None, 'name': 'Lifehacker.co...</td>\n",
       "      <td>ok</td>\n",
       "      <td>2802</td>\n",
       "    </tr>\n",
       "    <tr>\n",
       "      <th>1</th>\n",
       "      <td>{'source': {'id': 'techcrunch', 'name': 'TechC...</td>\n",
       "      <td>ok</td>\n",
       "      <td>2802</td>\n",
       "    </tr>\n",
       "    <tr>\n",
       "      <th>2</th>\n",
       "      <td>{'source': {'id': 'techcrunch', 'name': 'TechC...</td>\n",
       "      <td>ok</td>\n",
       "      <td>2802</td>\n",
       "    </tr>\n",
       "    <tr>\n",
       "      <th>3</th>\n",
       "      <td>{'source': {'id': None, 'name': 'Gizmodo.com'}...</td>\n",
       "      <td>ok</td>\n",
       "      <td>2802</td>\n",
       "    </tr>\n",
       "    <tr>\n",
       "      <th>4</th>\n",
       "      <td>{'source': {'id': None, 'name': 'Gizmodo.com'}...</td>\n",
       "      <td>ok</td>\n",
       "      <td>2802</td>\n",
       "    </tr>\n",
       "  </tbody>\n",
       "</table>\n",
       "</div>"
      ],
      "text/plain": [
       "                                            articles status  totalResults\n",
       "0  {'source': {'id': None, 'name': 'Lifehacker.co...     ok          2802\n",
       "1  {'source': {'id': 'techcrunch', 'name': 'TechC...     ok          2802\n",
       "2  {'source': {'id': 'techcrunch', 'name': 'TechC...     ok          2802\n",
       "3  {'source': {'id': None, 'name': 'Gizmodo.com'}...     ok          2802\n",
       "4  {'source': {'id': None, 'name': 'Gizmodo.com'}...     ok          2802"
      ]
     },
     "execution_count": 75,
     "metadata": {},
     "output_type": "execute_result"
    }
   ],
   "source": [
    "data = requests.get(url).json()\n",
    "pd.DataFrame.from_dict(data).head()"
   ]
  },
  {
   "cell_type": "code",
   "execution_count": 56,
   "metadata": {},
   "outputs": [
    {
     "data": {
      "text/plain": [
       "dict_keys(['status', 'totalResults', 'articles'])"
      ]
     },
     "execution_count": 56,
     "metadata": {},
     "output_type": "execute_result"
    }
   ],
   "source": [
    "data.keys()"
   ]
  },
  {
   "cell_type": "code",
   "execution_count": null,
   "metadata": {},
   "outputs": [],
   "source": []
  },
  {
   "cell_type": "code",
   "execution_count": 64,
   "metadata": {},
   "outputs": [],
   "source": [
    "import json\n",
    "\n",
    "data_j = json.dumps(data)"
   ]
  },
  {
   "cell_type": "code",
   "execution_count": 73,
   "metadata": {},
   "outputs": [
    {
     "data": {
      "text/html": [
       "<div>\n",
       "<table border=\"1\" class=\"dataframe\">\n",
       "  <thead>\n",
       "    <tr style=\"text-align: right;\">\n",
       "      <th></th>\n",
       "      <th>articles</th>\n",
       "      <th>status</th>\n",
       "      <th>totalResults</th>\n",
       "    </tr>\n",
       "  </thead>\n",
       "  <tbody>\n",
       "    <tr>\n",
       "      <th>0</th>\n",
       "      <td>{'source': {'id': None, 'name': 'Lifehacker.co...</td>\n",
       "      <td>ok</td>\n",
       "      <td>2763</td>\n",
       "    </tr>\n",
       "    <tr>\n",
       "      <th>1</th>\n",
       "      <td>{'source': {'id': 'techcrunch', 'name': 'TechC...</td>\n",
       "      <td>ok</td>\n",
       "      <td>2763</td>\n",
       "    </tr>\n",
       "    <tr>\n",
       "      <th>2</th>\n",
       "      <td>{'source': {'id': 'techcrunch', 'name': 'TechC...</td>\n",
       "      <td>ok</td>\n",
       "      <td>2763</td>\n",
       "    </tr>\n",
       "    <tr>\n",
       "      <th>3</th>\n",
       "      <td>{'source': {'id': None, 'name': 'Gizmodo.com'}...</td>\n",
       "      <td>ok</td>\n",
       "      <td>2763</td>\n",
       "    </tr>\n",
       "    <tr>\n",
       "      <th>4</th>\n",
       "      <td>{'source': {'id': None, 'name': 'Gizmodo.com'}...</td>\n",
       "      <td>ok</td>\n",
       "      <td>2763</td>\n",
       "    </tr>\n",
       "  </tbody>\n",
       "</table>\n",
       "</div>"
      ],
      "text/plain": [
       "                                            articles status  totalResults\n",
       "0  {'source': {'id': None, 'name': 'Lifehacker.co...     ok          2763\n",
       "1  {'source': {'id': 'techcrunch', 'name': 'TechC...     ok          2763\n",
       "2  {'source': {'id': 'techcrunch', 'name': 'TechC...     ok          2763\n",
       "3  {'source': {'id': None, 'name': 'Gizmodo.com'}...     ok          2763\n",
       "4  {'source': {'id': None, 'name': 'Gizmodo.com'}...     ok          2763"
      ]
     },
     "execution_count": 73,
     "metadata": {},
     "output_type": "execute_result"
    }
   ],
   "source": [
    "df = pd.read_json(data_j)\n",
    "df.head()"
   ]
  },
  {
   "cell_type": "code",
   "execution_count": 83,
   "metadata": {},
   "outputs": [],
   "source": [
    "df = pd.read_json((df['articles']).to_json(), orient='index')"
   ]
  },
  {
   "cell_type": "code",
   "execution_count": 93,
   "metadata": {},
   "outputs": [
    {
     "data": {
      "text/html": [
       "<div>\n",
       "<table border=\"1\" class=\"dataframe\">\n",
       "  <thead>\n",
       "    <tr style=\"text-align: right;\">\n",
       "      <th></th>\n",
       "      <th>author</th>\n",
       "      <th>description</th>\n",
       "      <th>publishedAt</th>\n",
       "      <th>source</th>\n",
       "      <th>title</th>\n",
       "      <th>url</th>\n",
       "      <th>urlToImage</th>\n",
       "    </tr>\n",
       "  </thead>\n",
       "  <tbody>\n",
       "    <tr>\n",
       "      <th>0</th>\n",
       "      <td>Xavier Harding</td>\n",
       "      <td>Apple unveiled some killer new features in its...</td>\n",
       "      <td>2018-06-19T16:30:00Z</td>\n",
       "      <td>{'id': None, 'name': 'Lifehacker.com'}</td>\n",
       "      <td>Alternatives to the Best New iOS 12 Features T...</td>\n",
       "      <td>https://lifehacker.com/alternatives-to-the-bes...</td>\n",
       "      <td>https://i.kinja-img.com/gawker-media/image/upl...</td>\n",
       "    </tr>\n",
       "    <tr>\n",
       "      <th>1</th>\n",
       "      <td>Brian Heater</td>\n",
       "      <td>Apple has essentially owned podcasts since the...</td>\n",
       "      <td>2018-06-19T14:53:06Z</td>\n",
       "      <td>{'id': 'techcrunch', 'name': 'TechCrunch'}</td>\n",
       "      <td>Google Podcasts app review</td>\n",
       "      <td>http://techcrunch.com/2018/06/19/google-podcas...</td>\n",
       "      <td>https://techcrunch.com/wp-content/uploads/2018...</td>\n",
       "    </tr>\n",
       "  </tbody>\n",
       "</table>\n",
       "</div>"
      ],
      "text/plain": [
       "           author                                        description  \\\n",
       "0  Xavier Harding  Apple unveiled some killer new features in its...   \n",
       "1    Brian Heater  Apple has essentially owned podcasts since the...   \n",
       "\n",
       "            publishedAt                                      source  \\\n",
       "0  2018-06-19T16:30:00Z      {'id': None, 'name': 'Lifehacker.com'}   \n",
       "1  2018-06-19T14:53:06Z  {'id': 'techcrunch', 'name': 'TechCrunch'}   \n",
       "\n",
       "                                               title  \\\n",
       "0  Alternatives to the Best New iOS 12 Features T...   \n",
       "1                         Google Podcasts app review   \n",
       "\n",
       "                                                 url  \\\n",
       "0  https://lifehacker.com/alternatives-to-the-bes...   \n",
       "1  http://techcrunch.com/2018/06/19/google-podcas...   \n",
       "\n",
       "                                          urlToImage  \n",
       "0  https://i.kinja-img.com/gawker-media/image/upl...  \n",
       "1  https://techcrunch.com/wp-content/uploads/2018...  "
      ]
     },
     "execution_count": 93,
     "metadata": {},
     "output_type": "execute_result"
    }
   ],
   "source": [
    "df.head(2)"
   ]
  },
  {
   "cell_type": "code",
   "execution_count": 94,
   "metadata": {},
   "outputs": [],
   "source": [
    "[col for col in df['title']];"
   ]
  },
  {
   "cell_type": "code",
   "execution_count": 95,
   "metadata": {},
   "outputs": [],
   "source": [
    "[col for col in df['description']];"
   ]
  },
  {
   "cell_type": "markdown",
   "metadata": {},
   "source": [
    "--------"
   ]
  },
  {
   "cell_type": "code",
   "execution_count": 147,
   "metadata": {},
   "outputs": [
    {
     "name": "stdout",
     "output_type": "stream",
     "text": [
      "<bound method Response.json of <Response [200]>>\n"
     ]
    }
   ],
   "source": [
    "url = ('https://newsapi.org/v2/top-headlines?'\n",
    "       'q=Facebook&'\n",
    "       'from=2018-06-19&'\n",
    "       'sortBy=popularity&'\n",
    "       'pageSize=50&'\n",
    "#        'country=us'\n",
    "       'apiKey=e88c941242a84530bdd01dcdb192e0a5')\n",
    "\n",
    "response = requests.get(url)\n",
    "\n",
    "print(response.json)"
   ]
  },
  {
   "cell_type": "code",
   "execution_count": 148,
   "metadata": {},
   "outputs": [
    {
     "data": {
      "text/html": [
       "<div>\n",
       "<table border=\"1\" class=\"dataframe\">\n",
       "  <thead>\n",
       "    <tr style=\"text-align: right;\">\n",
       "      <th></th>\n",
       "      <th>articles</th>\n",
       "      <th>status</th>\n",
       "      <th>totalResults</th>\n",
       "    </tr>\n",
       "  </thead>\n",
       "  <tbody>\n",
       "    <tr>\n",
       "      <th>0</th>\n",
       "      <td>{'source': {'id': 'mashable', 'name': 'Mashabl...</td>\n",
       "      <td>ok</td>\n",
       "      <td>13</td>\n",
       "    </tr>\n",
       "    <tr>\n",
       "      <th>1</th>\n",
       "      <td>{'source': {'id': 'business-insider-uk', 'name...</td>\n",
       "      <td>ok</td>\n",
       "      <td>13</td>\n",
       "    </tr>\n",
       "    <tr>\n",
       "      <th>2</th>\n",
       "      <td>{'source': {'id': 'google-news-it', 'name': 'G...</td>\n",
       "      <td>ok</td>\n",
       "      <td>13</td>\n",
       "    </tr>\n",
       "    <tr>\n",
       "      <th>3</th>\n",
       "      <td>{'source': {'id': 'the-new-york-times', 'name'...</td>\n",
       "      <td>ok</td>\n",
       "      <td>13</td>\n",
       "    </tr>\n",
       "    <tr>\n",
       "      <th>4</th>\n",
       "      <td>{'source': {'id': 'business-insider-uk', 'name...</td>\n",
       "      <td>ok</td>\n",
       "      <td>13</td>\n",
       "    </tr>\n",
       "  </tbody>\n",
       "</table>\n",
       "</div>"
      ],
      "text/plain": [
       "                                            articles status  totalResults\n",
       "0  {'source': {'id': 'mashable', 'name': 'Mashabl...     ok            13\n",
       "1  {'source': {'id': 'business-insider-uk', 'name...     ok            13\n",
       "2  {'source': {'id': 'google-news-it', 'name': 'G...     ok            13\n",
       "3  {'source': {'id': 'the-new-york-times', 'name'...     ok            13\n",
       "4  {'source': {'id': 'business-insider-uk', 'name...     ok            13"
      ]
     },
     "execution_count": 148,
     "metadata": {},
     "output_type": "execute_result"
    }
   ],
   "source": [
    "data = requests.get(url).json()\n",
    "pd.DataFrame.from_dict(data).head()"
   ]
  },
  {
   "cell_type": "code",
   "execution_count": 149,
   "metadata": {},
   "outputs": [],
   "source": [
    "data_json = json.dumps(data)"
   ]
  },
  {
   "cell_type": "code",
   "execution_count": 150,
   "metadata": {},
   "outputs": [
    {
     "data": {
      "text/html": [
       "<div>\n",
       "<table border=\"1\" class=\"dataframe\">\n",
       "  <thead>\n",
       "    <tr style=\"text-align: right;\">\n",
       "      <th></th>\n",
       "      <th>articles</th>\n",
       "      <th>status</th>\n",
       "      <th>totalResults</th>\n",
       "    </tr>\n",
       "  </thead>\n",
       "  <tbody>\n",
       "    <tr>\n",
       "      <th>0</th>\n",
       "      <td>{'source': {'id': 'mashable', 'name': 'Mashabl...</td>\n",
       "      <td>ok</td>\n",
       "      <td>13</td>\n",
       "    </tr>\n",
       "    <tr>\n",
       "      <th>1</th>\n",
       "      <td>{'source': {'id': 'business-insider-uk', 'name...</td>\n",
       "      <td>ok</td>\n",
       "      <td>13</td>\n",
       "    </tr>\n",
       "    <tr>\n",
       "      <th>2</th>\n",
       "      <td>{'source': {'id': 'google-news-it', 'name': 'G...</td>\n",
       "      <td>ok</td>\n",
       "      <td>13</td>\n",
       "    </tr>\n",
       "    <tr>\n",
       "      <th>3</th>\n",
       "      <td>{'source': {'id': 'the-new-york-times', 'name'...</td>\n",
       "      <td>ok</td>\n",
       "      <td>13</td>\n",
       "    </tr>\n",
       "    <tr>\n",
       "      <th>4</th>\n",
       "      <td>{'source': {'id': 'business-insider-uk', 'name...</td>\n",
       "      <td>ok</td>\n",
       "      <td>13</td>\n",
       "    </tr>\n",
       "  </tbody>\n",
       "</table>\n",
       "</div>"
      ],
      "text/plain": [
       "                                            articles status  totalResults\n",
       "0  {'source': {'id': 'mashable', 'name': 'Mashabl...     ok            13\n",
       "1  {'source': {'id': 'business-insider-uk', 'name...     ok            13\n",
       "2  {'source': {'id': 'google-news-it', 'name': 'G...     ok            13\n",
       "3  {'source': {'id': 'the-new-york-times', 'name'...     ok            13\n",
       "4  {'source': {'id': 'business-insider-uk', 'name...     ok            13"
      ]
     },
     "execution_count": 150,
     "metadata": {},
     "output_type": "execute_result"
    }
   ],
   "source": [
    "df2 = pd.read_json(data_json)\n",
    "df2.head()"
   ]
  },
  {
   "cell_type": "code",
   "execution_count": 151,
   "metadata": {},
   "outputs": [],
   "source": [
    "fb_df = pd.read_json((df2['articles']).to_json(), orient='index')"
   ]
  },
  {
   "cell_type": "code",
   "execution_count": 155,
   "metadata": {
    "scrolled": true
   },
   "outputs": [
    {
     "data": {
      "text/html": [
       "<div>\n",
       "<table border=\"1\" class=\"dataframe\">\n",
       "  <thead>\n",
       "    <tr style=\"text-align: right;\">\n",
       "      <th></th>\n",
       "      <th>author</th>\n",
       "      <th>description</th>\n",
       "      <th>publishedAt</th>\n",
       "      <th>source</th>\n",
       "      <th>title</th>\n",
       "      <th>url</th>\n",
       "      <th>urlToImage</th>\n",
       "    </tr>\n",
       "  </thead>\n",
       "  <tbody>\n",
       "    <tr>\n",
       "      <th>0</th>\n",
       "      <td>Karissa Bell</td>\n",
       "      <td>Oh goody.</td>\n",
       "      <td>2018-06-19T22:11:22Z</td>\n",
       "      <td>{'id': 'mashable', 'name': 'Mashable'}</td>\n",
       "      <td>Autoplaying video ads will soon invade your Fa...</td>\n",
       "      <td>http://mashable.com/2018/06/19/facebook-messen...</td>\n",
       "      <td>https://i.amz.mshcdn.com/3sKeVdQq1C9uHE1y84QHG...</td>\n",
       "    </tr>\n",
       "    <tr>\n",
       "      <th>1</th>\n",
       "      <td>Rob Price</td>\n",
       "      <td>On Tuesday, Facebook announced new features...</td>\n",
       "      <td>2018-06-19T19:54:40Z</td>\n",
       "      <td>{'id': 'business-insider-uk', 'name': 'Busines...</td>\n",
       "      <td>Game shows are coming to Facebook Live as the ...</td>\n",
       "      <td>http://uk.businessinsider.com/facebook-live-ga...</td>\n",
       "      <td>http://static3.uk.businessinsider.com/image/5b...</td>\n",
       "    </tr>\n",
       "    <tr>\n",
       "      <th>10</th>\n",
       "      <td>Eric Johnson</td>\n",
       "      <td>Dan Pfeiffer, the former White House communica...</td>\n",
       "      <td>2018-06-19T10:15:01Z</td>\n",
       "      <td>{'id': 'recode', 'name': 'Recode'}</td>\n",
       "      <td>Pod Save America’s Dan Pfeiffer has some advic...</td>\n",
       "      <td>https://www.recode.net/2018/6/19/17476898/pod-...</td>\n",
       "      <td>https://cdn.vox-cdn.com/thumbor/8XpsmL_03R-I51...</td>\n",
       "    </tr>\n",
       "    <tr>\n",
       "      <th>11</th>\n",
       "      <td>Tony Romm</td>\n",
       "      <td>Christopher Wylie warned that unchecked data c...</td>\n",
       "      <td>2018-06-19T10:07:00Z</td>\n",
       "      <td>{'id': 'the-washington-post', 'name': 'The Was...</td>\n",
       "      <td>Cambridge Analytica whistleblower Christopher ...</td>\n",
       "      <td>https://www.washingtonpost.com/news/the-switch...</td>\n",
       "      <td>https://www.washingtonpost.com/resizer/SQb-YIZ...</td>\n",
       "    </tr>\n",
       "    <tr>\n",
       "      <th>12</th>\n",
       "      <td>Imgur</td>\n",
       "      <td>expanding sauce: https://www.facebook.com/dami...</td>\n",
       "      <td>2018-06-19T00:00:00Z</td>\n",
       "      <td>{'id': 'reddit-r-all', 'name': 'Reddit /r/all'}</td>\n",
       "      <td>FrolloWitchcraft.gif</td>\n",
       "      <td>https://i.imgur.com/IE2uXow.gifv</td>\n",
       "      <td>https://i.imgur.com/IE2uXowh.jpg</td>\n",
       "    </tr>\n",
       "    <tr>\n",
       "      <th>2</th>\n",
       "      <td>Valentina Gambino</td>\n",
       "      <td>Eleonora Brigliadori contro Nadia Toffa, esclu...</td>\n",
       "      <td>2018-06-19T19:30:25+00:00</td>\n",
       "      <td>{'id': 'google-news-it', 'name': 'Google News ...</td>\n",
       "      <td>ELEONORA BRIGLIADORI CONTRO NADIA TOFFA, ESCLU...</td>\n",
       "      <td>http://www.ilsussidiario.net/News/Cinema-Telev...</td>\n",
       "      <td>http://www.ilsussidiario.net/img/_THUMBWEB/nad...</td>\n",
       "    </tr>\n",
       "    <tr>\n",
       "      <th>3</th>\n",
       "      <td>None</td>\n",
       "      <td>It may not have been the most opportune time f...</td>\n",
       "      <td>2018-06-19T18:51:34.819Z</td>\n",
       "      <td>{'id': 'the-new-york-times', 'name': 'The New ...</td>\n",
       "      <td>Amid Border Controversy, State Department Draw...</td>\n",
       "      <td>https://www.nytimes.com/2018/06/19/world/ameri...</td>\n",
       "      <td>https://static01.nyt.com/images/2018/06/20/wor...</td>\n",
       "    </tr>\n",
       "    <tr>\n",
       "      <th>4</th>\n",
       "      <td>Rob Price</td>\n",
       "      <td>Facebook CEO Mark Zuckerberg is asking Faceboo...</td>\n",
       "      <td>2018-06-19T18:23:17Z</td>\n",
       "      <td>{'id': 'business-insider-uk', 'name': 'Busines...</td>\n",
       "      <td>Mark Zuckerberg asks Facebook users to donate ...</td>\n",
       "      <td>http://uk.businessinsider.com/mark-zuckerberg-...</td>\n",
       "      <td>http://static3.uk.businessinsider.com/image/5b...</td>\n",
       "    </tr>\n",
       "    <tr>\n",
       "      <th>5</th>\n",
       "      <td>ANSA.it</td>\n",
       "      <td>\"Ho ascoltato il carabiniere Casamassima su Fa...</td>\n",
       "      <td>2018-06-19T17:52:00Z</td>\n",
       "      <td>{'id': 'ansa', 'name': 'ANSA.it'}</td>\n",
       "      <td>Cucchi: Trenta, parlerò con Casamassima - Ulti...</td>\n",
       "      <td>http://www.ansa.it/sito/notizie/topnews/2018/0...</td>\n",
       "      <td>http://www.ansa.it/webimages/img_700/2018/6/1/...</td>\n",
       "    </tr>\n",
       "    <tr>\n",
       "      <th>6</th>\n",
       "      <td>Rachel Kaser</td>\n",
       "      <td>Facebook today announced it's rolling out seve...</td>\n",
       "      <td>2018-06-19T17:30:19Z</td>\n",
       "      <td>{'id': 'the-next-web', 'name': 'The Next Web'}</td>\n",
       "      <td>Facebook updates Video with trivia and polling</td>\n",
       "      <td>https://thenextweb.com/facebook/2018/06/19/fac...</td>\n",
       "      <td>https://cdn0.tnwcdn.com/wp-content/blogs.dir/1...</td>\n",
       "    </tr>\n",
       "    <tr>\n",
       "      <th>7</th>\n",
       "      <td>Alex Thompson</td>\n",
       "      <td>Stewart won the Republican nomination for U.S....</td>\n",
       "      <td>2018-06-19T17:23:12.3786713+00:00</td>\n",
       "      <td>{'id': 'vice-news', 'name': 'Vice News'}</td>\n",
       "      <td>Pro-Trump Republican Corey Stewart benefited f...</td>\n",
       "      <td>https://news.vice.com/en_us/article/qvn5dp/pro...</td>\n",
       "      <td>https://video-images.vice.com/articles/5b2931f...</td>\n",
       "    </tr>\n",
       "    <tr>\n",
       "      <th>8</th>\n",
       "      <td>facebookresearch</td>\n",
       "      <td>DensePose - A real-time approach for mapping a...</td>\n",
       "      <td>2018-06-19T14:45:08.6965105Z</td>\n",
       "      <td>{'id': 'hacker-news', 'name': 'Hacker News'}</td>\n",
       "      <td>facebookresearch/DensePose</td>\n",
       "      <td>https://github.com/facebookresearch/DensePose</td>\n",
       "      <td>https://avatars1.githubusercontent.com/u/16943...</td>\n",
       "    </tr>\n",
       "    <tr>\n",
       "      <th>9</th>\n",
       "      <td>Kurt Wagner</td>\n",
       "      <td>The big question: Do users want to see video a...</td>\n",
       "      <td>2018-06-19T12:02:14Z</td>\n",
       "      <td>{'id': 'recode', 'name': 'Recode'}</td>\n",
       "      <td>Facebook is putting autoplay video ads inside ...</td>\n",
       "      <td>https://www.recode.net/2018/6/19/17478116/face...</td>\n",
       "      <td>https://cdn.vox-cdn.com/thumbor/itPTGRLt1LW1Vf...</td>\n",
       "    </tr>\n",
       "  </tbody>\n",
       "</table>\n",
       "</div>"
      ],
      "text/plain": [
       "               author                                        description  \\\n",
       "0        Karissa Bell                                          Oh goody.   \n",
       "1           Rob Price     On Tuesday, Facebook announced new features...   \n",
       "10       Eric Johnson  Dan Pfeiffer, the former White House communica...   \n",
       "11          Tony Romm  Christopher Wylie warned that unchecked data c...   \n",
       "12              Imgur  expanding sauce: https://www.facebook.com/dami...   \n",
       "2   Valentina Gambino  Eleonora Brigliadori contro Nadia Toffa, esclu...   \n",
       "3                None  It may not have been the most opportune time f...   \n",
       "4           Rob Price  Facebook CEO Mark Zuckerberg is asking Faceboo...   \n",
       "5             ANSA.it  \"Ho ascoltato il carabiniere Casamassima su Fa...   \n",
       "6        Rachel Kaser  Facebook today announced it's rolling out seve...   \n",
       "7       Alex Thompson  Stewart won the Republican nomination for U.S....   \n",
       "8    facebookresearch  DensePose - A real-time approach for mapping a...   \n",
       "9         Kurt Wagner  The big question: Do users want to see video a...   \n",
       "\n",
       "                          publishedAt  \\\n",
       "0                2018-06-19T22:11:22Z   \n",
       "1                2018-06-19T19:54:40Z   \n",
       "10               2018-06-19T10:15:01Z   \n",
       "11               2018-06-19T10:07:00Z   \n",
       "12               2018-06-19T00:00:00Z   \n",
       "2           2018-06-19T19:30:25+00:00   \n",
       "3            2018-06-19T18:51:34.819Z   \n",
       "4                2018-06-19T18:23:17Z   \n",
       "5                2018-06-19T17:52:00Z   \n",
       "6                2018-06-19T17:30:19Z   \n",
       "7   2018-06-19T17:23:12.3786713+00:00   \n",
       "8        2018-06-19T14:45:08.6965105Z   \n",
       "9                2018-06-19T12:02:14Z   \n",
       "\n",
       "                                               source  \\\n",
       "0              {'id': 'mashable', 'name': 'Mashable'}   \n",
       "1   {'id': 'business-insider-uk', 'name': 'Busines...   \n",
       "10                 {'id': 'recode', 'name': 'Recode'}   \n",
       "11  {'id': 'the-washington-post', 'name': 'The Was...   \n",
       "12    {'id': 'reddit-r-all', 'name': 'Reddit /r/all'}   \n",
       "2   {'id': 'google-news-it', 'name': 'Google News ...   \n",
       "3   {'id': 'the-new-york-times', 'name': 'The New ...   \n",
       "4   {'id': 'business-insider-uk', 'name': 'Busines...   \n",
       "5                   {'id': 'ansa', 'name': 'ANSA.it'}   \n",
       "6      {'id': 'the-next-web', 'name': 'The Next Web'}   \n",
       "7            {'id': 'vice-news', 'name': 'Vice News'}   \n",
       "8        {'id': 'hacker-news', 'name': 'Hacker News'}   \n",
       "9                  {'id': 'recode', 'name': 'Recode'}   \n",
       "\n",
       "                                                title  \\\n",
       "0   Autoplaying video ads will soon invade your Fa...   \n",
       "1   Game shows are coming to Facebook Live as the ...   \n",
       "10  Pod Save America’s Dan Pfeiffer has some advic...   \n",
       "11  Cambridge Analytica whistleblower Christopher ...   \n",
       "12                               FrolloWitchcraft.gif   \n",
       "2   ELEONORA BRIGLIADORI CONTRO NADIA TOFFA, ESCLU...   \n",
       "3   Amid Border Controversy, State Department Draw...   \n",
       "4   Mark Zuckerberg asks Facebook users to donate ...   \n",
       "5   Cucchi: Trenta, parlerò con Casamassima - Ulti...   \n",
       "6      Facebook updates Video with trivia and polling   \n",
       "7   Pro-Trump Republican Corey Stewart benefited f...   \n",
       "8                          facebookresearch/DensePose   \n",
       "9   Facebook is putting autoplay video ads inside ...   \n",
       "\n",
       "                                                  url  \\\n",
       "0   http://mashable.com/2018/06/19/facebook-messen...   \n",
       "1   http://uk.businessinsider.com/facebook-live-ga...   \n",
       "10  https://www.recode.net/2018/6/19/17476898/pod-...   \n",
       "11  https://www.washingtonpost.com/news/the-switch...   \n",
       "12                   https://i.imgur.com/IE2uXow.gifv   \n",
       "2   http://www.ilsussidiario.net/News/Cinema-Telev...   \n",
       "3   https://www.nytimes.com/2018/06/19/world/ameri...   \n",
       "4   http://uk.businessinsider.com/mark-zuckerberg-...   \n",
       "5   http://www.ansa.it/sito/notizie/topnews/2018/0...   \n",
       "6   https://thenextweb.com/facebook/2018/06/19/fac...   \n",
       "7   https://news.vice.com/en_us/article/qvn5dp/pro...   \n",
       "8       https://github.com/facebookresearch/DensePose   \n",
       "9   https://www.recode.net/2018/6/19/17478116/face...   \n",
       "\n",
       "                                           urlToImage  \n",
       "0   https://i.amz.mshcdn.com/3sKeVdQq1C9uHE1y84QHG...  \n",
       "1   http://static3.uk.businessinsider.com/image/5b...  \n",
       "10  https://cdn.vox-cdn.com/thumbor/8XpsmL_03R-I51...  \n",
       "11  https://www.washingtonpost.com/resizer/SQb-YIZ...  \n",
       "12                   https://i.imgur.com/IE2uXowh.jpg  \n",
       "2   http://www.ilsussidiario.net/img/_THUMBWEB/nad...  \n",
       "3   https://static01.nyt.com/images/2018/06/20/wor...  \n",
       "4   http://static3.uk.businessinsider.com/image/5b...  \n",
       "5   http://www.ansa.it/webimages/img_700/2018/6/1/...  \n",
       "6   https://cdn0.tnwcdn.com/wp-content/blogs.dir/1...  \n",
       "7   https://video-images.vice.com/articles/5b2931f...  \n",
       "8   https://avatars1.githubusercontent.com/u/16943...  \n",
       "9   https://cdn.vox-cdn.com/thumbor/itPTGRLt1LW1Vf...  "
      ]
     },
     "execution_count": 155,
     "metadata": {},
     "output_type": "execute_result"
    }
   ],
   "source": [
    "fb_df"
   ]
  },
  {
   "cell_type": "code",
   "execution_count": 153,
   "metadata": {},
   "outputs": [],
   "source": [
    "# [col for col in fb_df['title']]"
   ]
  },
  {
   "cell_type": "code",
   "execution_count": null,
   "metadata": {},
   "outputs": [],
   "source": []
  },
  {
   "cell_type": "code",
   "execution_count": null,
   "metadata": {},
   "outputs": [],
   "source": []
  }
 ],
 "metadata": {
  "kernelspec": {
   "display_name": "Python 3",
   "language": "python",
   "name": "python3"
  },
  "language_info": {
   "codemirror_mode": {
    "name": "ipython",
    "version": 3
   },
   "file_extension": ".py",
   "mimetype": "text/x-python",
   "name": "python",
   "nbconvert_exporter": "python",
   "pygments_lexer": "ipython3",
   "version": "3.6.5"
  }
 },
 "nbformat": 4,
 "nbformat_minor": 2
}
