{
 "cells": [
  {
   "cell_type": "markdown",
   "metadata": {},
   "source": [
    "# Apple, Inc. (AAPL) - Linear Regression Models:\n",
    "\n",
    "\n",
    "### Overview: \n",
    "- 1) Importing the data.\n",
    "- 2) Splitting the data into a Training and Testing Set\n",
    "- 3) Normalizing the data.\n",
    "- 4) Modeling.\n",
    "\n",
    "\n",
    "## Importing Libraries:"
   ]
  },
  {
   "cell_type": "code",
   "execution_count": 1,
   "metadata": {},
   "outputs": [
    {
     "name": "stderr",
     "output_type": "stream",
     "text": [
      "Using TensorFlow backend.\n"
     ]
    }
   ],
   "source": [
    "import pandas as pd\n",
    "import numpy as np\n",
    "import matplotlib.pyplot as plt \n",
    "import seaborn as sns\n",
    "\n",
    "from datetime import datetime\n",
    "\n",
    "from keras.models import Sequential\n",
    "from keras.layers import LSTM, Dense, Activation, Input, Dropout\n",
    "from keras.activations import relu, softmax\n",
    "\n",
    "from sklearn.preprocessing import MinMaxScaler\n",
    "from sklearn.decomposition import PCA\n",
    "from sklearn.ensemble import BaggingRegressor, GradientBoostingRegressor, AdaBoostRegressor\n",
    "\n",
    "%matplotlib inline\n",
    "%config InlineBackend.figure_format = 'retina'"
   ]
  },
  {
   "cell_type": "markdown",
   "metadata": {},
   "source": [
    "-----\n",
    "\n",
    "## Company Name"
   ]
  },
  {
   "cell_type": "code",
   "execution_count": 2,
   "metadata": {},
   "outputs": [],
   "source": [
    "company_name = 'Apple'"
   ]
  },
  {
   "cell_type": "markdown",
   "metadata": {},
   "source": [
    "# Importing the Data\n",
    "\n",
    "## Importing the Whole Data Frame:"
   ]
  },
  {
   "cell_type": "code",
   "execution_count": 19,
   "metadata": {},
   "outputs": [],
   "source": [
    "def data_reader(company_name):\n",
    "    \"\"\" Returns the clean Data corresponding to the company; the data is imported from a CSV. \n",
    "    Additionally, the Date Column is converted to date time and placed as the index. \"\"\"\n",
    "    company_name=company_name\n",
    "    df = pd.read_csv(f'data/{company_name}_Clean.csv')\n",
    "    df['Date'] = pd.to_datetime(df.Date)\n",
    "    df.set_index('Date', inplace=True)\n",
    "    df.sort_index(inplace=True, ascending=True)\n",
    "    return df"
   ]
  },
  {
   "cell_type": "code",
   "execution_count": 20,
   "metadata": {},
   "outputs": [],
   "source": [
    "df = data_reader(company_name)"
   ]
  },
  {
   "cell_type": "code",
   "execution_count": 21,
   "metadata": {},
   "outputs": [
    {
     "data": {
      "text/html": [
       "<div>\n",
       "<style scoped>\n",
       "    .dataframe tbody tr th:only-of-type {\n",
       "        vertical-align: middle;\n",
       "    }\n",
       "\n",
       "    .dataframe tbody tr th {\n",
       "        vertical-align: top;\n",
       "    }\n",
       "\n",
       "    .dataframe thead th {\n",
       "        text-align: right;\n",
       "    }\n",
       "</style>\n",
       "<table border=\"1\" class=\"dataframe\">\n",
       "  <thead>\n",
       "    <tr style=\"text-align: right;\">\n",
       "      <th></th>\n",
       "      <th>Open</th>\n",
       "      <th>High</th>\n",
       "      <th>Low</th>\n",
       "      <th>Close</th>\n",
       "      <th>Volume</th>\n",
       "      <th>Ex_Dividend</th>\n",
       "      <th>Split_Ratio</th>\n",
       "      <th>Adj_Open</th>\n",
       "      <th>Adj_High</th>\n",
       "      <th>Adj_Low</th>\n",
       "      <th>Adj_Close</th>\n",
       "      <th>Adj_Volume</th>\n",
       "    </tr>\n",
       "    <tr>\n",
       "      <th>Date</th>\n",
       "      <th></th>\n",
       "      <th></th>\n",
       "      <th></th>\n",
       "      <th></th>\n",
       "      <th></th>\n",
       "      <th></th>\n",
       "      <th></th>\n",
       "      <th></th>\n",
       "      <th></th>\n",
       "      <th></th>\n",
       "      <th></th>\n",
       "      <th></th>\n",
       "    </tr>\n",
       "  </thead>\n",
       "  <tbody>\n",
       "    <tr>\n",
       "      <th>1980-12-12</th>\n",
       "      <td>28.75</td>\n",
       "      <td>28.87</td>\n",
       "      <td>28.75</td>\n",
       "      <td>28.75</td>\n",
       "      <td>2093900.0</td>\n",
       "      <td>0.0</td>\n",
       "      <td>1.0</td>\n",
       "      <td>0.422706</td>\n",
       "      <td>0.424470</td>\n",
       "      <td>0.422706</td>\n",
       "      <td>0.422706</td>\n",
       "      <td>117258400.0</td>\n",
       "    </tr>\n",
       "    <tr>\n",
       "      <th>1980-12-15</th>\n",
       "      <td>27.38</td>\n",
       "      <td>27.38</td>\n",
       "      <td>27.25</td>\n",
       "      <td>27.25</td>\n",
       "      <td>785200.0</td>\n",
       "      <td>0.0</td>\n",
       "      <td>1.0</td>\n",
       "      <td>0.402563</td>\n",
       "      <td>0.402563</td>\n",
       "      <td>0.400652</td>\n",
       "      <td>0.400652</td>\n",
       "      <td>43971200.0</td>\n",
       "    </tr>\n",
       "    <tr>\n",
       "      <th>1980-12-16</th>\n",
       "      <td>25.37</td>\n",
       "      <td>25.37</td>\n",
       "      <td>25.25</td>\n",
       "      <td>25.25</td>\n",
       "      <td>472000.0</td>\n",
       "      <td>0.0</td>\n",
       "      <td>1.0</td>\n",
       "      <td>0.373010</td>\n",
       "      <td>0.373010</td>\n",
       "      <td>0.371246</td>\n",
       "      <td>0.371246</td>\n",
       "      <td>26432000.0</td>\n",
       "    </tr>\n",
       "  </tbody>\n",
       "</table>\n",
       "</div>"
      ],
      "text/plain": [
       "             Open   High    Low  Close     Volume  Ex_Dividend  Split_Ratio  \\\n",
       "Date                                                                          \n",
       "1980-12-12  28.75  28.87  28.75  28.75  2093900.0          0.0          1.0   \n",
       "1980-12-15  27.38  27.38  27.25  27.25   785200.0          0.0          1.0   \n",
       "1980-12-16  25.37  25.37  25.25  25.25   472000.0          0.0          1.0   \n",
       "\n",
       "            Adj_Open  Adj_High   Adj_Low  Adj_Close   Adj_Volume  \n",
       "Date                                                              \n",
       "1980-12-12  0.422706  0.424470  0.422706   0.422706  117258400.0  \n",
       "1980-12-15  0.402563  0.402563  0.400652   0.400652   43971200.0  \n",
       "1980-12-16  0.373010  0.373010  0.371246   0.371246   26432000.0  "
      ]
     },
     "execution_count": 21,
     "metadata": {},
     "output_type": "execute_result"
    }
   ],
   "source": [
    "df.head(3)"
   ]
  },
  {
   "cell_type": "code",
   "execution_count": 6,
   "metadata": {},
   "outputs": [],
   "source": [
    "# X_train, X_test = df_shift[:'2016-12-30'], df_shift['2017-01-03':]"
   ]
  },
  {
   "cell_type": "markdown",
   "metadata": {},
   "source": [
    "## Importing the Train and Test set:"
   ]
  },
  {
   "cell_type": "code",
   "execution_count": 17,
   "metadata": {},
   "outputs": [],
   "source": [
    "def import_split_data(company_name):\n",
    "    \"\"\" \n",
    "    Returns the Train and Test Set from a CSV. \n",
    "    Additionally, the Date Column is converted to date time and placed as the index. \n",
    "    \"\"\"\n",
    "    company_name=company_name\n",
    "    \n",
    "    X_train = pd.read_csv(f'data/modeling_data/{company_name}_X_Train.csv')    \n",
    "    X_train['Date'] = pd.to_datetime(X_train.Date)\n",
    "    X_train.set_index('Date', inplace=True)\n",
    "    X_train.sort_index(inplace=True, ascending=True)\n",
    "    \n",
    "    X_test = pd.read_csv(f'data/modeling_data/{company_name}_X_Test.csv')\n",
    "    X_test['Date'] = pd.to_datetime(X_test.Date)\n",
    "    X_test.set_index('Date', inplace=True)\n",
    "    X_test.sort_index(inplace=True, ascending=True)\n",
    "    \n",
    "    return X_train, X_test"
   ]
  },
  {
   "cell_type": "code",
   "execution_count": 18,
   "metadata": {},
   "outputs": [],
   "source": [
    "X_train, X_test = import_split_data(company_name)"
   ]
  },
  {
   "cell_type": "markdown",
   "metadata": {},
   "source": [
    "### Inspecting the Training Data Set:"
   ]
  },
  {
   "cell_type": "code",
   "execution_count": 10,
   "metadata": {},
   "outputs": [
    {
     "data": {
      "text/html": [
       "<div>\n",
       "<style scoped>\n",
       "    .dataframe tbody tr th:only-of-type {\n",
       "        vertical-align: middle;\n",
       "    }\n",
       "\n",
       "    .dataframe tbody tr th {\n",
       "        vertical-align: top;\n",
       "    }\n",
       "\n",
       "    .dataframe thead th {\n",
       "        text-align: right;\n",
       "    }\n",
       "</style>\n",
       "<table border=\"1\" class=\"dataframe\">\n",
       "  <thead>\n",
       "    <tr style=\"text-align: right;\">\n",
       "      <th></th>\n",
       "      <th>Open</th>\n",
       "      <th>High</th>\n",
       "      <th>Low</th>\n",
       "      <th>Close</th>\n",
       "      <th>Volume</th>\n",
       "      <th>Ex_Dividend</th>\n",
       "      <th>Split_Ratio</th>\n",
       "      <th>Adj_Open</th>\n",
       "      <th>Adj_High</th>\n",
       "      <th>Adj_Low</th>\n",
       "      <th>...</th>\n",
       "      <th>Low_Long_EMA</th>\n",
       "      <th>Close_Long_EMA</th>\n",
       "      <th>Volume_Long_EMA</th>\n",
       "      <th>Ex_Dividend_Long_EMA</th>\n",
       "      <th>Split_Ratio_Long_EMA</th>\n",
       "      <th>Adj_Open_Long_EMA</th>\n",
       "      <th>Adj_High_Long_EMA</th>\n",
       "      <th>Adj_Low_Long_EMA</th>\n",
       "      <th>Adj_Close_Long_EMA</th>\n",
       "      <th>Adj_Volume_Long_EMA</th>\n",
       "    </tr>\n",
       "    <tr>\n",
       "      <th>Date</th>\n",
       "      <th></th>\n",
       "      <th></th>\n",
       "      <th></th>\n",
       "      <th></th>\n",
       "      <th></th>\n",
       "      <th></th>\n",
       "      <th></th>\n",
       "      <th></th>\n",
       "      <th></th>\n",
       "      <th></th>\n",
       "      <th></th>\n",
       "      <th></th>\n",
       "      <th></th>\n",
       "      <th></th>\n",
       "      <th></th>\n",
       "      <th></th>\n",
       "      <th></th>\n",
       "      <th></th>\n",
       "      <th></th>\n",
       "      <th></th>\n",
       "      <th></th>\n",
       "    </tr>\n",
       "  </thead>\n",
       "  <tbody>\n",
       "    <tr>\n",
       "      <th>1981-04-15</th>\n",
       "      <td>27.88</td>\n",
       "      <td>28.00</td>\n",
       "      <td>27.88</td>\n",
       "      <td>27.88</td>\n",
       "      <td>29700.0</td>\n",
       "      <td>0.0</td>\n",
       "      <td>1.0</td>\n",
       "      <td>0.409914</td>\n",
       "      <td>0.411679</td>\n",
       "      <td>0.409914</td>\n",
       "      <td>...</td>\n",
       "      <td>27.100545</td>\n",
       "      <td>27.100545</td>\n",
       "      <td>395955.964908</td>\n",
       "      <td>0.0</td>\n",
       "      <td>1.0</td>\n",
       "      <td>0.399428</td>\n",
       "      <td>0.400780</td>\n",
       "      <td>0.398454</td>\n",
       "      <td>0.398454</td>\n",
       "      <td>2.217353e+07</td>\n",
       "    </tr>\n",
       "    <tr>\n",
       "      <th>1981-04-16</th>\n",
       "      <td>26.63</td>\n",
       "      <td>26.63</td>\n",
       "      <td>26.50</td>\n",
       "      <td>26.50</td>\n",
       "      <td>152000.0</td>\n",
       "      <td>0.0</td>\n",
       "      <td>1.0</td>\n",
       "      <td>0.391536</td>\n",
       "      <td>0.391536</td>\n",
       "      <td>0.389625</td>\n",
       "      <td>...</td>\n",
       "      <td>27.086579</td>\n",
       "      <td>27.086579</td>\n",
       "      <td>390282.570375</td>\n",
       "      <td>0.0</td>\n",
       "      <td>1.0</td>\n",
       "      <td>0.399245</td>\n",
       "      <td>0.400565</td>\n",
       "      <td>0.398249</td>\n",
       "      <td>0.398249</td>\n",
       "      <td>2.185582e+07</td>\n",
       "    </tr>\n",
       "  </tbody>\n",
       "</table>\n",
       "<p>2 rows × 84 columns</p>\n",
       "</div>"
      ],
      "text/plain": [
       "             Open   High    Low  Close    Volume  Ex_Dividend  Split_Ratio  \\\n",
       "Date                                                                         \n",
       "1981-04-15  27.88  28.00  27.88  27.88   29700.0          0.0          1.0   \n",
       "1981-04-16  26.63  26.63  26.50  26.50  152000.0          0.0          1.0   \n",
       "\n",
       "            Adj_Open  Adj_High   Adj_Low         ...           Low_Long_EMA  \\\n",
       "Date                                             ...                          \n",
       "1981-04-15  0.409914  0.411679  0.409914         ...              27.100545   \n",
       "1981-04-16  0.391536  0.391536  0.389625         ...              27.086579   \n",
       "\n",
       "            Close_Long_EMA  Volume_Long_EMA  Ex_Dividend_Long_EMA  \\\n",
       "Date                                                                \n",
       "1981-04-15       27.100545    395955.964908                   0.0   \n",
       "1981-04-16       27.086579    390282.570375                   0.0   \n",
       "\n",
       "            Split_Ratio_Long_EMA  Adj_Open_Long_EMA  Adj_High_Long_EMA  \\\n",
       "Date                                                                     \n",
       "1981-04-15                   1.0           0.399428           0.400780   \n",
       "1981-04-16                   1.0           0.399245           0.400565   \n",
       "\n",
       "            Adj_Low_Long_EMA  Adj_Close_Long_EMA  Adj_Volume_Long_EMA  \n",
       "Date                                                                   \n",
       "1981-04-15          0.398454            0.398454         2.217353e+07  \n",
       "1981-04-16          0.398249            0.398249         2.185582e+07  \n",
       "\n",
       "[2 rows x 84 columns]"
      ]
     },
     "execution_count": 10,
     "metadata": {},
     "output_type": "execute_result"
    }
   ],
   "source": [
    "X_train.head(2)"
   ]
  },
  {
   "cell_type": "markdown",
   "metadata": {},
   "source": [
    "### Inspecting the Test Data Set:"
   ]
  },
  {
   "cell_type": "code",
   "execution_count": 14,
   "metadata": {},
   "outputs": [
    {
     "data": {
      "text/html": [
       "<div>\n",
       "<style scoped>\n",
       "    .dataframe tbody tr th:only-of-type {\n",
       "        vertical-align: middle;\n",
       "    }\n",
       "\n",
       "    .dataframe tbody tr th {\n",
       "        vertical-align: top;\n",
       "    }\n",
       "\n",
       "    .dataframe thead th {\n",
       "        text-align: right;\n",
       "    }\n",
       "</style>\n",
       "<table border=\"1\" class=\"dataframe\">\n",
       "  <thead>\n",
       "    <tr style=\"text-align: right;\">\n",
       "      <th></th>\n",
       "      <th>Open</th>\n",
       "      <th>High</th>\n",
       "      <th>Low</th>\n",
       "      <th>Close</th>\n",
       "      <th>Volume</th>\n",
       "      <th>Ex_Dividend</th>\n",
       "      <th>Split_Ratio</th>\n",
       "      <th>Adj_Open</th>\n",
       "      <th>Adj_High</th>\n",
       "      <th>Adj_Low</th>\n",
       "      <th>...</th>\n",
       "      <th>Low_Long_EMA</th>\n",
       "      <th>Close_Long_EMA</th>\n",
       "      <th>Volume_Long_EMA</th>\n",
       "      <th>Ex_Dividend_Long_EMA</th>\n",
       "      <th>Split_Ratio_Long_EMA</th>\n",
       "      <th>Adj_Open_Long_EMA</th>\n",
       "      <th>Adj_High_Long_EMA</th>\n",
       "      <th>Adj_Low_Long_EMA</th>\n",
       "      <th>Adj_Close_Long_EMA</th>\n",
       "      <th>Adj_Volume_Long_EMA</th>\n",
       "    </tr>\n",
       "    <tr>\n",
       "      <th>Date</th>\n",
       "      <th></th>\n",
       "      <th></th>\n",
       "      <th></th>\n",
       "      <th></th>\n",
       "      <th></th>\n",
       "      <th></th>\n",
       "      <th></th>\n",
       "      <th></th>\n",
       "      <th></th>\n",
       "      <th></th>\n",
       "      <th></th>\n",
       "      <th></th>\n",
       "      <th></th>\n",
       "      <th></th>\n",
       "      <th></th>\n",
       "      <th></th>\n",
       "      <th></th>\n",
       "      <th></th>\n",
       "      <th></th>\n",
       "      <th></th>\n",
       "      <th></th>\n",
       "    </tr>\n",
       "  </thead>\n",
       "  <tbody>\n",
       "    <tr>\n",
       "      <th>2017-01-03</th>\n",
       "      <td>116.65</td>\n",
       "      <td>117.20</td>\n",
       "      <td>115.43</td>\n",
       "      <td>115.82</td>\n",
       "      <td>30586265.0</td>\n",
       "      <td>0.0</td>\n",
       "      <td>1.0</td>\n",
       "      <td>115.209202</td>\n",
       "      <td>115.752409</td>\n",
       "      <td>114.004271</td>\n",
       "      <td>...</td>\n",
       "      <td>110.936682</td>\n",
       "      <td>111.809549</td>\n",
       "      <td>3.262264e+07</td>\n",
       "      <td>0.006808</td>\n",
       "      <td>1.0</td>\n",
       "      <td>109.969134</td>\n",
       "      <td>110.881942</td>\n",
       "      <td>109.289159</td>\n",
       "      <td>110.149132</td>\n",
       "      <td>3.262266e+07</td>\n",
       "    </tr>\n",
       "    <tr>\n",
       "      <th>2017-01-04</th>\n",
       "      <td>115.80</td>\n",
       "      <td>116.33</td>\n",
       "      <td>114.76</td>\n",
       "      <td>116.15</td>\n",
       "      <td>28781865.0</td>\n",
       "      <td>0.0</td>\n",
       "      <td>1.0</td>\n",
       "      <td>114.369701</td>\n",
       "      <td>114.893155</td>\n",
       "      <td>113.342546</td>\n",
       "      <td>...</td>\n",
       "      <td>111.025596</td>\n",
       "      <td>111.910490</td>\n",
       "      <td>3.253332e+07</td>\n",
       "      <td>0.006650</td>\n",
       "      <td>1.0</td>\n",
       "      <td>110.071473</td>\n",
       "      <td>110.975226</td>\n",
       "      <td>109.383424</td>\n",
       "      <td>110.255324</td>\n",
       "      <td>3.253334e+07</td>\n",
       "    </tr>\n",
       "  </tbody>\n",
       "</table>\n",
       "<p>2 rows × 84 columns</p>\n",
       "</div>"
      ],
      "text/plain": [
       "              Open    High     Low   Close      Volume  Ex_Dividend  \\\n",
       "Date                                                                  \n",
       "2017-01-03  116.65  117.20  115.43  115.82  30586265.0          0.0   \n",
       "2017-01-04  115.80  116.33  114.76  116.15  28781865.0          0.0   \n",
       "\n",
       "            Split_Ratio    Adj_Open    Adj_High     Adj_Low  \\\n",
       "Date                                                          \n",
       "2017-01-03          1.0  115.209202  115.752409  114.004271   \n",
       "2017-01-04          1.0  114.369701  114.893155  113.342546   \n",
       "\n",
       "                   ...           Low_Long_EMA  Close_Long_EMA  \\\n",
       "Date               ...                                          \n",
       "2017-01-03         ...             110.936682      111.809549   \n",
       "2017-01-04         ...             111.025596      111.910490   \n",
       "\n",
       "            Volume_Long_EMA  Ex_Dividend_Long_EMA  Split_Ratio_Long_EMA  \\\n",
       "Date                                                                      \n",
       "2017-01-03     3.262264e+07              0.006808                   1.0   \n",
       "2017-01-04     3.253332e+07              0.006650                   1.0   \n",
       "\n",
       "            Adj_Open_Long_EMA  Adj_High_Long_EMA  Adj_Low_Long_EMA  \\\n",
       "Date                                                                 \n",
       "2017-01-03         109.969134         110.881942        109.289159   \n",
       "2017-01-04         110.071473         110.975226        109.383424   \n",
       "\n",
       "            Adj_Close_Long_EMA  Adj_Volume_Long_EMA  \n",
       "Date                                                 \n",
       "2017-01-03          110.149132         3.262266e+07  \n",
       "2017-01-04          110.255324         3.253334e+07  \n",
       "\n",
       "[2 rows x 84 columns]"
      ]
     },
     "execution_count": 14,
     "metadata": {},
     "output_type": "execute_result"
    }
   ],
   "source": [
    "X_test.head(2)"
   ]
  },
  {
   "cell_type": "markdown",
   "metadata": {},
   "source": [
    "-----\n",
    "\n",
    "# Normalizing the Data with MinMaxScaler\n",
    "\n",
    "## Instantiating the Scaler:"
   ]
  },
  {
   "cell_type": "code",
   "execution_count": 15,
   "metadata": {},
   "outputs": [],
   "source": [
    "def mm_scaler(X_train, X_test, dataframe):\n",
    "    \"\"\"\n",
    "    Returns scaled X_train & X_test data sets using SK-Learn's MinMaxScaler.\n",
    "    Returns a holdout for each train and test data set using the dataframe. \n",
    "    \n",
    "    Parameter\n",
    "    -------------------------------------------------------------------------------------------------------------\n",
    "    X_train : var\n",
    "        Passes a variable assigned to the X_train data set.\n",
    "    \n",
    "    X_test : str\n",
    "        Passes a variable assigned to the X_test data set.\n",
    "    \n",
    "    dataframe : var\n",
    "        Passes a variable assigned to a pandas data frame.\n",
    "    \"\"\"\n",
    "    temp_df = dataframe.copy()\n",
    "    \n",
    "    scaler = MinMaxScaler(feature_range=(-1, 1))\n",
    "    X_train_sc = scaler.fit_transform(X_train.values)\n",
    "    X_test_sc = scaler.transform(X_test.values)\n",
    "    y_train = temp_df[X_train.index[0]:X_train.index[-1]].Close.values\n",
    "    y_test = temp_df[X_test.index[0]:X_test.index[-1]].Close.values\n",
    "    return X_train_sc, X_test_sc, y_train, y_test"
   ]
  },
  {
   "cell_type": "code",
   "execution_count": 16,
   "metadata": {},
   "outputs": [],
   "source": [
    "X_train_sc, X_test_sc, y_train, y_test = mm_scaler(X_train, X_test, df)"
   ]
  },
  {
   "cell_type": "markdown",
   "metadata": {},
   "source": [
    "----\n",
    "\n",
    "# Modeling"
   ]
  },
  {
   "cell_type": "markdown",
   "metadata": {},
   "source": [
    "------\n",
    "\n",
    "# Preparing the Data for an LSTM Model\n",
    "\n",
    "## Turning the Scaled Train Dataset into a 3-Dimensional Shape:"
   ]
  },
  {
   "cell_type": "code",
   "execution_count": null,
   "metadata": {},
   "outputs": [],
   "source": [
    "train_X = np.reshape(X_train_sc, (X_train_sc.shape[0], X_train_sc.shape[1], 1))"
   ]
  },
  {
   "cell_type": "markdown",
   "metadata": {},
   "source": [
    "### Analyzing the Shape:"
   ]
  },
  {
   "cell_type": "code",
   "execution_count": null,
   "metadata": {},
   "outputs": [],
   "source": [
    "print(train_X.shape)"
   ]
  },
  {
   "cell_type": "code",
   "execution_count": null,
   "metadata": {},
   "outputs": [],
   "source": [
    "X_test.shape[1]"
   ]
  },
  {
   "cell_type": "markdown",
   "metadata": {},
   "source": [
    "## Turning the Scaled Test Dataset into a 3-Dimensional Shape:"
   ]
  },
  {
   "cell_type": "code",
   "execution_count": null,
   "metadata": {},
   "outputs": [],
   "source": [
    "test_X = np.reshape(X_test_sc, (X_test_sc.shape[0], X_test_sc.shape[1], 1))"
   ]
  },
  {
   "cell_type": "markdown",
   "metadata": {},
   "source": [
    "### Analyzing the Shape:"
   ]
  },
  {
   "cell_type": "code",
   "execution_count": null,
   "metadata": {},
   "outputs": [],
   "source": [
    "print(test_X.shape)"
   ]
  },
  {
   "cell_type": "code",
   "execution_count": null,
   "metadata": {},
   "outputs": [],
   "source": []
  },
  {
   "cell_type": "code",
   "execution_count": null,
   "metadata": {},
   "outputs": [],
   "source": []
  },
  {
   "cell_type": "markdown",
   "metadata": {},
   "source": [
    "# Time Series Split\n",
    "\n",
    "`TimeSeriesSplit(n_splits=3, max_train_size=None)`\n",
    "\n",
    "A Time Series cross-validator providing both a train and test index to split time series data observed at fixed time intervals. During each split, the test indices must be higher (in time) than before; therefore, random shuffling is inappropriate.\n",
    "\n",
    "A variation of K-Fold; in the $Kth$ split, the model returns the first $K$ folds as train set and the $(k+1)th$ fold as test set. However, unlike the standard cross-validation methods, successive training sets are supersets of those that come before them."
   ]
  },
  {
   "cell_type": "markdown",
   "metadata": {},
   "source": [
    "## Scaling the Data\n",
    "\n",
    "### Fitting and Transforming the Training Set:"
   ]
  },
  {
   "cell_type": "code",
   "execution_count": null,
   "metadata": {},
   "outputs": [],
   "source": [
    "# X_train_scaled = scaler.fit_transform(X.values)"
   ]
  },
  {
   "cell_type": "markdown",
   "metadata": {},
   "source": [
    "### Checking the Shape:"
   ]
  },
  {
   "cell_type": "code",
   "execution_count": null,
   "metadata": {},
   "outputs": [],
   "source": [
    "# X_train_scaled.shape"
   ]
  },
  {
   "cell_type": "code",
   "execution_count": null,
   "metadata": {},
   "outputs": [],
   "source": [
    "# X_train_scaled"
   ]
  },
  {
   "cell_type": "markdown",
   "metadata": {},
   "source": [
    "### Transforming the Prediction Label: "
   ]
  },
  {
   "cell_type": "code",
   "execution_count": null,
   "metadata": {},
   "outputs": [],
   "source": [
    "# X_test_transformed = scaler.transform(test.values)"
   ]
  },
  {
   "cell_type": "markdown",
   "metadata": {},
   "source": [
    "### Checking the Shape:"
   ]
  },
  {
   "cell_type": "code",
   "execution_count": null,
   "metadata": {},
   "outputs": [],
   "source": [
    "# X_test_transformed.shape"
   ]
  },
  {
   "cell_type": "code",
   "execution_count": null,
   "metadata": {},
   "outputs": [],
   "source": [
    "# X_test_transformed"
   ]
  },
  {
   "cell_type": "markdown",
   "metadata": {},
   "source": [
    "## Splitting the Data using TimeSeriesSplit:"
   ]
  },
  {
   "cell_type": "code",
   "execution_count": null,
   "metadata": {},
   "outputs": [],
   "source": [
    "tss = TimeSeriesSplit()  "
   ]
  },
  {
   "cell_type": "code",
   "execution_count": null,
   "metadata": {},
   "outputs": [],
   "source": [
    "for train_index, test_index in tss.split(X_train_sc):\n",
    "    print(\"TRAIN:\", train_index, \"TEST:\", test_index)\n",
    "    X_train, X_test = X_train_sc[train_index], X_train_sc[test_index]\n",
    "    y_train, y_test = X_train_sc[train_index], X_train_sc[test_index]"
   ]
  },
  {
   "cell_type": "markdown",
   "metadata": {},
   "source": [
    "### Inspecting the Shape:"
   ]
  },
  {
   "cell_type": "code",
   "execution_count": null,
   "metadata": {
    "scrolled": true
   },
   "outputs": [],
   "source": [
    "print('Shapes: ', '\\n'\n",
    "    'X_train: ', X_train.shape, '\\n'\n",
    "     'X_test: ', X_test.shape, '\\n'\n",
    "      '\\n'\n",
    "     'y_train: ',y_train.shape, '\\n'\n",
    "      'y_test: ', y_test.shape)"
   ]
  },
  {
   "cell_type": "markdown",
   "metadata": {},
   "source": [
    "------\n",
    "\n",
    "## Preparing the Data for an LSTM Model\n",
    "\n",
    "### Turning the Scaled Train Dataset into a 3-Dimensional Shape:"
   ]
  },
  {
   "cell_type": "code",
   "execution_count": null,
   "metadata": {},
   "outputs": [],
   "source": [
    "train_X = np.reshape(X_train, (X_train.shape[0], X_train.shape[1], 1)) \n",
    "## Or should the X_train be replaced with X_train_scaled\n",
    "train_X.shape"
   ]
  },
  {
   "cell_type": "code",
   "execution_count": null,
   "metadata": {},
   "outputs": [],
   "source": [
    "test_X = np.reshape(X_test, (X_test.shape[0],  X_test.shape[1], 1))\n",
    "test_X.shape"
   ]
  },
  {
   "cell_type": "code",
   "execution_count": null,
   "metadata": {},
   "outputs": [],
   "source": [
    "# train_y = np.reshape(y_train, (y_train.shape[0], 1, y_train.shape[1])) \n",
    "# ## Or should the X_train be replaced with X_train_scaled\n",
    "# train_y.shape"
   ]
  },
  {
   "cell_type": "code",
   "execution_count": null,
   "metadata": {},
   "outputs": [],
   "source": [
    "# test_y = np.reshape(y_test, (y_test.shape[0], 1, y_test.shape[1]))\n",
    "# test_y.shape"
   ]
  },
  {
   "cell_type": "code",
   "execution_count": null,
   "metadata": {},
   "outputs": [],
   "source": [
    "print(train_X.shape,\n",
    "y_train.shape,\n",
    "test_X.shape,\n",
    "y_test.shape)"
   ]
  },
  {
   "cell_type": "markdown",
   "metadata": {},
   "source": [
    "## LSTM Model"
   ]
  },
  {
   "cell_type": "code",
   "execution_count": null,
   "metadata": {
    "scrolled": true
   },
   "outputs": [],
   "source": [
    "np.random.seed(42)\n",
    "\n",
    "model = Sequential()\n",
    "model.add(LSTM(input_shape = (84, 1), output_dim = 1, return_sequences = True))\n",
    "model.add(Dropout(0.5))\n",
    "\n",
    "model.add(LSTM(84))\n",
    "model.add(Dropout(0.5))\n",
    "model.add(Dense(10))\n",
    "\n",
    "model.add(Activation(\"relu\"))\n",
    "model.compile(loss=\"mse\", optimizer=\"adam\")\n",
    "model.summary()"
   ]
  },
  {
   "cell_type": "code",
   "execution_count": null,
   "metadata": {},
   "outputs": [],
   "source": [
    "# for i in range(84):\n",
    "#     model.fit(train_X, y_train,  \n",
    "#           epochs=1, verbose=1, shuffle=False)\n",
    "#     model.reset_states()"
   ]
  },
  {
   "cell_type": "code",
   "execution_count": null,
   "metadata": {},
   "outputs": [],
   "source": []
  },
  {
   "cell_type": "code",
   "execution_count": null,
   "metadata": {},
   "outputs": [],
   "source": []
  }
 ],
 "metadata": {
  "kernelspec": {
   "display_name": "Python 3",
   "language": "python",
   "name": "python3"
  },
  "language_info": {
   "codemirror_mode": {
    "name": "ipython",
    "version": 3
   },
   "file_extension": ".py",
   "mimetype": "text/x-python",
   "name": "python",
   "nbconvert_exporter": "python",
   "pygments_lexer": "ipython3",
   "version": "3.6.5"
  }
 },
 "nbformat": 4,
 "nbformat_minor": 2
}
