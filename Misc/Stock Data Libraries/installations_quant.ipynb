{
 "cells": [
  {
   "cell_type": "markdown",
   "metadata": {},
   "source": [
    "# Quantopian\n",
    "\n",
    "https://www.quantopian.com/help#overview-datasources\n",
    "\n",
    "https://github.com/quantopian/zipline\n",
    "\n",
    "https://docs.quandl.com/docs#section-authentication\n",
    "\n",
    "http://www.zipline.io/\n",
    "\n",
    "9tQnPMV9zakeCm4K6S5X"
   ]
  },
  {
   "cell_type": "code",
   "execution_count": 4,
   "metadata": {},
   "outputs": [
    {
     "name": "stdout",
     "output_type": "stream",
     "text": [
      "Collecting zipline\n",
      "\u001b[?25l  Downloading https://files.pythonhosted.org/packages/15/d3/689f2a940478b82ac57c751a40460598221fd82b0449a7a8f7eef47a3bcc/zipline-1.2.0.tar.gz (659kB)\n",
      "\u001b[K    100% |████████████████████████████████| 665kB 471kB/s ta 0:00:01\n",
      "\u001b[?25hRequirement already satisfied: pip>=7.1.0 in /Users/adamdelreal/anaconda3/envs/tensorflow/lib/python3.6/site-packages (from zipline) (10.0.1)\n",
      "Requirement already satisfied: setuptools>18.0 in /Users/adamdelreal/anaconda3/envs/tensorflow/lib/python3.6/site-packages (from zipline) (39.2.0)\n",
      "Collecting Logbook>=0.12.5 (from zipline)\n",
      "\u001b[?25l  Downloading https://files.pythonhosted.org/packages/36/4b/b610bee18d5cfc4cec7dde056639994e9b34991e4c57816bfff0f3d0ac33/Logbook-1.4.0.tar.gz (84kB)\n",
      "\u001b[K    100% |████████████████████████████████| 92kB 452kB/s ta 0:00:01\n",
      "\u001b[?25hRequirement already satisfied: pytz>=2016.4 in /Users/adamdelreal/anaconda3/envs/tensorflow/lib/python3.6/site-packages (from zipline) (2018.4)\n",
      "Requirement already satisfied: numpy>=1.11.1 in /Users/adamdelreal/anaconda3/envs/tensorflow/lib/python3.6/site-packages (from zipline) (1.14.3)\n",
      "Requirement already satisfied: requests-file>=1.4.1 in /Users/adamdelreal/anaconda3/envs/tensorflow/lib/python3.6/site-packages (from zipline) (1.4.3)\n",
      "Requirement already satisfied: scipy>=0.17.1 in /Users/adamdelreal/anaconda3/envs/tensorflow/lib/python3.6/site-packages (from zipline) (1.1.0)\n",
      "Collecting pandas<0.19,>=0.18.1 (from zipline)\n",
      "\u001b[?25l  Downloading https://files.pythonhosted.org/packages/11/09/e66eb844daba8680ddff26335d5b4fead77f60f957678243549a8dd4830d/pandas-0.18.1.tar.gz (7.3MB)\n",
      "\u001b[K    100% |████████████████████████████████| 7.3MB 459kB/s ta 0:00:01\n",
      "\u001b[?25hCollecting pandas-datareader<0.6,>=0.2.1 (from zipline)\n",
      "\u001b[?25l  Downloading https://files.pythonhosted.org/packages/40/c5/cc720f531bbde0efeab940de400d0fcc95e87770a3abcd7f90d6d52a3302/pandas_datareader-0.5.0-py2.py3-none-any.whl (74kB)\n",
      "\u001b[K    100% |████████████████████████████████| 81kB 465kB/s ta 0:00:01\n",
      "\u001b[?25hCollecting patsy>=0.4.0 (from zipline)\n",
      "\u001b[?25l  Downloading https://files.pythonhosted.org/packages/5d/eb/92c4b45ca47a2dd1339c958636e083b50ffadb5162a599a1cbbe92f89832/patsy-0.5.0-py2.py3-none-any.whl (232kB)\n",
      "\u001b[K    100% |████████████████████████████████| 235kB 487kB/s ta 0:00:01\n",
      "\u001b[?25hCollecting statsmodels>=0.6.1 (from zipline)\n",
      "\u001b[?25l  Downloading https://files.pythonhosted.org/packages/29/df/1f8233500d8bb90f16fd066560f3805197e568af611ca97eddd5fb81b012/statsmodels-0.9.0-cp36-cp36m-macosx_10_6_intel.macosx_10_9_intel.macosx_10_9_x86_64.macosx_10_10_intel.macosx_10_10_x86_64.whl (9.6MB)\n",
      "\u001b[K    100% |████████████████████████████████| 9.6MB 397kB/s ta 0:00:01\n",
      "\u001b[?25hRequirement already satisfied: python-dateutil>=2.4.2 in /Users/adamdelreal/anaconda3/envs/tensorflow/lib/python3.6/site-packages (from zipline) (2.7.3)\n",
      "Requirement already satisfied: six>=1.10.0 in /Users/adamdelreal/anaconda3/envs/tensorflow/lib/python3.6/site-packages (from zipline) (1.11.0)\n",
      "Requirement already satisfied: requests>=2.9.1 in /Users/adamdelreal/anaconda3/envs/tensorflow/lib/python3.6/site-packages (from zipline) (2.18.4)\n",
      "Collecting Cython>=0.25.2 (from zipline)\n",
      "\u001b[?25l  Downloading https://files.pythonhosted.org/packages/90/f3/45726cd4e63233043ff4ad3ff25df7a74f52fe90477af240054113af2ccb/Cython-0.28.3-cp36-cp36m-macosx_10_6_intel.macosx_10_9_intel.macosx_10_9_x86_64.macosx_10_10_intel.macosx_10_10_x86_64.whl (5.2MB)\n",
      "\u001b[K    100% |████████████████████████████████| 5.2MB 421kB/s ta 0:00:01\n",
      "\u001b[?25hCollecting cyordereddict>=0.2.2 (from zipline)\n",
      "\u001b[?25l  Downloading https://files.pythonhosted.org/packages/d1/1a/364cbfd927be1b743c7f0a985a7f1f7e8a51469619f9fefe4ee9240ba210/cyordereddict-1.0.0.tar.gz (138kB)\n",
      "\u001b[K    100% |████████████████████████████████| 143kB 464kB/s ta 0:00:01\n",
      "\u001b[?25hCollecting bottleneck>=1.0.0 (from zipline)\n",
      "\u001b[?25l  Downloading https://files.pythonhosted.org/packages/05/ae/cedf5323f398ab4e4ff92d6c431a3e1c6a186f9b41ab3e8258dff786a290/Bottleneck-1.2.1.tar.gz (105kB)\n",
      "\u001b[K    100% |████████████████████████████████| 112kB 467kB/s ta 0:00:01\n",
      "\u001b[?25hCollecting contextlib2>=0.4.0 (from zipline)\n",
      "  Downloading https://files.pythonhosted.org/packages/a2/71/8273a7eeed0aff6a854237ab5453bc9aa67deb49df4832801c21f0ff3782/contextlib2-0.5.5-py2.py3-none-any.whl\n",
      "Requirement already satisfied: decorator>=4.0.0 in /Users/adamdelreal/anaconda3/envs/tensorflow/lib/python3.6/site-packages (from zipline) (4.3.0)\n",
      "Collecting networkx<2.0,>=1.9.1 (from zipline)\n",
      "\u001b[?25l  Downloading https://files.pythonhosted.org/packages/d3/2c/e473e54afc9fae58dfa97066ef6709a7e35a1dd1c28c5a3842989322be00/networkx-1.11-py2.py3-none-any.whl (1.3MB)\n",
      "\u001b[K    100% |████████████████████████████████| 1.3MB 440kB/s ta 0:00:01\n",
      "\u001b[?25hRequirement already satisfied: numexpr>=2.6.1 in /Users/adamdelreal/anaconda3/envs/tensorflow/lib/python3.6/site-packages (from zipline) (2.6.5)\n",
      "Collecting bcolz<1,>=0.12.1 (from zipline)\n",
      "\u001b[?25l  Downloading https://files.pythonhosted.org/packages/6c/8b/1ffa01f872cac36173c5eb95b58c01040d8d25f1b242c48577f4104cd3ab/bcolz-0.12.1.tar.gz (622kB)\n",
      "\u001b[K    100% |████████████████████████████████| 624kB 414kB/s ta 0:00:01\n",
      "\u001b[?25hCollecting click>=4.0.0 (from zipline)\n",
      "  Using cached https://files.pythonhosted.org/packages/34/c1/8806f99713ddb993c5366c362b2f908f18269f8d792aff1abfd700775a77/click-6.7-py2.py3-none-any.whl\n",
      "Collecting toolz>=0.8.2 (from zipline)\n",
      "\u001b[?25l  Downloading https://files.pythonhosted.org/packages/14/d0/a73c15bbeda3d2e7b381a36afb0d9cd770a9f4adc5d1532691013ba881db/toolz-0.9.0.tar.gz (45kB)\n",
      "\u001b[K    100% |████████████████████████████████| 51kB 452kB/s ta 0:00:01\n",
      "\u001b[?25hCollecting multipledispatch>=0.4.8 (from zipline)\n",
      "  Downloading https://files.pythonhosted.org/packages/d1/0d/0d51971308af74de1a3a66e52cb518cb14c3fa9b0c6736105eacf77d2d09/multipledispatch-0.5.0-py2.py3-none-any.whl\n",
      "Requirement already satisfied: MarkupSafe>=0.23 in /Users/adamdelreal/anaconda3/envs/tensorflow/lib/python3.6/site-packages (from zipline) (1.0)\n",
      "Collecting Mako>=1.0.1 (from zipline)\n",
      "\u001b[?25l  Downloading https://files.pythonhosted.org/packages/eb/f3/67579bb486517c0d49547f9697e36582cd19dafb5df9e687ed8e22de57fa/Mako-1.0.7.tar.gz (564kB)\n",
      "\u001b[K    100% |████████████████████████████████| 573kB 453kB/s ta 0:00:01\n",
      "\u001b[?25hCollecting sqlalchemy>=1.0.8 (from zipline)\n",
      "\u001b[?25l  Downloading https://files.pythonhosted.org/packages/b4/9c/411a9bac1a471bed54ec447dc183aeed12a75c1b648307e18b56e3829363/SQLAlchemy-1.2.8.tar.gz (5.6MB)\n",
      "\u001b[K    100% |████████████████████████████████| 5.6MB 443kB/s ta 0:00:01\n",
      "\u001b[?25hCollecting alembic>=0.7.7 (from zipline)\n",
      "\u001b[?25l  Downloading https://files.pythonhosted.org/packages/89/03/756d5b8e1c90bf283c3f435766aa3f20208d1c3887579dd8f2122e01d5f4/alembic-0.9.9.tar.gz (1.0MB)\n",
      "\u001b[K    100% |████████████████████████████████| 1.0MB 427kB/s ta 0:00:01\n",
      "\u001b[?25hCollecting sortedcontainers>=1.4.4 (from zipline)\n",
      "  Downloading https://files.pythonhosted.org/packages/cb/53/fe764fc8042e13245b50c4032fb2f857bc1e502aaca83063dcdf6b94d223/sortedcontainers-2.0.4-py2.py3-none-any.whl\n",
      "Collecting intervaltree>=2.1.0 (from zipline)\n",
      "  Downloading https://files.pythonhosted.org/packages/ca/c1/450d109b70fa58ca9d77972b02f69222412f9175ccf99fdeaf167be9583c/intervaltree-2.1.0.tar.gz\n",
      "Collecting lru-dict>=1.1.4 (from zipline)\n",
      "  Downloading https://files.pythonhosted.org/packages/00/a5/32ed6e10246cd341ca8cc205acea5d208e4053f48a4dced2b1b31d45ba3f/lru-dict-1.1.6.tar.gz\n",
      "Collecting empyrical>=0.4.2 (from zipline)\n",
      "\u001b[?25l  Downloading https://files.pythonhosted.org/packages/7b/55/a01b05162b764830dbbac868462f44cd847a5b6523a01ca9f955721819da/empyrical-0.5.0.tar.gz (49kB)\n",
      "\u001b[K    100% |████████████████████████████████| 51kB 422kB/s ta 0:00:01\n",
      "\u001b[?25hCollecting tables>=3.3.0 (from zipline)\n",
      "\u001b[?25l  Downloading https://files.pythonhosted.org/packages/bc/5f/79643d50fcf927dcd4b3bd118062550fdcfbd247d63cad1dfb305c6852b5/tables-3.4.4-cp36-cp36m-macosx_10_6_intel.macosx_10_9_intel.macosx_10_9_x86_64.macosx_10_10_intel.macosx_10_10_x86_64.whl (7.0MB)\n",
      "\u001b[K    100% |████████████████████████████████| 7.0MB 369kB/s ta 0:00:01\n",
      "\u001b[?25hRequirement already satisfied: requests-ftp in /Users/adamdelreal/anaconda3/envs/tensorflow/lib/python3.6/site-packages (from pandas-datareader<0.6,>=0.2.1->zipline) (0.3.1)\n",
      "Requirement already satisfied: certifi>=2017.4.17 in /Users/adamdelreal/anaconda3/envs/tensorflow/lib/python3.6/site-packages (from requests>=2.9.1->zipline) (2018.4.16)\n",
      "Requirement already satisfied: chardet<3.1.0,>=3.0.2 in /Users/adamdelreal/anaconda3/envs/tensorflow/lib/python3.6/site-packages (from requests>=2.9.1->zipline) (3.0.4)\n",
      "Requirement already satisfied: urllib3<1.23,>=1.21.1 in /Users/adamdelreal/anaconda3/envs/tensorflow/lib/python3.6/site-packages (from requests>=2.9.1->zipline) (1.22)\n",
      "Requirement already satisfied: idna<2.7,>=2.5 in /Users/adamdelreal/anaconda3/envs/tensorflow/lib/python3.6/site-packages (from requests>=2.9.1->zipline) (2.6)\n",
      "Collecting python-editor>=0.3 (from alembic>=0.7.7->zipline)\n"
     ]
    },
    {
     "name": "stdout",
     "output_type": "stream",
     "text": [
      "  Downloading https://files.pythonhosted.org/packages/65/1e/adf6e000ea5dc909aa420352d6ba37f16434c8a3c2fa030445411a1ed545/python-editor-1.0.3.tar.gz\n",
      "Building wheels for collected packages: zipline, Logbook, pandas, cyordereddict, bottleneck, bcolz, toolz, Mako, sqlalchemy, alembic, intervaltree, lru-dict, empyrical, python-editor\n",
      "  Running setup.py bdist_wheel for zipline ... \u001b[?25ldone\n",
      "\u001b[?25h  Stored in directory: /Users/adamdelreal/Library/Caches/pip/wheels/5d/20/7d/b48368c8634b1cb6cc7232833b2780a265d4217c0ad2e3d24c\n",
      "  Running setup.py bdist_wheel for Logbook ... \u001b[?25ldone\n",
      "\u001b[?25h  Stored in directory: /Users/adamdelreal/Library/Caches/pip/wheels/3a/50/0d/b67da0bb2a56061970cdf37a5e95fb07d9106200f33044616e\n",
      "  Running setup.py bdist_wheel for pandas ... \u001b[?25ldone\n",
      "\u001b[?25h  Stored in directory: /Users/adamdelreal/Library/Caches/pip/wheels/a3/08/c3/8fdd52954d4b415624cff43c6dd32a22bac90306976a98f4af\n",
      "  Running setup.py bdist_wheel for cyordereddict ... \u001b[?25ldone\n",
      "\u001b[?25h  Stored in directory: /Users/adamdelreal/Library/Caches/pip/wheels/0b/9d/8b/5bf3e22c1edd59b50f11bb19dec9dfcfe5a479fc7ace02b61f\n",
      "  Running setup.py bdist_wheel for bottleneck ... \u001b[?25ldone\n",
      "\u001b[?25h  Stored in directory: /Users/adamdelreal/Library/Caches/pip/wheels/f2/bf/ec/e0f39aa27001525ad455139ee57ec7d0776fe074dfd78c97e4\n",
      "  Running setup.py bdist_wheel for bcolz ... \u001b[?25ldone\n",
      "\u001b[?25h  Stored in directory: /Users/adamdelreal/Library/Caches/pip/wheels/c5/cc/1b/2cf1f88959af5d7f4d449b7fc6c9452d0ecbd86fd61a9ee376\n",
      "  Running setup.py bdist_wheel for toolz ... \u001b[?25ldone\n",
      "\u001b[?25h  Stored in directory: /Users/adamdelreal/Library/Caches/pip/wheels/f4/0c/f6/ce6b2d1aa459ee97cc3c0f82236302bd62d89c86c700219463\n",
      "  Running setup.py bdist_wheel for Mako ... \u001b[?25ldone\n",
      "\u001b[?25h  Stored in directory: /Users/adamdelreal/Library/Caches/pip/wheels/15/35/25/dbcb848832ccb1a4b4ad23f529badfd3bce9bf88017f7ca510\n",
      "  Running setup.py bdist_wheel for sqlalchemy ... \u001b[?25ldone\n",
      "\u001b[?25h  Stored in directory: /Users/adamdelreal/Library/Caches/pip/wheels/df/fc/61/df2f43ec3f11f864554bdc006a866a3ffffa59740bcf3674ef\n",
      "  Running setup.py bdist_wheel for alembic ... \u001b[?25ldone\n",
      "\u001b[?25h  Stored in directory: /Users/adamdelreal/Library/Caches/pip/wheels/a4/8c/02/3d1795469c7fa5754f12da16847f0dc8748139edba921d8d46\n",
      "  Running setup.py bdist_wheel for intervaltree ... \u001b[?25ldone\n",
      "\u001b[?25h  Stored in directory: /Users/adamdelreal/Library/Caches/pip/wheels/6b/cf/b0/f7ef2d0f504d26f3e9e70c2369e5725591ccfaf67d528fcbc5\n",
      "  Running setup.py bdist_wheel for lru-dict ... \u001b[?25ldone\n",
      "\u001b[?25h  Stored in directory: /Users/adamdelreal/Library/Caches/pip/wheels/b7/ef/06/fbdd555907a7d438fb33e4c8675f771ff1cf41917284c51ebf\n",
      "  Running setup.py bdist_wheel for empyrical ... \u001b[?25ldone\n",
      "\u001b[?25h  Stored in directory: /Users/adamdelreal/Library/Caches/pip/wheels/83/14/73/34fb27552601518d28bd0813d75124be76d94ab29152c69112\n",
      "  Running setup.py bdist_wheel for python-editor ... \u001b[?25ldone\n",
      "\u001b[?25h  Stored in directory: /Users/adamdelreal/Library/Caches/pip/wheels/36/e0/98/ba386b125a00ea9dd52e2c16aa2ec0adbbd639b84bfe2e001d\n",
      "Successfully built zipline Logbook pandas cyordereddict bottleneck bcolz toolz Mako sqlalchemy alembic intervaltree lru-dict empyrical python-editor\n",
      "\u001b[31mtensorboard 1.8.0 has requirement bleach==1.5.0, but you'll have bleach 2.1.3 which is incompatible.\u001b[0m\n",
      "\u001b[31mtensorboard 1.8.0 has requirement html5lib==0.9999999, but you'll have html5lib 1.0.1 which is incompatible.\u001b[0m\n",
      "\u001b[31miexfinance 0.3.3 has requirement pandas==0.21.0, but you'll have pandas 0.18.1 which is incompatible.\u001b[0m\n",
      "\u001b[31miex 0.0.1 has requirement pandas>=0.22.0, but you'll have pandas 0.18.1 which is incompatible.\u001b[0m\n",
      "Installing collected packages: Logbook, pandas, pandas-datareader, patsy, statsmodels, Cython, cyordereddict, bottleneck, contextlib2, networkx, bcolz, click, toolz, multipledispatch, Mako, sqlalchemy, python-editor, alembic, sortedcontainers, intervaltree, lru-dict, empyrical, tables, zipline\n",
      "  Found existing installation: pandas 0.23.1\n",
      "    Uninstalling pandas-0.23.1:\n",
      "      Successfully uninstalled pandas-0.23.1\n",
      "  Found existing installation: pandas-datareader 0.6.0\n",
      "    Uninstalling pandas-datareader-0.6.0:\n",
      "      Successfully uninstalled pandas-datareader-0.6.0\n",
      "Successfully installed Cython-0.28.3 Logbook-1.4.0 Mako-1.0.7 alembic-0.9.9 bcolz-0.12.1 bottleneck-1.2.1 click-6.7 contextlib2-0.5.5 cyordereddict-1.0.0 empyrical-0.5.0 intervaltree-2.1.0 lru-dict-1.1.6 multipledispatch-0.5.0 networkx-1.11 pandas-0.18.1 pandas-datareader-0.5.0 patsy-0.5.0 python-editor-1.0.3 sortedcontainers-2.0.4 sqlalchemy-1.2.8 statsmodels-0.9.0 tables-3.4.4 toolz-0.9.0 zipline-1.2.0\n"
     ]
    }
   ],
   "source": [
    "# ! pip install zipline"
   ]
  },
  {
   "cell_type": "code",
   "execution_count": 1,
   "metadata": {},
   "outputs": [
    {
     "name": "stdout",
     "output_type": "stream",
     "text": [
      "Collecting quandl\n",
      "  Downloading https://files.pythonhosted.org/packages/47/8c/b61f5c1e9167f4c1c1c2b86991bbbac51a2bd937b36cbc4cc39248dfb2d1/Quandl-3.3.0-py2.py3-none-any.whl\n",
      "Collecting inflection>=0.3.1 (from quandl)\n",
      "  Downloading https://files.pythonhosted.org/packages/d5/35/a6eb45b4e2356fe688b21570864d4aa0d0a880ce387defe9c589112077f8/inflection-0.3.1.tar.gz\n",
      "Collecting pyasn1 (from quandl)\n",
      "  Using cached https://files.pythonhosted.org/packages/a0/70/2c27740f08e477499ce19eefe05dbcae6f19fdc49e9e82ce4768be0643b9/pyasn1-0.4.3-py2.py3-none-any.whl\n",
      "Requirement already satisfied: requests>=2.7.0 in /Users/adamdelreal/anaconda3/envs/tensorflow/lib/python3.6/site-packages (from quandl) (2.18.4)\n",
      "Collecting ndg-httpsclient (from quandl)\n",
      "  Downloading https://files.pythonhosted.org/packages/78/60/1458ed478eb5777498ca57f4fabf2cf9328ac43e5f6db7839cf73704f3a6/ndg_httpsclient-0.5.0-py3-none-any.whl\n",
      "Requirement already satisfied: pandas>=0.14 in /Users/adamdelreal/anaconda3/envs/tensorflow/lib/python3.6/site-packages (from quandl) (0.18.1)\n",
      "Requirement already satisfied: six in /Users/adamdelreal/anaconda3/envs/tensorflow/lib/python3.6/site-packages (from quandl) (1.11.0)\n",
      "Requirement already satisfied: more-itertools in /Users/adamdelreal/anaconda3/envs/tensorflow/lib/python3.6/site-packages (from quandl) (4.2.0)\n",
      "Requirement already satisfied: numpy>=1.8 in /Users/adamdelreal/anaconda3/envs/tensorflow/lib/python3.6/site-packages (from quandl) (1.14.3)\n",
      "Requirement already satisfied: python-dateutil in /Users/adamdelreal/anaconda3/envs/tensorflow/lib/python3.6/site-packages (from quandl) (2.7.3)\n",
      "Collecting pyOpenSSL (from quandl)\n",
      "\u001b[?25l  Downloading https://files.pythonhosted.org/packages/96/af/9d29e6bd40823061aea2e0574ccb2fcf72bfd6130ce53d32773ec375458c/pyOpenSSL-18.0.0-py2.py3-none-any.whl (53kB)\n",
      "\u001b[K    100% |████████████████████████████████| 61kB 971kB/s ta 0:00:011\n",
      "\u001b[?25hRequirement already satisfied: idna<2.7,>=2.5 in /Users/adamdelreal/anaconda3/envs/tensorflow/lib/python3.6/site-packages (from requests>=2.7.0->quandl) (2.6)\n",
      "Requirement already satisfied: chardet<3.1.0,>=3.0.2 in /Users/adamdelreal/anaconda3/envs/tensorflow/lib/python3.6/site-packages (from requests>=2.7.0->quandl) (3.0.4)\n",
      "Requirement already satisfied: urllib3<1.23,>=1.21.1 in /Users/adamdelreal/anaconda3/envs/tensorflow/lib/python3.6/site-packages (from requests>=2.7.0->quandl) (1.22)\n",
      "Requirement already satisfied: certifi>=2017.4.17 in /Users/adamdelreal/anaconda3/envs/tensorflow/lib/python3.6/site-packages (from requests>=2.7.0->quandl) (2018.4.16)\n",
      "Requirement already satisfied: pytz>=2011k in /Users/adamdelreal/anaconda3/envs/tensorflow/lib/python3.6/site-packages (from pandas>=0.14->quandl) (2018.4)\n",
      "Collecting cryptography>=2.2.1 (from pyOpenSSL->quandl)\n",
      "\u001b[?25l  Downloading https://files.pythonhosted.org/packages/40/87/acdcf84ce6d25a7db1c113f4b9b614fd8d707b7ab56fbf17cf18cd26a627/cryptography-2.2.2-cp34-abi3-macosx_10_6_intel.whl (1.5MB)\n",
      "\u001b[K    100% |████████████████████████████████| 1.5MB 473kB/s ta 0:00:01\n",
      "\u001b[?25hCollecting asn1crypto>=0.21.0 (from cryptography>=2.2.1->pyOpenSSL->quandl)\n",
      "\u001b[?25l  Downloading https://files.pythonhosted.org/packages/ea/cd/35485615f45f30a510576f1a56d1e0a7ad7bd8ab5ed7cdc600ef7cd06222/asn1crypto-0.24.0-py2.py3-none-any.whl (101kB)\n",
      "\u001b[K    100% |████████████████████████████████| 102kB 399kB/s a 0:00:01\n",
      "\u001b[?25hCollecting cffi>=1.7; platform_python_implementation != \"PyPy\" (from cryptography>=2.2.1->pyOpenSSL->quandl)\n",
      "\u001b[?25l  Downloading https://files.pythonhosted.org/packages/8e/be/40b1bc2c3221acdefeb9dab6773d43cda7543ed0d8c8df8768f05af2d01e/cffi-1.11.5-cp36-cp36m-macosx_10_6_intel.whl (241kB)\n",
      "\u001b[K    100% |████████████████████████████████| 245kB 440kB/s ta 0:00:01\n",
      "\u001b[?25hCollecting pycparser (from cffi>=1.7; platform_python_implementation != \"PyPy\"->cryptography>=2.2.1->pyOpenSSL->quandl)\n",
      "\u001b[?25l  Downloading https://files.pythonhosted.org/packages/8c/2d/aad7f16146f4197a11f8e91fb81df177adcc2073d36a17b1491fd09df6ed/pycparser-2.18.tar.gz (245kB)\n",
      "\u001b[K    100% |████████████████████████████████| 256kB 500kB/s ta 0:00:01\n",
      "\u001b[?25hBuilding wheels for collected packages: inflection, pycparser\n",
      "  Running setup.py bdist_wheel for inflection ... \u001b[?25ldone\n",
      "\u001b[?25h  Stored in directory: /Users/adamdelreal/Library/Caches/pip/wheels/9f/5a/d3/6fc3bf6516d2a3eb7e18f9f28b472110b59325f3f258fe9211\n",
      "  Running setup.py bdist_wheel for pycparser ... \u001b[?25ldone\n",
      "\u001b[?25h  Stored in directory: /Users/adamdelreal/Library/Caches/pip/wheels/c0/a1/27/5ba234bd77ea5a290cbf6d675259ec52293193467a12ef1f46\n",
      "Successfully built inflection pycparser\n",
      "\u001b[31mtensorboard 1.8.0 has requirement bleach==1.5.0, but you'll have bleach 2.1.3 which is incompatible.\u001b[0m\n",
      "\u001b[31mtensorboard 1.8.0 has requirement html5lib==0.9999999, but you'll have html5lib 1.0.1 which is incompatible.\u001b[0m\n",
      "\u001b[31miexfinance 0.3.3 has requirement pandas==0.21.0, but you'll have pandas 0.18.1 which is incompatible.\u001b[0m\n",
      "\u001b[31miex 0.0.1 has requirement pandas>=0.22.0, but you'll have pandas 0.18.1 which is incompatible.\u001b[0m\n",
      "Installing collected packages: inflection, pyasn1, asn1crypto, pycparser, cffi, cryptography, pyOpenSSL, ndg-httpsclient, quandl\n",
      "Successfully installed asn1crypto-0.24.0 cffi-1.11.5 cryptography-2.2.2 inflection-0.3.1 ndg-httpsclient-0.5.0 pyOpenSSL-18.0.0 pyasn1-0.4.3 pycparser-2.18 quandl-3.3.0\n"
     ]
    }
   ],
   "source": [
    "! pip install quandl"
   ]
  },
  {
   "cell_type": "code",
   "execution_count": 12,
   "metadata": {},
   "outputs": [
    {
     "name": "stdout",
     "output_type": "stream",
     "text": [
      "/bin/sh: 9tQnPMV9zakeCm4K6S5X: No such file or directory\n",
      "Usage: zipline run [OPTIONS]\n",
      "\n",
      "Error: Invalid value for \"-f\" / \"--algofile\": Could not open file: dual_moving_average.py: No such file or directory\n"
     ]
    }
   ],
   "source": [
    "# ! QUANDL_API_KEY=<9tQnPMV9zakeCm4K6S5X> zipline ingest -b quandl\n",
    "# ! zipline run -f dual_moving_average.py --start 2014-1-1 --end 2018-1-1 -o dma.pickle"
   ]
  },
  {
   "cell_type": "code",
   "execution_count": 5,
   "metadata": {},
   "outputs": [],
   "source": [
    "from zipline.api import order_target, record, symbol\n",
    "\n",
    "def initialize(context):\n",
    "    context.i = 0\n",
    "    context.asset = symbol('AAPL')"
   ]
  },
  {
   "cell_type": "code",
   "execution_count": 7,
   "metadata": {},
   "outputs": [
    {
     "ename": "ModuleNotFoundError",
     "evalue": "No module named 'quantopian'",
     "output_type": "error",
     "traceback": [
      "\u001b[0;31m---------------------------------------------------------------------------\u001b[0m",
      "\u001b[0;31mModuleNotFoundError\u001b[0m                       Traceback (most recent call last)",
      "\u001b[0;32m<ipython-input-7-6afe85d79332>\u001b[0m in \u001b[0;36m<module>\u001b[0;34m()\u001b[0m\n\u001b[0;32m----> 1\u001b[0;31m \u001b[0;32mfrom\u001b[0m \u001b[0mquantopian\u001b[0m\u001b[0;34m.\u001b[0m\u001b[0mresearch\u001b[0m \u001b[0;32mimport\u001b[0m \u001b[0mprices\u001b[0m\u001b[0;34m,\u001b[0m \u001b[0msymbols\u001b[0m\u001b[0;34m\u001b[0m\u001b[0m\n\u001b[0m",
      "\u001b[0;31mModuleNotFoundError\u001b[0m: No module named 'quantopian'"
     ]
    }
   ],
   "source": [
    "from quantopian.research import prices, symbols"
   ]
  },
  {
   "cell_type": "code",
   "execution_count": 11,
   "metadata": {},
   "outputs": [
    {
     "name": "stdout",
     "output_type": "stream",
     "text": [
      "\r\n",
      "     active environment : tensorflow\r\n",
      "    active env location : /Users/adamdelreal/anaconda3/envs/tensorflow\r\n",
      "            shell level : 1\r\n",
      "       user config file : /Users/adamdelreal/.condarc\r\n",
      " populated config files : /Users/adamdelreal/.condarc\r\n",
      "          conda version : 4.5.4\r\n",
      "    conda-build version : 3.4.1\r\n",
      "         python version : 3.6.4.final.0\r\n",
      "       base environment : /Users/adamdelreal/anaconda3  (writable)\r\n",
      "           channel URLs : https://repo.anaconda.com/pkgs/main/osx-64\r\n",
      "                          https://repo.anaconda.com/pkgs/main/noarch\r\n",
      "                          https://repo.anaconda.com/pkgs/free/osx-64\r\n",
      "                          https://repo.anaconda.com/pkgs/free/noarch\r\n",
      "                          https://repo.anaconda.com/pkgs/r/osx-64\r\n",
      "                          https://repo.anaconda.com/pkgs/r/noarch\r\n",
      "                          https://repo.anaconda.com/pkgs/pro/osx-64\r\n",
      "                          https://repo.anaconda.com/pkgs/pro/noarch\r\n",
      "          package cache : /Users/adamdelreal/anaconda3/pkgs\r\n",
      "                          /Users/adamdelreal/.conda/pkgs\r\n",
      "       envs directories : /Users/adamdelreal/anaconda3/envs\r\n",
      "                          /Users/adamdelreal/.conda/envs\r\n",
      "               platform : osx-64\r\n",
      "             user-agent : conda/4.5.4 requests/2.18.4 CPython/3.6.4 Darwin/17.5.0 OSX/10.13.4\r\n",
      "                UID:GID : 501:20\r\n",
      "             netrc file : None\r\n",
      "           offline mode : False\r\n",
      "\r\n"
     ]
    }
   ],
   "source": [
    "! conda info"
   ]
  },
  {
   "cell_type": "code",
   "execution_count": null,
   "metadata": {},
   "outputs": [],
   "source": []
  }
 ],
 "metadata": {
  "kernelspec": {
   "display_name": "Python 3",
   "language": "python",
   "name": "python3"
  },
  "language_info": {
   "codemirror_mode": {
    "name": "ipython",
    "version": 3
   },
   "file_extension": ".py",
   "mimetype": "text/x-python",
   "name": "python",
   "nbconvert_exporter": "python",
   "pygments_lexer": "ipython3",
   "version": "3.6.5"
  }
 },
 "nbformat": 4,
 "nbformat_minor": 2
}
